{
 "cells": [
  {
   "cell_type": "markdown",
   "id": "6a8b8e54-9f44-4a8d-874a-51d81c5236a3",
   "metadata": {},
   "source": [
    "# Working on Rental Housing Price data\n",
    "About Dataset\n",
    "This dataset provides comprehensive information about rental house prices across various locations in India. It includes details such as house type, size, location, city, latitude, longitude, price, currency, number of bathrooms, number of balconies, negotiability of price, price per square foot, verification date, description of the property, security deposit, and status of furnishing (furnished, unfurnished, semi-furnished).\n",
    "\n",
    "Note This is Recently scraped data of April 2024.\n",
    "\n",
    "Dataset Glossary (Column-Wise)\n",
    "\n",
    "Column                                                                                       \tMeaning\n",
    "\n",
    "House Type\t                                                               |   Type of house (e.g., apartment, villa, duplex).\n",
    "                                                                        \n",
    "House Size\t                                                                 Size of the house in square feet or square meters.\n",
    "\n",
    "Location\t                                                                  Specific area or neighborhood where the property is located.\n",
    "\n",
    "City\tCity in India where the property is situated.\n",
    "\n",
    "Latitude\tGeographic latitude coordinates of the property location.\n",
    "\n",
    "Longitude\tGeographic longitude coordinates of the property location.\n",
    "\n",
    "Price\tRental price of the house.\n",
    "\n",
    "Currency\tCurrency in which the price is denoted (e.g., INR - Indian Rupees).\n",
    "\n",
    "Number of Bathrooms\tTotal number of bathrooms in the house.\n",
    "\n",
    "Number of Balconies\tTotal number of balconies in the house.\n",
    "\n",
    "Negotiability\tIndicates whether the price is negotiable (Yes/No).\n",
    "\n",
    "Price per Square Foot\tPrice of the house per square foot.\n",
    "\n",
    "Verification Date\tDate when the rental information was verified.\n",
    "\n",
    "Description\tAdditional description or details about the property.\n",
    "\n",
    "Security Deposit\tAmount of security deposit required for renting the property.\n",
    "\n",
    "Status\tIndicates the furnishing status of the property (furnished, unfurnished, semi-furnished).\n",
    "\n",
    "Source: https://www.kaggle.com/datasets/bhavyadhingra00020/india-rental-house-price\n"
   ]
  },
  {
   "cell_type": "markdown",
   "id": "dbea165d-0ede-465a-8520-bbf7729689ef",
   "metadata": {},
   "source": [
    "![Online Image](https://southdelhifinesthomes.com/wp-content/uploads/2022/09/build-a-house-g4358e1fbe_1920.jpg)"
   ]
  },
  {
   "cell_type": "code",
   "execution_count": 85,
   "id": "24b2b885-2c05-4249-b599-dbe85782d751",
   "metadata": {},
   "outputs": [],
   "source": [
    "#built in imports\n",
    "import os\n",
    "import sys\n",
    "\n",
    "#module imports\n",
    "import pandas as pd\n",
    "import plotly.express as px\n",
    "\n",
    "# Setup project environment\n",
    "\n",
    "df=pd.read_csv(r'C:\\Users\\dhamech\\Documents\\DATA ANALYTICS\\data\\raw\\Indian_housing_Delhi_data.csv')\n"
   ]
  },
  {
   "cell_type": "code",
   "execution_count": 86,
   "id": "ec43c1f0-09af-4744-9c2d-44c47a34819d",
   "metadata": {},
   "outputs": [
    {
     "data": {
      "text/html": [
       "<div>\n",
       "<style scoped>\n",
       "    .dataframe tbody tr th:only-of-type {\n",
       "        vertical-align: middle;\n",
       "    }\n",
       "\n",
       "    .dataframe tbody tr th {\n",
       "        vertical-align: top;\n",
       "    }\n",
       "\n",
       "    .dataframe thead th {\n",
       "        text-align: right;\n",
       "    }\n",
       "</style>\n",
       "<table border=\"1\" class=\"dataframe\">\n",
       "  <thead>\n",
       "    <tr style=\"text-align: right;\">\n",
       "      <th></th>\n",
       "      <th>house_type</th>\n",
       "      <th>house_size</th>\n",
       "      <th>location</th>\n",
       "      <th>city</th>\n",
       "      <th>latitude</th>\n",
       "      <th>longitude</th>\n",
       "      <th>price</th>\n",
       "      <th>currency</th>\n",
       "      <th>numBathrooms</th>\n",
       "      <th>numBalconies</th>\n",
       "      <th>isNegotiable</th>\n",
       "      <th>priceSqFt</th>\n",
       "      <th>verificationDate</th>\n",
       "      <th>description</th>\n",
       "      <th>SecurityDeposit</th>\n",
       "      <th>Status</th>\n",
       "    </tr>\n",
       "  </thead>\n",
       "  <tbody>\n",
       "    <tr>\n",
       "      <th>0</th>\n",
       "      <td>1 RK Studio Apartment</td>\n",
       "      <td>400 sq ft</td>\n",
       "      <td>Kalkaji</td>\n",
       "      <td>Delhi</td>\n",
       "      <td>28.545561</td>\n",
       "      <td>77.254349</td>\n",
       "      <td>22000</td>\n",
       "      <td>INR</td>\n",
       "      <td>1.0</td>\n",
       "      <td>NaN</td>\n",
       "      <td>NaN</td>\n",
       "      <td>NaN</td>\n",
       "      <td>Posted a day ago</td>\n",
       "      <td>Fully furnished, loaded with amenities &amp; gadge...</td>\n",
       "      <td>No Deposit</td>\n",
       "      <td>Furnished</td>\n",
       "    </tr>\n",
       "    <tr>\n",
       "      <th>1</th>\n",
       "      <td>1 RK Studio Apartment</td>\n",
       "      <td>400 sq ft</td>\n",
       "      <td>Mansarover Garden</td>\n",
       "      <td>Delhi</td>\n",
       "      <td>28.643259</td>\n",
       "      <td>77.132828</td>\n",
       "      <td>20000</td>\n",
       "      <td>INR</td>\n",
       "      <td>1.0</td>\n",
       "      <td>NaN</td>\n",
       "      <td>NaN</td>\n",
       "      <td>NaN</td>\n",
       "      <td>Posted 9 days ago</td>\n",
       "      <td>Here is an excellent 1 BHK Independent Floor a...</td>\n",
       "      <td>No Deposit</td>\n",
       "      <td>Furnished</td>\n",
       "    </tr>\n",
       "    <tr>\n",
       "      <th>2</th>\n",
       "      <td>2 BHK Independent Floor</td>\n",
       "      <td>500 sq ft</td>\n",
       "      <td>Uttam Nagar</td>\n",
       "      <td>Delhi</td>\n",
       "      <td>28.618677</td>\n",
       "      <td>77.053352</td>\n",
       "      <td>8500</td>\n",
       "      <td>INR</td>\n",
       "      <td>1.0</td>\n",
       "      <td>NaN</td>\n",
       "      <td>NaN</td>\n",
       "      <td>NaN</td>\n",
       "      <td>Posted 12 days ago</td>\n",
       "      <td>Zero Brokerage.\\n\\n2 Room set, Govt bijali Met...</td>\n",
       "      <td>No Deposit</td>\n",
       "      <td>Semi-Furnished</td>\n",
       "    </tr>\n",
       "    <tr>\n",
       "      <th>3</th>\n",
       "      <td>3 BHK Independent House</td>\n",
       "      <td>1,020 sq ft</td>\n",
       "      <td>Model Town</td>\n",
       "      <td>Delhi</td>\n",
       "      <td>28.712898</td>\n",
       "      <td>77.180000</td>\n",
       "      <td>48000</td>\n",
       "      <td>INR</td>\n",
       "      <td>3.0</td>\n",
       "      <td>NaN</td>\n",
       "      <td>NaN</td>\n",
       "      <td>NaN</td>\n",
       "      <td>Posted a year ago</td>\n",
       "      <td>Itâs a 3 bhk independent house situated in M...</td>\n",
       "      <td>No Deposit</td>\n",
       "      <td>Furnished</td>\n",
       "    </tr>\n",
       "    <tr>\n",
       "      <th>4</th>\n",
       "      <td>2 BHK Apartment</td>\n",
       "      <td>810 sq ft</td>\n",
       "      <td>Sector 13 Rohini</td>\n",
       "      <td>Delhi</td>\n",
       "      <td>28.723539</td>\n",
       "      <td>77.131424</td>\n",
       "      <td>20000</td>\n",
       "      <td>INR</td>\n",
       "      <td>2.0</td>\n",
       "      <td>NaN</td>\n",
       "      <td>NaN</td>\n",
       "      <td>NaN</td>\n",
       "      <td>Posted a year ago</td>\n",
       "      <td>Well designed 2 bhk multistorey apartment is a...</td>\n",
       "      <td>No Deposit</td>\n",
       "      <td>Unfurnished</td>\n",
       "    </tr>\n",
       "  </tbody>\n",
       "</table>\n",
       "</div>"
      ],
      "text/plain": [
       "                 house_type   house_size           location   city   latitude  \\\n",
       "0    1 RK Studio Apartment     400 sq ft            Kalkaji  Delhi  28.545561   \n",
       "1    1 RK Studio Apartment     400 sq ft  Mansarover Garden  Delhi  28.643259   \n",
       "2  2 BHK Independent Floor     500 sq ft        Uttam Nagar  Delhi  28.618677   \n",
       "3  3 BHK Independent House   1,020 sq ft         Model Town  Delhi  28.712898   \n",
       "4          2 BHK Apartment     810 sq ft   Sector 13 Rohini  Delhi  28.723539   \n",
       "\n",
       "   longitude  price currency  numBathrooms  numBalconies isNegotiable  \\\n",
       "0  77.254349  22000      INR           1.0           NaN          NaN   \n",
       "1  77.132828  20000      INR           1.0           NaN          NaN   \n",
       "2  77.053352   8500      INR           1.0           NaN          NaN   \n",
       "3  77.180000  48000      INR           3.0           NaN          NaN   \n",
       "4  77.131424  20000      INR           2.0           NaN          NaN   \n",
       "\n",
       "   priceSqFt    verificationDate  \\\n",
       "0        NaN    Posted a day ago   \n",
       "1        NaN   Posted 9 days ago   \n",
       "2        NaN  Posted 12 days ago   \n",
       "3        NaN   Posted a year ago   \n",
       "4        NaN   Posted a year ago   \n",
       "\n",
       "                                         description SecurityDeposit  \\\n",
       "0  Fully furnished, loaded with amenities & gadge...      No Deposit   \n",
       "1  Here is an excellent 1 BHK Independent Floor a...      No Deposit   \n",
       "2  Zero Brokerage.\\n\\n2 Room set, Govt bijali Met...      No Deposit   \n",
       "3  Itâs a 3 bhk independent house situated in M...      No Deposit   \n",
       "4  Well designed 2 bhk multistorey apartment is a...      No Deposit   \n",
       "\n",
       "           Status  \n",
       "0       Furnished  \n",
       "1       Furnished  \n",
       "2  Semi-Furnished  \n",
       "3       Furnished  \n",
       "4     Unfurnished  "
      ]
     },
     "execution_count": 86,
     "metadata": {},
     "output_type": "execute_result"
    }
   ],
   "source": [
    "df.head()"
   ]
  },
  {
   "cell_type": "markdown",
   "id": "afce5c5b-e0dc-446d-bd30-19706e78458d",
   "metadata": {},
   "source": [
    "## KEEPING ONLY THE USEFUL COLUMNS"
   ]
  },
  {
   "cell_type": "code",
   "execution_count": 87,
   "id": "80935e22-f156-40db-bc7e-ad3c79e95f10",
   "metadata": {},
   "outputs": [],
   "source": [
    "### FIRST WE NEED TO CONVERT HOUSE SIZE IN INTEGERS\n",
    "\n",
    "# Step 1: Remove all non-digit characters and commas, extract numeric part\n",
    "df['house_size_cleaned'] = (\n",
    "    df['house_size']\n",
    "    .astype(str)  # Ensure it's string\n",
    "    .str.replace(',', '', regex=False)  # Remove commas\n",
    "    .str.extract(r'(\\d+)')  # Extract numbers only\n",
    "    .astype(float)  # Convert to numeric\n",
    "    .astype('Int64')  # Keeps NaN as null, unlike int\n",
    ")\n"
   ]
  },
  {
   "cell_type": "code",
   "execution_count": 36,
   "id": "cb0a1da4-1aef-4a2f-92cd-5571cf356916",
   "metadata": {},
   "outputs": [],
   "source": [
    "df['monthly_rent']=df['price']\n",
    "del df['price']"
   ]
  },
  {
   "cell_type": "code",
   "execution_count": 37,
   "id": "0986277d-0dd8-4e84-a686-2c638fb43331",
   "metadata": {
    "scrolled": true
   },
   "outputs": [
    {
     "data": {
      "text/html": [
       "<div>\n",
       "<style scoped>\n",
       "    .dataframe tbody tr th:only-of-type {\n",
       "        vertical-align: middle;\n",
       "    }\n",
       "\n",
       "    .dataframe tbody tr th {\n",
       "        vertical-align: top;\n",
       "    }\n",
       "\n",
       "    .dataframe thead th {\n",
       "        text-align: right;\n",
       "    }\n",
       "</style>\n",
       "<table border=\"1\" class=\"dataframe\">\n",
       "  <thead>\n",
       "    <tr style=\"text-align: right;\">\n",
       "      <th></th>\n",
       "      <th>city</th>\n",
       "      <th>location</th>\n",
       "      <th>house_type</th>\n",
       "      <th>house_size_cleaned</th>\n",
       "      <th>numBathrooms</th>\n",
       "      <th>numBalconies</th>\n",
       "      <th>Status</th>\n",
       "      <th>monthly_rent</th>\n",
       "    </tr>\n",
       "  </thead>\n",
       "  <tbody>\n",
       "    <tr>\n",
       "      <th>0</th>\n",
       "      <td>Delhi</td>\n",
       "      <td>Kalkaji</td>\n",
       "      <td>1 RK Studio Apartment</td>\n",
       "      <td>400</td>\n",
       "      <td>1.0</td>\n",
       "      <td>NaN</td>\n",
       "      <td>Furnished</td>\n",
       "      <td>22000</td>\n",
       "    </tr>\n",
       "    <tr>\n",
       "      <th>1</th>\n",
       "      <td>Delhi</td>\n",
       "      <td>Mansarover Garden</td>\n",
       "      <td>1 RK Studio Apartment</td>\n",
       "      <td>400</td>\n",
       "      <td>1.0</td>\n",
       "      <td>NaN</td>\n",
       "      <td>Furnished</td>\n",
       "      <td>20000</td>\n",
       "    </tr>\n",
       "    <tr>\n",
       "      <th>2</th>\n",
       "      <td>Delhi</td>\n",
       "      <td>Uttam Nagar</td>\n",
       "      <td>2 BHK Independent Floor</td>\n",
       "      <td>500</td>\n",
       "      <td>1.0</td>\n",
       "      <td>NaN</td>\n",
       "      <td>Semi-Furnished</td>\n",
       "      <td>8500</td>\n",
       "    </tr>\n",
       "    <tr>\n",
       "      <th>3</th>\n",
       "      <td>Delhi</td>\n",
       "      <td>Model Town</td>\n",
       "      <td>3 BHK Independent House</td>\n",
       "      <td>1020</td>\n",
       "      <td>3.0</td>\n",
       "      <td>NaN</td>\n",
       "      <td>Furnished</td>\n",
       "      <td>48000</td>\n",
       "    </tr>\n",
       "    <tr>\n",
       "      <th>4</th>\n",
       "      <td>Delhi</td>\n",
       "      <td>Sector 13 Rohini</td>\n",
       "      <td>2 BHK Apartment</td>\n",
       "      <td>810</td>\n",
       "      <td>2.0</td>\n",
       "      <td>NaN</td>\n",
       "      <td>Unfurnished</td>\n",
       "      <td>20000</td>\n",
       "    </tr>\n",
       "  </tbody>\n",
       "</table>\n",
       "</div>"
      ],
      "text/plain": [
       "    city           location                house_type  house_size_cleaned  \\\n",
       "0  Delhi            Kalkaji    1 RK Studio Apartment                  400   \n",
       "1  Delhi  Mansarover Garden    1 RK Studio Apartment                  400   \n",
       "2  Delhi        Uttam Nagar  2 BHK Independent Floor                  500   \n",
       "3  Delhi         Model Town  3 BHK Independent House                 1020   \n",
       "4  Delhi   Sector 13 Rohini          2 BHK Apartment                  810   \n",
       "\n",
       "   numBathrooms  numBalconies          Status  monthly_rent  \n",
       "0           1.0           NaN       Furnished         22000  \n",
       "1           1.0           NaN       Furnished         20000  \n",
       "2           1.0           NaN  Semi-Furnished          8500  \n",
       "3           3.0           NaN       Furnished         48000  \n",
       "4           2.0           NaN     Unfurnished         20000  "
      ]
     },
     "execution_count": 37,
     "metadata": {},
     "output_type": "execute_result"
    }
   ],
   "source": [
    "processed_df=df[['city','location','house_type','house_size_cleaned','numBathrooms','numBalconies','Status','monthly_rent']]\n",
    "processed_df.head()"
   ]
  },
  {
   "cell_type": "markdown",
   "id": "2e8d8d1e-54ce-4739-bd94-fa2b52bea8ba",
   "metadata": {},
   "source": [
    "### AGAIN ASSIGNING THE 'HOUSE_SIZE_CLEANED' VALUES TO HOUSE_SIZE'"
   ]
  },
  {
   "cell_type": "code",
   "execution_count": 40,
   "id": "1a124bff-badd-4d95-aa60-a37b34c7b102",
   "metadata": {},
   "outputs": [
    {
     "name": "stderr",
     "output_type": "stream",
     "text": [
      "C:\\Users\\dhamech\\AppData\\Local\\Temp\\ipykernel_40236\\668115162.py:1: SettingWithCopyWarning: \n",
      "A value is trying to be set on a copy of a slice from a DataFrame.\n",
      "Try using .loc[row_indexer,col_indexer] = value instead\n",
      "\n",
      "See the caveats in the documentation: https://pandas.pydata.org/pandas-docs/stable/user_guide/indexing.html#returning-a-view-versus-a-copy\n",
      "  processed_df['house_size']=processed_df['house_size_cleaned']\n"
     ]
    }
   ],
   "source": [
    "processed_df['house_size']=processed_df['house_size_cleaned']\n",
    "del processed_df['house_size_cleaned']"
   ]
  },
  {
   "cell_type": "code",
   "execution_count": 42,
   "id": "fbab14ed-cbdb-479c-adde-fbfca5e5dd45",
   "metadata": {},
   "outputs": [
    {
     "data": {
      "text/html": [
       "<div>\n",
       "<style scoped>\n",
       "    .dataframe tbody tr th:only-of-type {\n",
       "        vertical-align: middle;\n",
       "    }\n",
       "\n",
       "    .dataframe tbody tr th {\n",
       "        vertical-align: top;\n",
       "    }\n",
       "\n",
       "    .dataframe thead th {\n",
       "        text-align: right;\n",
       "    }\n",
       "</style>\n",
       "<table border=\"1\" class=\"dataframe\">\n",
       "  <thead>\n",
       "    <tr style=\"text-align: right;\">\n",
       "      <th></th>\n",
       "      <th>city</th>\n",
       "      <th>location</th>\n",
       "      <th>house_type</th>\n",
       "      <th>numBathrooms</th>\n",
       "      <th>numBalconies</th>\n",
       "      <th>Status</th>\n",
       "      <th>monthly_rent</th>\n",
       "      <th>house_size</th>\n",
       "    </tr>\n",
       "  </thead>\n",
       "  <tbody>\n",
       "    <tr>\n",
       "      <th>0</th>\n",
       "      <td>Delhi</td>\n",
       "      <td>Kalkaji</td>\n",
       "      <td>1 RK Studio Apartment</td>\n",
       "      <td>1.0</td>\n",
       "      <td>NaN</td>\n",
       "      <td>Furnished</td>\n",
       "      <td>22000</td>\n",
       "      <td>400</td>\n",
       "    </tr>\n",
       "    <tr>\n",
       "      <th>1</th>\n",
       "      <td>Delhi</td>\n",
       "      <td>Mansarover Garden</td>\n",
       "      <td>1 RK Studio Apartment</td>\n",
       "      <td>1.0</td>\n",
       "      <td>NaN</td>\n",
       "      <td>Furnished</td>\n",
       "      <td>20000</td>\n",
       "      <td>400</td>\n",
       "    </tr>\n",
       "    <tr>\n",
       "      <th>2</th>\n",
       "      <td>Delhi</td>\n",
       "      <td>Uttam Nagar</td>\n",
       "      <td>2 BHK Independent Floor</td>\n",
       "      <td>1.0</td>\n",
       "      <td>NaN</td>\n",
       "      <td>Semi-Furnished</td>\n",
       "      <td>8500</td>\n",
       "      <td>500</td>\n",
       "    </tr>\n",
       "    <tr>\n",
       "      <th>3</th>\n",
       "      <td>Delhi</td>\n",
       "      <td>Model Town</td>\n",
       "      <td>3 BHK Independent House</td>\n",
       "      <td>3.0</td>\n",
       "      <td>NaN</td>\n",
       "      <td>Furnished</td>\n",
       "      <td>48000</td>\n",
       "      <td>1020</td>\n",
       "    </tr>\n",
       "    <tr>\n",
       "      <th>4</th>\n",
       "      <td>Delhi</td>\n",
       "      <td>Sector 13 Rohini</td>\n",
       "      <td>2 BHK Apartment</td>\n",
       "      <td>2.0</td>\n",
       "      <td>NaN</td>\n",
       "      <td>Unfurnished</td>\n",
       "      <td>20000</td>\n",
       "      <td>810</td>\n",
       "    </tr>\n",
       "  </tbody>\n",
       "</table>\n",
       "</div>"
      ],
      "text/plain": [
       "    city           location                house_type  numBathrooms  \\\n",
       "0  Delhi            Kalkaji    1 RK Studio Apartment            1.0   \n",
       "1  Delhi  Mansarover Garden    1 RK Studio Apartment            1.0   \n",
       "2  Delhi        Uttam Nagar  2 BHK Independent Floor            1.0   \n",
       "3  Delhi         Model Town  3 BHK Independent House            3.0   \n",
       "4  Delhi   Sector 13 Rohini          2 BHK Apartment            2.0   \n",
       "\n",
       "   numBalconies          Status  monthly_rent  house_size  \n",
       "0           NaN       Furnished         22000         400  \n",
       "1           NaN       Furnished         20000         400  \n",
       "2           NaN  Semi-Furnished          8500         500  \n",
       "3           NaN       Furnished         48000        1020  \n",
       "4           NaN     Unfurnished         20000         810  "
      ]
     },
     "execution_count": 42,
     "metadata": {},
     "output_type": "execute_result"
    }
   ],
   "source": [
    "processed_df.head()"
   ]
  },
  {
   "cell_type": "code",
   "execution_count": 41,
   "id": "ea50c150-0921-4c07-aafe-b1bea7263820",
   "metadata": {
    "scrolled": true
   },
   "outputs": [
    {
     "data": {
      "text/html": [
       "<div>\n",
       "<style scoped>\n",
       "    .dataframe tbody tr th:only-of-type {\n",
       "        vertical-align: middle;\n",
       "    }\n",
       "\n",
       "    .dataframe tbody tr th {\n",
       "        vertical-align: top;\n",
       "    }\n",
       "\n",
       "    .dataframe thead th {\n",
       "        text-align: right;\n",
       "    }\n",
       "</style>\n",
       "<table border=\"1\" class=\"dataframe\">\n",
       "  <thead>\n",
       "    <tr style=\"text-align: right;\">\n",
       "      <th></th>\n",
       "      <th>house_type</th>\n",
       "      <th>house_size</th>\n",
       "      <th>location</th>\n",
       "      <th>numBalconies</th>\n",
       "      <th>numBathrooms</th>\n",
       "      <th>monthly_rent</th>\n",
       "    </tr>\n",
       "  </thead>\n",
       "  <tbody>\n",
       "    <tr>\n",
       "      <th>1111</th>\n",
       "      <td>2 BHK Apartment</td>\n",
       "      <td>1,200 sq ft</td>\n",
       "      <td>Sector 12 Dwarka</td>\n",
       "      <td>NaN</td>\n",
       "      <td>NaN</td>\n",
       "      <td>24000</td>\n",
       "    </tr>\n",
       "    <tr>\n",
       "      <th>2263</th>\n",
       "      <td>2 BHK Apartment</td>\n",
       "      <td>990 sq ft</td>\n",
       "      <td>Sheikh Sarai</td>\n",
       "      <td>NaN</td>\n",
       "      <td>NaN</td>\n",
       "      <td>14000</td>\n",
       "    </tr>\n",
       "    <tr>\n",
       "      <th>2952</th>\n",
       "      <td>1 RK Studio Apartment</td>\n",
       "      <td>500 sq ft</td>\n",
       "      <td>Greater kailash 1</td>\n",
       "      <td>1.0</td>\n",
       "      <td>NaN</td>\n",
       "      <td>22000</td>\n",
       "    </tr>\n",
       "    <tr>\n",
       "      <th>3359</th>\n",
       "      <td>1 RK Studio Apartment</td>\n",
       "      <td>500 sq ft</td>\n",
       "      <td>Alaknanda</td>\n",
       "      <td>NaN</td>\n",
       "      <td>NaN</td>\n",
       "      <td>20000</td>\n",
       "    </tr>\n",
       "    <tr>\n",
       "      <th>3422</th>\n",
       "      <td>1 RK Studio Apartment</td>\n",
       "      <td>300 sq ft</td>\n",
       "      <td>East of Kailash</td>\n",
       "      <td>1.0</td>\n",
       "      <td>NaN</td>\n",
       "      <td>10000</td>\n",
       "    </tr>\n",
       "    <tr>\n",
       "      <th>3429</th>\n",
       "      <td>1 RK Studio Apartment</td>\n",
       "      <td>400 sq ft</td>\n",
       "      <td>East of Kailash</td>\n",
       "      <td>1.0</td>\n",
       "      <td>NaN</td>\n",
       "      <td>15000</td>\n",
       "    </tr>\n",
       "    <tr>\n",
       "      <th>3432</th>\n",
       "      <td>1 RK Studio Apartment</td>\n",
       "      <td>300 sq ft</td>\n",
       "      <td>Greater kailash 1</td>\n",
       "      <td>1.0</td>\n",
       "      <td>NaN</td>\n",
       "      <td>13000</td>\n",
       "    </tr>\n",
       "    <tr>\n",
       "      <th>3610</th>\n",
       "      <td>3 BHK Independent Floor</td>\n",
       "      <td>950 sq ft</td>\n",
       "      <td>Shalimar Bagh</td>\n",
       "      <td>NaN</td>\n",
       "      <td>NaN</td>\n",
       "      <td>26000</td>\n",
       "    </tr>\n",
       "    <tr>\n",
       "      <th>3611</th>\n",
       "      <td>2 BHK Independent Floor</td>\n",
       "      <td>700 sq ft</td>\n",
       "      <td>Shalimar Bagh</td>\n",
       "      <td>NaN</td>\n",
       "      <td>NaN</td>\n",
       "      <td>22000</td>\n",
       "    </tr>\n",
       "    <tr>\n",
       "      <th>3612</th>\n",
       "      <td>1 BHK Independent Floor</td>\n",
       "      <td>650 sq ft</td>\n",
       "      <td>Paschim Vihar</td>\n",
       "      <td>NaN</td>\n",
       "      <td>NaN</td>\n",
       "      <td>12000</td>\n",
       "    </tr>\n",
       "    <tr>\n",
       "      <th>3613</th>\n",
       "      <td>1 BHK Independent Floor</td>\n",
       "      <td>650 sq ft</td>\n",
       "      <td>Shalimar Bagh</td>\n",
       "      <td>NaN</td>\n",
       "      <td>NaN</td>\n",
       "      <td>12000</td>\n",
       "    </tr>\n",
       "    <tr>\n",
       "      <th>3615</th>\n",
       "      <td>3 BHK Independent Floor</td>\n",
       "      <td>950 sq ft</td>\n",
       "      <td>Shalimar Bagh</td>\n",
       "      <td>NaN</td>\n",
       "      <td>NaN</td>\n",
       "      <td>25650</td>\n",
       "    </tr>\n",
       "    <tr>\n",
       "      <th>3617</th>\n",
       "      <td>2 BHK Independent Floor</td>\n",
       "      <td>850 sq ft</td>\n",
       "      <td>Pitampura</td>\n",
       "      <td>NaN</td>\n",
       "      <td>NaN</td>\n",
       "      <td>29750</td>\n",
       "    </tr>\n",
       "    <tr>\n",
       "      <th>3618</th>\n",
       "      <td>1 BHK Independent Floor</td>\n",
       "      <td>600 sq ft</td>\n",
       "      <td>Shalimar Bagh</td>\n",
       "      <td>NaN</td>\n",
       "      <td>NaN</td>\n",
       "      <td>13000</td>\n",
       "    </tr>\n",
       "    <tr>\n",
       "      <th>3725</th>\n",
       "      <td>1 BHK Apartment</td>\n",
       "      <td>495 sq ft</td>\n",
       "      <td>Sheikh Sarai</td>\n",
       "      <td>NaN</td>\n",
       "      <td>NaN</td>\n",
       "      <td>17000</td>\n",
       "    </tr>\n",
       "    <tr>\n",
       "      <th>3767</th>\n",
       "      <td>3 BHK Apartment</td>\n",
       "      <td>2,925 sq ft</td>\n",
       "      <td>Defence Colony</td>\n",
       "      <td>NaN</td>\n",
       "      <td>NaN</td>\n",
       "      <td>350000</td>\n",
       "    </tr>\n",
       "    <tr>\n",
       "      <th>3905</th>\n",
       "      <td>1 RK Studio Apartment</td>\n",
       "      <td>300 sq ft</td>\n",
       "      <td>Karol Bagh</td>\n",
       "      <td>NaN</td>\n",
       "      <td>NaN</td>\n",
       "      <td>12500</td>\n",
       "    </tr>\n",
       "    <tr>\n",
       "      <th>3906</th>\n",
       "      <td>1 RK Studio Apartment</td>\n",
       "      <td>350 sq ft</td>\n",
       "      <td>Karol Bagh</td>\n",
       "      <td>NaN</td>\n",
       "      <td>NaN</td>\n",
       "      <td>18000</td>\n",
       "    </tr>\n",
       "    <tr>\n",
       "      <th>3907</th>\n",
       "      <td>4 BHK Independent Floor</td>\n",
       "      <td>1,250 sq ft</td>\n",
       "      <td>Rajinder Nagar</td>\n",
       "      <td>NaN</td>\n",
       "      <td>NaN</td>\n",
       "      <td>60000</td>\n",
       "    </tr>\n",
       "    <tr>\n",
       "      <th>3908</th>\n",
       "      <td>3 BHK Apartment</td>\n",
       "      <td>2,000 sq ft</td>\n",
       "      <td>Karol Bagh</td>\n",
       "      <td>NaN</td>\n",
       "      <td>NaN</td>\n",
       "      <td>55000</td>\n",
       "    </tr>\n",
       "    <tr>\n",
       "      <th>3909</th>\n",
       "      <td>1 RK Studio Apartment</td>\n",
       "      <td>350 sq ft</td>\n",
       "      <td>Rajinder Nagar</td>\n",
       "      <td>NaN</td>\n",
       "      <td>NaN</td>\n",
       "      <td>15000</td>\n",
       "    </tr>\n",
       "    <tr>\n",
       "      <th>3932</th>\n",
       "      <td>3 BHK Apartment</td>\n",
       "      <td>2,925 sq ft</td>\n",
       "      <td>Defence Colony</td>\n",
       "      <td>NaN</td>\n",
       "      <td>NaN</td>\n",
       "      <td>160000</td>\n",
       "    </tr>\n",
       "    <tr>\n",
       "      <th>4047</th>\n",
       "      <td>3 BHK Apartment</td>\n",
       "      <td>2,925 sq ft</td>\n",
       "      <td>Defence Colony</td>\n",
       "      <td>NaN</td>\n",
       "      <td>NaN</td>\n",
       "      <td>295000</td>\n",
       "    </tr>\n",
       "    <tr>\n",
       "      <th>4497</th>\n",
       "      <td>3 BHK Apartment</td>\n",
       "      <td>1,400 sq ft</td>\n",
       "      <td>Sheikh Sarai</td>\n",
       "      <td>NaN</td>\n",
       "      <td>NaN</td>\n",
       "      <td>37000</td>\n",
       "    </tr>\n",
       "    <tr>\n",
       "      <th>4706</th>\n",
       "      <td>3 BHK Apartment</td>\n",
       "      <td>1,953 sq ft</td>\n",
       "      <td>Defence Colony</td>\n",
       "      <td>NaN</td>\n",
       "      <td>NaN</td>\n",
       "      <td>150000</td>\n",
       "    </tr>\n",
       "  </tbody>\n",
       "</table>\n",
       "</div>"
      ],
      "text/plain": [
       "                    house_type   house_size           location  numBalconies  \\\n",
       "1111          2 BHK Apartment   1,200 sq ft   Sector 12 Dwarka           NaN   \n",
       "2263          2 BHK Apartment     990 sq ft       Sheikh Sarai           NaN   \n",
       "2952    1 RK Studio Apartment     500 sq ft  Greater kailash 1           1.0   \n",
       "3359    1 RK Studio Apartment     500 sq ft          Alaknanda           NaN   \n",
       "3422    1 RK Studio Apartment     300 sq ft    East of Kailash           1.0   \n",
       "3429    1 RK Studio Apartment     400 sq ft    East of Kailash           1.0   \n",
       "3432    1 RK Studio Apartment     300 sq ft  Greater kailash 1           1.0   \n",
       "3610  3 BHK Independent Floor     950 sq ft      Shalimar Bagh           NaN   \n",
       "3611  2 BHK Independent Floor     700 sq ft      Shalimar Bagh           NaN   \n",
       "3612  1 BHK Independent Floor     650 sq ft      Paschim Vihar           NaN   \n",
       "3613  1 BHK Independent Floor     650 sq ft      Shalimar Bagh           NaN   \n",
       "3615  3 BHK Independent Floor     950 sq ft      Shalimar Bagh           NaN   \n",
       "3617  2 BHK Independent Floor     850 sq ft          Pitampura           NaN   \n",
       "3618  1 BHK Independent Floor     600 sq ft      Shalimar Bagh           NaN   \n",
       "3725          1 BHK Apartment     495 sq ft       Sheikh Sarai           NaN   \n",
       "3767          3 BHK Apartment   2,925 sq ft     Defence Colony           NaN   \n",
       "3905    1 RK Studio Apartment     300 sq ft         Karol Bagh           NaN   \n",
       "3906    1 RK Studio Apartment     350 sq ft         Karol Bagh           NaN   \n",
       "3907  4 BHK Independent Floor   1,250 sq ft     Rajinder Nagar           NaN   \n",
       "3908          3 BHK Apartment   2,000 sq ft         Karol Bagh           NaN   \n",
       "3909    1 RK Studio Apartment     350 sq ft     Rajinder Nagar           NaN   \n",
       "3932          3 BHK Apartment   2,925 sq ft     Defence Colony           NaN   \n",
       "4047          3 BHK Apartment   2,925 sq ft     Defence Colony           NaN   \n",
       "4497          3 BHK Apartment   1,400 sq ft       Sheikh Sarai           NaN   \n",
       "4706          3 BHK Apartment   1,953 sq ft     Defence Colony           NaN   \n",
       "\n",
       "      numBathrooms  monthly_rent  \n",
       "1111           NaN         24000  \n",
       "2263           NaN         14000  \n",
       "2952           NaN         22000  \n",
       "3359           NaN         20000  \n",
       "3422           NaN         10000  \n",
       "3429           NaN         15000  \n",
       "3432           NaN         13000  \n",
       "3610           NaN         26000  \n",
       "3611           NaN         22000  \n",
       "3612           NaN         12000  \n",
       "3613           NaN         12000  \n",
       "3615           NaN         25650  \n",
       "3617           NaN         29750  \n",
       "3618           NaN         13000  \n",
       "3725           NaN         17000  \n",
       "3767           NaN        350000  \n",
       "3905           NaN         12500  \n",
       "3906           NaN         18000  \n",
       "3907           NaN         60000  \n",
       "3908           NaN         55000  \n",
       "3909           NaN         15000  \n",
       "3932           NaN        160000  \n",
       "4047           NaN        295000  \n",
       "4497           NaN         37000  \n",
       "4706           NaN        150000  "
      ]
     },
     "execution_count": 41,
     "metadata": {},
     "output_type": "execute_result"
    }
   ],
   "source": [
    "df[df['numBathrooms'].isnull()][['house_type','house_size','location','numBalconies','numBathrooms','monthly_rent']]"
   ]
  },
  {
   "cell_type": "markdown",
   "id": "376e4d37-95ee-48af-9227-72dc04494258",
   "metadata": {},
   "source": [
    "### CHECKING THE UNIQUE VALUES IN 'HOUSE_TYPE'"
   ]
  },
  {
   "cell_type": "code",
   "execution_count": 39,
   "id": "e03e8241-1507-4bdf-ad25-390b19e2237d",
   "metadata": {},
   "outputs": [
    {
     "name": "stdout",
     "output_type": "stream",
     "text": [
      "1 RK Studio Apartment \n",
      "2 BHK Independent Floor \n",
      "3 BHK Independent House \n",
      "2 BHK Apartment \n",
      "3 BHK Apartment \n",
      "3 BHK Independent Floor \n",
      "4 BHK Independent Floor \n",
      "1 BHK Independent Floor \n",
      "1 BHK Apartment \n",
      "8 BHK Independent Floor \n",
      "4 BHK Apartment \n",
      "6 BHK Independent Floor \n",
      "2 BHK Independent House \n",
      "1 BHK Independent House \n",
      "5 BHK Independent Floor \n",
      "4 BHK Independent House \n",
      "5 BHK Villa \n",
      "5 BHK Independent House \n",
      "7 BHK Independent Floor \n",
      "8 BHK Independent House \n",
      "10 BHK Independent House \n",
      "7 BHK Independent House \n",
      "9 BHK Independent House \n",
      "8 BHK Villa \n",
      "4 BHK Villa \n",
      "5 BHK Apartment \n",
      "6 BHK penthouse \n",
      "12 BHK Independent House \n"
     ]
    }
   ],
   "source": [
    "print(*processed_df['house_type'].unique(),sep='\\n')"
   ]
  },
  {
   "cell_type": "markdown",
   "id": "3dd86a2f-3ea2-4980-9150-0d96a124f216",
   "metadata": {},
   "source": [
    "# DATA TRANSFORMATION\n",
    "## SPLITTING THE HOUSE TYPE INTO CATEGORIES FOR BETTER INSIGHT"
   ]
  },
  {
   "cell_type": "code",
   "execution_count": 88,
   "id": "ba386438-d932-437e-8ffc-7be343f69fcb",
   "metadata": {},
   "outputs": [],
   "source": [
    "from collections import OrderedDict\n",
    "\n",
    "house_type_map=OrderedDict({\n",
    "    'studio apartment':'studio',\n",
    "    'villa':'villa',\n",
    "    'independent house':'villa',\n",
    "    'independent floor':'apartment',\n",
    "    'penthouse':'apartment',\n",
    "    'apartment':'apartment'\n",
    "})\n",
    "\n",
    "intermediate_record=[]\n",
    "for record in processed_df['house_type']:\n",
    "    for house_type,category in house_type_map.items():\n",
    "        if house_type in record.lower():\n",
    "            intermediate_record.append(category)\n",
    "            break\n",
    "    \n",
    "    "
   ]
  },
  {
   "cell_type": "code",
   "execution_count": 89,
   "id": "48126a33-29f2-43b8-aedb-f8c682be6f57",
   "metadata": {},
   "outputs": [
    {
     "data": {
      "text/plain": [
       "5000"
      ]
     },
     "execution_count": 89,
     "metadata": {},
     "output_type": "execute_result"
    }
   ],
   "source": [
    "len(intermediate_record)"
   ]
  },
  {
   "cell_type": "code",
   "execution_count": 90,
   "id": "a1926c5a-1ab8-4e67-8941-be828f45c710",
   "metadata": {},
   "outputs": [
    {
     "name": "stderr",
     "output_type": "stream",
     "text": [
      "C:\\Users\\dhamech\\AppData\\Local\\Temp\\ipykernel_40236\\711002635.py:1: SettingWithCopyWarning: \n",
      "A value is trying to be set on a copy of a slice from a DataFrame.\n",
      "Try using .loc[row_indexer,col_indexer] = value instead\n",
      "\n",
      "See the caveats in the documentation: https://pandas.pydata.org/pandas-docs/stable/user_guide/indexing.html#returning-a-view-versus-a-copy\n",
      "  processed_df['category']=intermediate_record\n"
     ]
    }
   ],
   "source": [
    "processed_df['category']=intermediate_record"
   ]
  },
  {
   "cell_type": "code",
   "execution_count": 91,
   "id": "2afda1c6-b98d-49ee-b795-40544e122ae9",
   "metadata": {
    "scrolled": true
   },
   "outputs": [
    {
     "data": {
      "text/html": [
       "<div>\n",
       "<style scoped>\n",
       "    .dataframe tbody tr th:only-of-type {\n",
       "        vertical-align: middle;\n",
       "    }\n",
       "\n",
       "    .dataframe tbody tr th {\n",
       "        vertical-align: top;\n",
       "    }\n",
       "\n",
       "    .dataframe thead th {\n",
       "        text-align: right;\n",
       "    }\n",
       "</style>\n",
       "<table border=\"1\" class=\"dataframe\">\n",
       "  <thead>\n",
       "    <tr style=\"text-align: right;\">\n",
       "      <th></th>\n",
       "      <th>city</th>\n",
       "      <th>location</th>\n",
       "      <th>house_type</th>\n",
       "      <th>numBathrooms</th>\n",
       "      <th>numBalconies</th>\n",
       "      <th>Status</th>\n",
       "      <th>monthly_rent</th>\n",
       "      <th>house_size</th>\n",
       "      <th>price</th>\n",
       "      <th>numBedrooms</th>\n",
       "      <th>price_per_room</th>\n",
       "      <th>price_per_sqft</th>\n",
       "      <th>category</th>\n",
       "    </tr>\n",
       "  </thead>\n",
       "  <tbody>\n",
       "    <tr>\n",
       "      <th>0</th>\n",
       "      <td>Delhi</td>\n",
       "      <td>Kalkaji</td>\n",
       "      <td>1 RK Studio Apartment</td>\n",
       "      <td>1.0</td>\n",
       "      <td>NaN</td>\n",
       "      <td>Furnished</td>\n",
       "      <td>22000</td>\n",
       "      <td>400</td>\n",
       "      <td>8800000.0</td>\n",
       "      <td>1</td>\n",
       "      <td>8800000.0</td>\n",
       "      <td>22000.0</td>\n",
       "      <td>studio</td>\n",
       "    </tr>\n",
       "    <tr>\n",
       "      <th>1</th>\n",
       "      <td>Delhi</td>\n",
       "      <td>Mansarover Garden</td>\n",
       "      <td>1 RK Studio Apartment</td>\n",
       "      <td>1.0</td>\n",
       "      <td>NaN</td>\n",
       "      <td>Furnished</td>\n",
       "      <td>20000</td>\n",
       "      <td>400</td>\n",
       "      <td>8000000.0</td>\n",
       "      <td>1</td>\n",
       "      <td>8000000.0</td>\n",
       "      <td>20000.0</td>\n",
       "      <td>studio</td>\n",
       "    </tr>\n",
       "    <tr>\n",
       "      <th>2</th>\n",
       "      <td>Delhi</td>\n",
       "      <td>Uttam Nagar</td>\n",
       "      <td>2 BHK Independent Floor</td>\n",
       "      <td>1.0</td>\n",
       "      <td>NaN</td>\n",
       "      <td>Semi-Furnished</td>\n",
       "      <td>8500</td>\n",
       "      <td>500</td>\n",
       "      <td>3400000.0</td>\n",
       "      <td>2</td>\n",
       "      <td>1700000.0</td>\n",
       "      <td>6800.0</td>\n",
       "      <td>apartment</td>\n",
       "    </tr>\n",
       "    <tr>\n",
       "      <th>3</th>\n",
       "      <td>Delhi</td>\n",
       "      <td>Model Town</td>\n",
       "      <td>3 BHK Independent House</td>\n",
       "      <td>3.0</td>\n",
       "      <td>NaN</td>\n",
       "      <td>Furnished</td>\n",
       "      <td>48000</td>\n",
       "      <td>1020</td>\n",
       "      <td>19200000.0</td>\n",
       "      <td>3</td>\n",
       "      <td>6400000.0</td>\n",
       "      <td>18823.529412</td>\n",
       "      <td>villa</td>\n",
       "    </tr>\n",
       "    <tr>\n",
       "      <th>4</th>\n",
       "      <td>Delhi</td>\n",
       "      <td>Sector 13 Rohini</td>\n",
       "      <td>2 BHK Apartment</td>\n",
       "      <td>2.0</td>\n",
       "      <td>NaN</td>\n",
       "      <td>Unfurnished</td>\n",
       "      <td>20000</td>\n",
       "      <td>810</td>\n",
       "      <td>8000000.0</td>\n",
       "      <td>2</td>\n",
       "      <td>4000000.0</td>\n",
       "      <td>9876.54321</td>\n",
       "      <td>apartment</td>\n",
       "    </tr>\n",
       "  </tbody>\n",
       "</table>\n",
       "</div>"
      ],
      "text/plain": [
       "    city           location                house_type  numBathrooms  \\\n",
       "0  Delhi            Kalkaji    1 RK Studio Apartment            1.0   \n",
       "1  Delhi  Mansarover Garden    1 RK Studio Apartment            1.0   \n",
       "2  Delhi        Uttam Nagar  2 BHK Independent Floor            1.0   \n",
       "3  Delhi         Model Town  3 BHK Independent House            3.0   \n",
       "4  Delhi   Sector 13 Rohini          2 BHK Apartment            2.0   \n",
       "\n",
       "   numBalconies          Status  monthly_rent  house_size       price  \\\n",
       "0           NaN       Furnished         22000         400   8800000.0   \n",
       "1           NaN       Furnished         20000         400   8000000.0   \n",
       "2           NaN  Semi-Furnished          8500         500   3400000.0   \n",
       "3           NaN       Furnished         48000        1020  19200000.0   \n",
       "4           NaN     Unfurnished         20000         810   8000000.0   \n",
       "\n",
       "   numBedrooms  price_per_room  price_per_sqft   category  \n",
       "0            1       8800000.0         22000.0     studio  \n",
       "1            1       8000000.0         20000.0     studio  \n",
       "2            2       1700000.0          6800.0  apartment  \n",
       "3            3       6400000.0    18823.529412      villa  \n",
       "4            2       4000000.0      9876.54321  apartment  "
      ]
     },
     "execution_count": 91,
     "metadata": {},
     "output_type": "execute_result"
    }
   ],
   "source": [
    "processed_df.head()"
   ]
  },
  {
   "cell_type": "markdown",
   "id": "5f161ae8-3884-462d-91fc-bd809153c99f",
   "metadata": {},
   "source": [
    "### WE WILL NOW ALLOT THE NUMBER OF BEDROOMS WITH RESPECT TO THE APARTMENTS OR VILLA"
   ]
  },
  {
   "cell_type": "code",
   "execution_count": 92,
   "id": "f25c78a4-d38f-429f-ae54-430d97011c73",
   "metadata": {},
   "outputs": [
    {
     "name": "stderr",
     "output_type": "stream",
     "text": [
      "C:\\Users\\dhamech\\AppData\\Local\\Temp\\ipykernel_40236\\2318267807.py:1: SettingWithCopyWarning: \n",
      "A value is trying to be set on a copy of a slice from a DataFrame.\n",
      "Try using .loc[row_indexer,col_indexer] = value instead\n",
      "\n",
      "See the caveats in the documentation: https://pandas.pydata.org/pandas-docs/stable/user_guide/indexing.html#returning-a-view-versus-a-copy\n",
      "  processed_df[\"numBedrooms\"] = [int(record.split(\" \", 1)[0]) for record in processed_df[\"house_type\"]]\n"
     ]
    }
   ],
   "source": [
    "processed_df[\"numBedrooms\"] = [int(record.split(\" \", 1)[0]) for record in processed_df[\"house_type\"]]"
   ]
  },
  {
   "cell_type": "code",
   "execution_count": 47,
   "id": "0bfb1695-b527-44c7-a58b-a3e479401b1b",
   "metadata": {},
   "outputs": [
    {
     "data": {
      "text/html": [
       "<div>\n",
       "<style scoped>\n",
       "    .dataframe tbody tr th:only-of-type {\n",
       "        vertical-align: middle;\n",
       "    }\n",
       "\n",
       "    .dataframe tbody tr th {\n",
       "        vertical-align: top;\n",
       "    }\n",
       "\n",
       "    .dataframe thead th {\n",
       "        text-align: right;\n",
       "    }\n",
       "</style>\n",
       "<table border=\"1\" class=\"dataframe\">\n",
       "  <thead>\n",
       "    <tr style=\"text-align: right;\">\n",
       "      <th></th>\n",
       "      <th>city</th>\n",
       "      <th>location</th>\n",
       "      <th>house_type</th>\n",
       "      <th>numBathrooms</th>\n",
       "      <th>numBalconies</th>\n",
       "      <th>Status</th>\n",
       "      <th>monthly_rent</th>\n",
       "      <th>house_size</th>\n",
       "      <th>price</th>\n",
       "      <th>numBedrooms</th>\n",
       "    </tr>\n",
       "  </thead>\n",
       "  <tbody>\n",
       "    <tr>\n",
       "      <th>3</th>\n",
       "      <td>Delhi</td>\n",
       "      <td>Model Town</td>\n",
       "      <td>3 BHK Independent House</td>\n",
       "      <td>3.0</td>\n",
       "      <td>NaN</td>\n",
       "      <td>Furnished</td>\n",
       "      <td>48000</td>\n",
       "      <td>1020</td>\n",
       "      <td>19200000.0</td>\n",
       "      <td>3</td>\n",
       "    </tr>\n",
       "    <tr>\n",
       "      <th>5</th>\n",
       "      <td>Delhi</td>\n",
       "      <td>DLF Farms</td>\n",
       "      <td>3 BHK Apartment</td>\n",
       "      <td>1.0</td>\n",
       "      <td>NaN</td>\n",
       "      <td>Semi-Furnished</td>\n",
       "      <td>11000</td>\n",
       "      <td>750</td>\n",
       "      <td>4400000.0</td>\n",
       "      <td>3</td>\n",
       "    </tr>\n",
       "    <tr>\n",
       "      <th>6</th>\n",
       "      <td>Delhi</td>\n",
       "      <td>laxmi nagar</td>\n",
       "      <td>3 BHK Independent Floor</td>\n",
       "      <td>2.0</td>\n",
       "      <td>NaN</td>\n",
       "      <td>Furnished</td>\n",
       "      <td>20000</td>\n",
       "      <td>1300</td>\n",
       "      <td>8000000.0</td>\n",
       "      <td>3</td>\n",
       "    </tr>\n",
       "    <tr>\n",
       "      <th>7</th>\n",
       "      <td>Delhi</td>\n",
       "      <td>Swasthya Vihar</td>\n",
       "      <td>3 BHK Independent Floor</td>\n",
       "      <td>2.0</td>\n",
       "      <td>NaN</td>\n",
       "      <td>Furnished</td>\n",
       "      <td>35000</td>\n",
       "      <td>1200</td>\n",
       "      <td>14000000.0</td>\n",
       "      <td>3</td>\n",
       "    </tr>\n",
       "    <tr>\n",
       "      <th>8</th>\n",
       "      <td>Delhi</td>\n",
       "      <td>Janakpuri</td>\n",
       "      <td>3 BHK Independent House</td>\n",
       "      <td>2.0</td>\n",
       "      <td>NaN</td>\n",
       "      <td>Semi-Furnished</td>\n",
       "      <td>39000</td>\n",
       "      <td>1100</td>\n",
       "      <td>15600000.0</td>\n",
       "      <td>3</td>\n",
       "    </tr>\n",
       "    <tr>\n",
       "      <th>...</th>\n",
       "      <td>...</td>\n",
       "      <td>...</td>\n",
       "      <td>...</td>\n",
       "      <td>...</td>\n",
       "      <td>...</td>\n",
       "      <td>...</td>\n",
       "      <td>...</td>\n",
       "      <td>...</td>\n",
       "      <td>...</td>\n",
       "      <td>...</td>\n",
       "    </tr>\n",
       "    <tr>\n",
       "      <th>4981</th>\n",
       "      <td>Delhi</td>\n",
       "      <td>Jor bagh</td>\n",
       "      <td>3 BHK Independent Floor</td>\n",
       "      <td>3.0</td>\n",
       "      <td>2.0</td>\n",
       "      <td>Unfurnished</td>\n",
       "      <td>341165</td>\n",
       "      <td>2856</td>\n",
       "      <td>136466000.0</td>\n",
       "      <td>3</td>\n",
       "    </tr>\n",
       "    <tr>\n",
       "      <th>4982</th>\n",
       "      <td>Delhi</td>\n",
       "      <td>Jor bagh</td>\n",
       "      <td>3 BHK Independent Floor</td>\n",
       "      <td>3.0</td>\n",
       "      <td>2.0</td>\n",
       "      <td>Unfurnished</td>\n",
       "      <td>301020</td>\n",
       "      <td>2856</td>\n",
       "      <td>120408000.0</td>\n",
       "      <td>3</td>\n",
       "    </tr>\n",
       "    <tr>\n",
       "      <th>4997</th>\n",
       "      <td>Delhi</td>\n",
       "      <td>New Friends Colony</td>\n",
       "      <td>3 BHK Independent Floor</td>\n",
       "      <td>3.0</td>\n",
       "      <td>2.0</td>\n",
       "      <td>Unfurnished</td>\n",
       "      <td>301012</td>\n",
       "      <td>1855</td>\n",
       "      <td>120404800.0</td>\n",
       "      <td>3</td>\n",
       "    </tr>\n",
       "    <tr>\n",
       "      <th>4998</th>\n",
       "      <td>Delhi</td>\n",
       "      <td>New Friends Colony</td>\n",
       "      <td>3 BHK Independent Floor</td>\n",
       "      <td>3.0</td>\n",
       "      <td>2.0</td>\n",
       "      <td>Unfurnished</td>\n",
       "      <td>301011</td>\n",
       "      <td>2856</td>\n",
       "      <td>120404400.0</td>\n",
       "      <td>3</td>\n",
       "    </tr>\n",
       "    <tr>\n",
       "      <th>4999</th>\n",
       "      <td>Delhi</td>\n",
       "      <td>New Friends Colony</td>\n",
       "      <td>3 BHK Independent Floor</td>\n",
       "      <td>4.0</td>\n",
       "      <td>2.0</td>\n",
       "      <td>Unfurnished</td>\n",
       "      <td>301012</td>\n",
       "      <td>2856</td>\n",
       "      <td>120404800.0</td>\n",
       "      <td>3</td>\n",
       "    </tr>\n",
       "  </tbody>\n",
       "</table>\n",
       "<p>1907 rows × 10 columns</p>\n",
       "</div>"
      ],
      "text/plain": [
       "       city            location                house_type  numBathrooms  \\\n",
       "3     Delhi          Model Town  3 BHK Independent House            3.0   \n",
       "5     Delhi           DLF Farms          3 BHK Apartment            1.0   \n",
       "6     Delhi         laxmi nagar  3 BHK Independent Floor            2.0   \n",
       "7     Delhi      Swasthya Vihar  3 BHK Independent Floor            2.0   \n",
       "8     Delhi           Janakpuri  3 BHK Independent House            2.0   \n",
       "...     ...                 ...                       ...           ...   \n",
       "4981  Delhi            Jor bagh  3 BHK Independent Floor            3.0   \n",
       "4982  Delhi            Jor bagh  3 BHK Independent Floor            3.0   \n",
       "4997  Delhi  New Friends Colony  3 BHK Independent Floor            3.0   \n",
       "4998  Delhi  New Friends Colony  3 BHK Independent Floor            3.0   \n",
       "4999  Delhi  New Friends Colony  3 BHK Independent Floor            4.0   \n",
       "\n",
       "      numBalconies          Status  monthly_rent  house_size        price  \\\n",
       "3              NaN       Furnished         48000        1020   19200000.0   \n",
       "5              NaN  Semi-Furnished         11000         750    4400000.0   \n",
       "6              NaN       Furnished         20000        1300    8000000.0   \n",
       "7              NaN       Furnished         35000        1200   14000000.0   \n",
       "8              NaN  Semi-Furnished         39000        1100   15600000.0   \n",
       "...            ...             ...           ...         ...          ...   \n",
       "4981           2.0     Unfurnished        341165        2856  136466000.0   \n",
       "4982           2.0     Unfurnished        301020        2856  120408000.0   \n",
       "4997           2.0     Unfurnished        301012        1855  120404800.0   \n",
       "4998           2.0     Unfurnished        301011        2856  120404400.0   \n",
       "4999           2.0     Unfurnished        301012        2856  120404800.0   \n",
       "\n",
       "      numBedrooms  \n",
       "3               3  \n",
       "5               3  \n",
       "6               3  \n",
       "7               3  \n",
       "8               3  \n",
       "...           ...  \n",
       "4981            3  \n",
       "4982            3  \n",
       "4997            3  \n",
       "4998            3  \n",
       "4999            3  \n",
       "\n",
       "[1907 rows x 10 columns]"
      ]
     },
     "execution_count": 47,
     "metadata": {},
     "output_type": "execute_result"
    }
   ],
   "source": [
    "processed_df[processed_df['numBedrooms']==3]"
   ]
  },
  {
   "cell_type": "markdown",
   "id": "745ab1e3-5d5e-4f01-9ec4-3a415a58e471",
   "metadata": {},
   "source": [
    "# STAGE 3 -- ESTIMATING THE PRICE OF THE HOUSES FROM THE MONTHLY RENT\n",
    "### ANNUAL RENT IS GENERALLY 3% OF THE PRICE OF THE HOUSE IN METRO CITIES\n",
    "\n",
    "FOR TIER 1 CITIES LIKE DELHI THE METHOD WILL BE\n",
    "METHOD=(MONTHLY_RENT * 12)/0.03\n"
   ]
  },
  {
   "cell_type": "code",
   "execution_count": 48,
   "id": "c0a50e10-469d-460e-a20d-f0792b138e54",
   "metadata": {},
   "outputs": [
    {
     "data": {
      "text/html": [
       "<div>\n",
       "<style scoped>\n",
       "    .dataframe tbody tr th:only-of-type {\n",
       "        vertical-align: middle;\n",
       "    }\n",
       "\n",
       "    .dataframe tbody tr th {\n",
       "        vertical-align: top;\n",
       "    }\n",
       "\n",
       "    .dataframe thead th {\n",
       "        text-align: right;\n",
       "    }\n",
       "</style>\n",
       "<table border=\"1\" class=\"dataframe\">\n",
       "  <thead>\n",
       "    <tr style=\"text-align: right;\">\n",
       "      <th></th>\n",
       "      <th>city</th>\n",
       "      <th>location</th>\n",
       "      <th>house_type</th>\n",
       "      <th>numBathrooms</th>\n",
       "      <th>numBalconies</th>\n",
       "      <th>Status</th>\n",
       "      <th>monthly_rent</th>\n",
       "      <th>house_size</th>\n",
       "      <th>price</th>\n",
       "      <th>numBedrooms</th>\n",
       "    </tr>\n",
       "  </thead>\n",
       "  <tbody>\n",
       "    <tr>\n",
       "      <th>0</th>\n",
       "      <td>Delhi</td>\n",
       "      <td>Kalkaji</td>\n",
       "      <td>1 RK Studio Apartment</td>\n",
       "      <td>1.0</td>\n",
       "      <td>NaN</td>\n",
       "      <td>Furnished</td>\n",
       "      <td>22000</td>\n",
       "      <td>400</td>\n",
       "      <td>8800000.0</td>\n",
       "      <td>1</td>\n",
       "    </tr>\n",
       "    <tr>\n",
       "      <th>1</th>\n",
       "      <td>Delhi</td>\n",
       "      <td>Mansarover Garden</td>\n",
       "      <td>1 RK Studio Apartment</td>\n",
       "      <td>1.0</td>\n",
       "      <td>NaN</td>\n",
       "      <td>Furnished</td>\n",
       "      <td>20000</td>\n",
       "      <td>400</td>\n",
       "      <td>8000000.0</td>\n",
       "      <td>1</td>\n",
       "    </tr>\n",
       "    <tr>\n",
       "      <th>2</th>\n",
       "      <td>Delhi</td>\n",
       "      <td>Uttam Nagar</td>\n",
       "      <td>2 BHK Independent Floor</td>\n",
       "      <td>1.0</td>\n",
       "      <td>NaN</td>\n",
       "      <td>Semi-Furnished</td>\n",
       "      <td>8500</td>\n",
       "      <td>500</td>\n",
       "      <td>3400000.0</td>\n",
       "      <td>2</td>\n",
       "    </tr>\n",
       "    <tr>\n",
       "      <th>3</th>\n",
       "      <td>Delhi</td>\n",
       "      <td>Model Town</td>\n",
       "      <td>3 BHK Independent House</td>\n",
       "      <td>3.0</td>\n",
       "      <td>NaN</td>\n",
       "      <td>Furnished</td>\n",
       "      <td>48000</td>\n",
       "      <td>1020</td>\n",
       "      <td>19200000.0</td>\n",
       "      <td>3</td>\n",
       "    </tr>\n",
       "    <tr>\n",
       "      <th>4</th>\n",
       "      <td>Delhi</td>\n",
       "      <td>Sector 13 Rohini</td>\n",
       "      <td>2 BHK Apartment</td>\n",
       "      <td>2.0</td>\n",
       "      <td>NaN</td>\n",
       "      <td>Unfurnished</td>\n",
       "      <td>20000</td>\n",
       "      <td>810</td>\n",
       "      <td>8000000.0</td>\n",
       "      <td>2</td>\n",
       "    </tr>\n",
       "  </tbody>\n",
       "</table>\n",
       "</div>"
      ],
      "text/plain": [
       "    city           location                house_type  numBathrooms  \\\n",
       "0  Delhi            Kalkaji    1 RK Studio Apartment            1.0   \n",
       "1  Delhi  Mansarover Garden    1 RK Studio Apartment            1.0   \n",
       "2  Delhi        Uttam Nagar  2 BHK Independent Floor            1.0   \n",
       "3  Delhi         Model Town  3 BHK Independent House            3.0   \n",
       "4  Delhi   Sector 13 Rohini          2 BHK Apartment            2.0   \n",
       "\n",
       "   numBalconies          Status  monthly_rent  house_size       price  \\\n",
       "0           NaN       Furnished         22000         400   8800000.0   \n",
       "1           NaN       Furnished         20000         400   8000000.0   \n",
       "2           NaN  Semi-Furnished          8500         500   3400000.0   \n",
       "3           NaN       Furnished         48000        1020  19200000.0   \n",
       "4           NaN     Unfurnished         20000         810   8000000.0   \n",
       "\n",
       "   numBedrooms  \n",
       "0            1  \n",
       "1            1  \n",
       "2            2  \n",
       "3            3  \n",
       "4            2  "
      ]
     },
     "execution_count": 48,
     "metadata": {},
     "output_type": "execute_result"
    }
   ],
   "source": [
    "processed_df.eval('price=(monthly_rent * 12)/0.03',inplace=True)\n",
    "processed_df.head()"
   ]
  },
  {
   "cell_type": "code",
   "execution_count": 49,
   "id": "f3bdbc06-349d-4b52-8dca-d03e1a13bb4b",
   "metadata": {},
   "outputs": [
    {
     "name": "stderr",
     "output_type": "stream",
     "text": [
      "C:\\Users\\dhamech\\AppData\\Local\\Temp\\ipykernel_40236\\1648104608.py:1: SettingWithCopyWarning: \n",
      "A value is trying to be set on a copy of a slice from a DataFrame.\n",
      "Try using .loc[row_indexer,col_indexer] = value instead\n",
      "\n",
      "See the caveats in the documentation: https://pandas.pydata.org/pandas-docs/stable/user_guide/indexing.html#returning-a-view-versus-a-copy\n",
      "  processed_df.eval('price_per_room=price/numBedrooms',inplace=True)\n"
     ]
    },
    {
     "data": {
      "text/html": [
       "<div>\n",
       "<style scoped>\n",
       "    .dataframe tbody tr th:only-of-type {\n",
       "        vertical-align: middle;\n",
       "    }\n",
       "\n",
       "    .dataframe tbody tr th {\n",
       "        vertical-align: top;\n",
       "    }\n",
       "\n",
       "    .dataframe thead th {\n",
       "        text-align: right;\n",
       "    }\n",
       "</style>\n",
       "<table border=\"1\" class=\"dataframe\">\n",
       "  <thead>\n",
       "    <tr style=\"text-align: right;\">\n",
       "      <th></th>\n",
       "      <th>city</th>\n",
       "      <th>location</th>\n",
       "      <th>house_type</th>\n",
       "      <th>numBathrooms</th>\n",
       "      <th>numBalconies</th>\n",
       "      <th>Status</th>\n",
       "      <th>monthly_rent</th>\n",
       "      <th>house_size</th>\n",
       "      <th>price</th>\n",
       "      <th>numBedrooms</th>\n",
       "      <th>price_per_room</th>\n",
       "    </tr>\n",
       "  </thead>\n",
       "  <tbody>\n",
       "    <tr>\n",
       "      <th>0</th>\n",
       "      <td>Delhi</td>\n",
       "      <td>Kalkaji</td>\n",
       "      <td>1 RK Studio Apartment</td>\n",
       "      <td>1.0</td>\n",
       "      <td>NaN</td>\n",
       "      <td>Furnished</td>\n",
       "      <td>22000</td>\n",
       "      <td>400</td>\n",
       "      <td>8800000.0</td>\n",
       "      <td>1</td>\n",
       "      <td>8800000.0</td>\n",
       "    </tr>\n",
       "    <tr>\n",
       "      <th>1</th>\n",
       "      <td>Delhi</td>\n",
       "      <td>Mansarover Garden</td>\n",
       "      <td>1 RK Studio Apartment</td>\n",
       "      <td>1.0</td>\n",
       "      <td>NaN</td>\n",
       "      <td>Furnished</td>\n",
       "      <td>20000</td>\n",
       "      <td>400</td>\n",
       "      <td>8000000.0</td>\n",
       "      <td>1</td>\n",
       "      <td>8000000.0</td>\n",
       "    </tr>\n",
       "    <tr>\n",
       "      <th>2</th>\n",
       "      <td>Delhi</td>\n",
       "      <td>Uttam Nagar</td>\n",
       "      <td>2 BHK Independent Floor</td>\n",
       "      <td>1.0</td>\n",
       "      <td>NaN</td>\n",
       "      <td>Semi-Furnished</td>\n",
       "      <td>8500</td>\n",
       "      <td>500</td>\n",
       "      <td>3400000.0</td>\n",
       "      <td>2</td>\n",
       "      <td>1700000.0</td>\n",
       "    </tr>\n",
       "    <tr>\n",
       "      <th>3</th>\n",
       "      <td>Delhi</td>\n",
       "      <td>Model Town</td>\n",
       "      <td>3 BHK Independent House</td>\n",
       "      <td>3.0</td>\n",
       "      <td>NaN</td>\n",
       "      <td>Furnished</td>\n",
       "      <td>48000</td>\n",
       "      <td>1020</td>\n",
       "      <td>19200000.0</td>\n",
       "      <td>3</td>\n",
       "      <td>6400000.0</td>\n",
       "    </tr>\n",
       "    <tr>\n",
       "      <th>4</th>\n",
       "      <td>Delhi</td>\n",
       "      <td>Sector 13 Rohini</td>\n",
       "      <td>2 BHK Apartment</td>\n",
       "      <td>2.0</td>\n",
       "      <td>NaN</td>\n",
       "      <td>Unfurnished</td>\n",
       "      <td>20000</td>\n",
       "      <td>810</td>\n",
       "      <td>8000000.0</td>\n",
       "      <td>2</td>\n",
       "      <td>4000000.0</td>\n",
       "    </tr>\n",
       "  </tbody>\n",
       "</table>\n",
       "</div>"
      ],
      "text/plain": [
       "    city           location                house_type  numBathrooms  \\\n",
       "0  Delhi            Kalkaji    1 RK Studio Apartment            1.0   \n",
       "1  Delhi  Mansarover Garden    1 RK Studio Apartment            1.0   \n",
       "2  Delhi        Uttam Nagar  2 BHK Independent Floor            1.0   \n",
       "3  Delhi         Model Town  3 BHK Independent House            3.0   \n",
       "4  Delhi   Sector 13 Rohini          2 BHK Apartment            2.0   \n",
       "\n",
       "   numBalconies          Status  monthly_rent  house_size       price  \\\n",
       "0           NaN       Furnished         22000         400   8800000.0   \n",
       "1           NaN       Furnished         20000         400   8000000.0   \n",
       "2           NaN  Semi-Furnished          8500         500   3400000.0   \n",
       "3           NaN       Furnished         48000        1020  19200000.0   \n",
       "4           NaN     Unfurnished         20000         810   8000000.0   \n",
       "\n",
       "   numBedrooms  price_per_room  \n",
       "0            1       8800000.0  \n",
       "1            1       8000000.0  \n",
       "2            2       1700000.0  \n",
       "3            3       6400000.0  \n",
       "4            2       4000000.0  "
      ]
     },
     "execution_count": 49,
     "metadata": {},
     "output_type": "execute_result"
    }
   ],
   "source": [
    "processed_df.eval('price_per_room=price/numBedrooms',inplace=True)\n",
    "processed_df.head()"
   ]
  },
  {
   "cell_type": "markdown",
   "id": "2c798469-805c-49e4-afd1-be350640d400",
   "metadata": {},
   "source": [
    "## Price per sq ft"
   ]
  },
  {
   "cell_type": "code",
   "execution_count": 50,
   "id": "0fa1c386-85a7-4b6b-94f3-06b8b6b07e80",
   "metadata": {},
   "outputs": [
    {
     "name": "stderr",
     "output_type": "stream",
     "text": [
      "C:\\Users\\dhamech\\AppData\\Local\\Temp\\ipykernel_40236\\3832378045.py:1: SettingWithCopyWarning: \n",
      "A value is trying to be set on a copy of a slice from a DataFrame.\n",
      "Try using .loc[row_indexer,col_indexer] = value instead\n",
      "\n",
      "See the caveats in the documentation: https://pandas.pydata.org/pandas-docs/stable/user_guide/indexing.html#returning-a-view-versus-a-copy\n",
      "  processed_df.eval('price_per_sqft=price/house_size',inplace=True)\n"
     ]
    },
    {
     "data": {
      "text/html": [
       "<div>\n",
       "<style scoped>\n",
       "    .dataframe tbody tr th:only-of-type {\n",
       "        vertical-align: middle;\n",
       "    }\n",
       "\n",
       "    .dataframe tbody tr th {\n",
       "        vertical-align: top;\n",
       "    }\n",
       "\n",
       "    .dataframe thead th {\n",
       "        text-align: right;\n",
       "    }\n",
       "</style>\n",
       "<table border=\"1\" class=\"dataframe\">\n",
       "  <thead>\n",
       "    <tr style=\"text-align: right;\">\n",
       "      <th></th>\n",
       "      <th>city</th>\n",
       "      <th>location</th>\n",
       "      <th>house_type</th>\n",
       "      <th>numBathrooms</th>\n",
       "      <th>numBalconies</th>\n",
       "      <th>Status</th>\n",
       "      <th>monthly_rent</th>\n",
       "      <th>house_size</th>\n",
       "      <th>price</th>\n",
       "      <th>numBedrooms</th>\n",
       "      <th>price_per_room</th>\n",
       "      <th>price_per_sqft</th>\n",
       "    </tr>\n",
       "  </thead>\n",
       "  <tbody>\n",
       "    <tr>\n",
       "      <th>0</th>\n",
       "      <td>Delhi</td>\n",
       "      <td>Kalkaji</td>\n",
       "      <td>1 RK Studio Apartment</td>\n",
       "      <td>1.0</td>\n",
       "      <td>NaN</td>\n",
       "      <td>Furnished</td>\n",
       "      <td>22000</td>\n",
       "      <td>400</td>\n",
       "      <td>8800000.0</td>\n",
       "      <td>1</td>\n",
       "      <td>8800000.0</td>\n",
       "      <td>22000.0</td>\n",
       "    </tr>\n",
       "    <tr>\n",
       "      <th>1</th>\n",
       "      <td>Delhi</td>\n",
       "      <td>Mansarover Garden</td>\n",
       "      <td>1 RK Studio Apartment</td>\n",
       "      <td>1.0</td>\n",
       "      <td>NaN</td>\n",
       "      <td>Furnished</td>\n",
       "      <td>20000</td>\n",
       "      <td>400</td>\n",
       "      <td>8000000.0</td>\n",
       "      <td>1</td>\n",
       "      <td>8000000.0</td>\n",
       "      <td>20000.0</td>\n",
       "    </tr>\n",
       "    <tr>\n",
       "      <th>2</th>\n",
       "      <td>Delhi</td>\n",
       "      <td>Uttam Nagar</td>\n",
       "      <td>2 BHK Independent Floor</td>\n",
       "      <td>1.0</td>\n",
       "      <td>NaN</td>\n",
       "      <td>Semi-Furnished</td>\n",
       "      <td>8500</td>\n",
       "      <td>500</td>\n",
       "      <td>3400000.0</td>\n",
       "      <td>2</td>\n",
       "      <td>1700000.0</td>\n",
       "      <td>6800.0</td>\n",
       "    </tr>\n",
       "    <tr>\n",
       "      <th>3</th>\n",
       "      <td>Delhi</td>\n",
       "      <td>Model Town</td>\n",
       "      <td>3 BHK Independent House</td>\n",
       "      <td>3.0</td>\n",
       "      <td>NaN</td>\n",
       "      <td>Furnished</td>\n",
       "      <td>48000</td>\n",
       "      <td>1020</td>\n",
       "      <td>19200000.0</td>\n",
       "      <td>3</td>\n",
       "      <td>6400000.0</td>\n",
       "      <td>18823.529412</td>\n",
       "    </tr>\n",
       "    <tr>\n",
       "      <th>4</th>\n",
       "      <td>Delhi</td>\n",
       "      <td>Sector 13 Rohini</td>\n",
       "      <td>2 BHK Apartment</td>\n",
       "      <td>2.0</td>\n",
       "      <td>NaN</td>\n",
       "      <td>Unfurnished</td>\n",
       "      <td>20000</td>\n",
       "      <td>810</td>\n",
       "      <td>8000000.0</td>\n",
       "      <td>2</td>\n",
       "      <td>4000000.0</td>\n",
       "      <td>9876.54321</td>\n",
       "    </tr>\n",
       "  </tbody>\n",
       "</table>\n",
       "</div>"
      ],
      "text/plain": [
       "    city           location                house_type  numBathrooms  \\\n",
       "0  Delhi            Kalkaji    1 RK Studio Apartment            1.0   \n",
       "1  Delhi  Mansarover Garden    1 RK Studio Apartment            1.0   \n",
       "2  Delhi        Uttam Nagar  2 BHK Independent Floor            1.0   \n",
       "3  Delhi         Model Town  3 BHK Independent House            3.0   \n",
       "4  Delhi   Sector 13 Rohini          2 BHK Apartment            2.0   \n",
       "\n",
       "   numBalconies          Status  monthly_rent  house_size       price  \\\n",
       "0           NaN       Furnished         22000         400   8800000.0   \n",
       "1           NaN       Furnished         20000         400   8000000.0   \n",
       "2           NaN  Semi-Furnished          8500         500   3400000.0   \n",
       "3           NaN       Furnished         48000        1020  19200000.0   \n",
       "4           NaN     Unfurnished         20000         810   8000000.0   \n",
       "\n",
       "   numBedrooms  price_per_room  price_per_sqft  \n",
       "0            1       8800000.0         22000.0  \n",
       "1            1       8000000.0         20000.0  \n",
       "2            2       1700000.0          6800.0  \n",
       "3            3       6400000.0    18823.529412  \n",
       "4            2       4000000.0      9876.54321  "
      ]
     },
     "execution_count": 50,
     "metadata": {},
     "output_type": "execute_result"
    }
   ],
   "source": [
    "processed_df.eval('price_per_sqft=price/house_size',inplace=True)\n",
    "processed_df.head()"
   ]
  },
  {
   "cell_type": "code",
   "execution_count": 51,
   "id": "815571df-74b2-4b6f-8068-e871c949df59",
   "metadata": {},
   "outputs": [
    {
     "data": {
      "text/html": [
       "<div>\n",
       "<style scoped>\n",
       "    .dataframe tbody tr th:only-of-type {\n",
       "        vertical-align: middle;\n",
       "    }\n",
       "\n",
       "    .dataframe tbody tr th {\n",
       "        vertical-align: top;\n",
       "    }\n",
       "\n",
       "    .dataframe thead th {\n",
       "        text-align: right;\n",
       "    }\n",
       "</style>\n",
       "<table border=\"1\" class=\"dataframe\">\n",
       "  <thead>\n",
       "    <tr style=\"text-align: right;\">\n",
       "      <th></th>\n",
       "      <th>numBathrooms</th>\n",
       "      <th>numBalconies</th>\n",
       "      <th>monthly_rent</th>\n",
       "      <th>house_size</th>\n",
       "      <th>price</th>\n",
       "      <th>numBedrooms</th>\n",
       "      <th>price_per_room</th>\n",
       "      <th>price_per_sqft</th>\n",
       "    </tr>\n",
       "  </thead>\n",
       "  <tbody>\n",
       "    <tr>\n",
       "      <th>count</th>\n",
       "      <td>4975.000000</td>\n",
       "      <td>2737.000000</td>\n",
       "      <td>5.000000e+03</td>\n",
       "      <td>5000.0</td>\n",
       "      <td>5.000000e+03</td>\n",
       "      <td>5000.000000</td>\n",
       "      <td>5.000000e+03</td>\n",
       "      <td>5000.0</td>\n",
       "    </tr>\n",
       "    <tr>\n",
       "      <th>mean</th>\n",
       "      <td>2.918593</td>\n",
       "      <td>1.954330</td>\n",
       "      <td>2.221738e+05</td>\n",
       "      <td>2982.8854</td>\n",
       "      <td>8.886953e+07</td>\n",
       "      <td>3.103600</td>\n",
       "      <td>2.379744e+07</td>\n",
       "      <td>23734.231737</td>\n",
       "    </tr>\n",
       "    <tr>\n",
       "      <th>std</th>\n",
       "      <td>1.087823</td>\n",
       "      <td>0.547219</td>\n",
       "      <td>2.739843e+05</td>\n",
       "      <td>2168.663368</td>\n",
       "      <td>1.095937e+08</td>\n",
       "      <td>1.155653</td>\n",
       "      <td>2.442825e+07</td>\n",
       "      <td>17643.956096</td>\n",
       "    </tr>\n",
       "    <tr>\n",
       "      <th>min</th>\n",
       "      <td>1.000000</td>\n",
       "      <td>1.000000</td>\n",
       "      <td>3.000000e+03</td>\n",
       "      <td>150.0</td>\n",
       "      <td>1.200000e+06</td>\n",
       "      <td>1.000000</td>\n",
       "      <td>5.333333e+05</td>\n",
       "      <td>1600.0</td>\n",
       "    </tr>\n",
       "    <tr>\n",
       "      <th>25%</th>\n",
       "      <td>2.000000</td>\n",
       "      <td>2.000000</td>\n",
       "      <td>2.950000e+04</td>\n",
       "      <td>1100.0</td>\n",
       "      <td>1.180000e+07</td>\n",
       "      <td>2.000000</td>\n",
       "      <td>5.333333e+06</td>\n",
       "      <td>10666.666667</td>\n",
       "    </tr>\n",
       "    <tr>\n",
       "      <th>50%</th>\n",
       "      <td>3.000000</td>\n",
       "      <td>2.000000</td>\n",
       "      <td>1.250000e+05</td>\n",
       "      <td>2500.0</td>\n",
       "      <td>5.000000e+07</td>\n",
       "      <td>3.000000</td>\n",
       "      <td>1.658333e+07</td>\n",
       "      <td>19261.62214</td>\n",
       "    </tr>\n",
       "    <tr>\n",
       "      <th>75%</th>\n",
       "      <td>4.000000</td>\n",
       "      <td>2.000000</td>\n",
       "      <td>3.011020e+05</td>\n",
       "      <td>5896.0</td>\n",
       "      <td>1.204408e+08</td>\n",
       "      <td>4.000000</td>\n",
       "      <td>4.010110e+07</td>\n",
       "      <td>32258.064516</td>\n",
       "    </tr>\n",
       "    <tr>\n",
       "      <th>max</th>\n",
       "      <td>10.000000</td>\n",
       "      <td>8.000000</td>\n",
       "      <td>3.010101e+06</td>\n",
       "      <td>14521.0</td>\n",
       "      <td>1.204040e+09</td>\n",
       "      <td>12.000000</td>\n",
       "      <td>2.236212e+08</td>\n",
       "      <td>152809.937126</td>\n",
       "    </tr>\n",
       "  </tbody>\n",
       "</table>\n",
       "</div>"
      ],
      "text/plain": [
       "       numBathrooms  numBalconies  monthly_rent   house_size         price  \\\n",
       "count   4975.000000   2737.000000  5.000000e+03       5000.0  5.000000e+03   \n",
       "mean       2.918593      1.954330  2.221738e+05    2982.8854  8.886953e+07   \n",
       "std        1.087823      0.547219  2.739843e+05  2168.663368  1.095937e+08   \n",
       "min        1.000000      1.000000  3.000000e+03        150.0  1.200000e+06   \n",
       "25%        2.000000      2.000000  2.950000e+04       1100.0  1.180000e+07   \n",
       "50%        3.000000      2.000000  1.250000e+05       2500.0  5.000000e+07   \n",
       "75%        4.000000      2.000000  3.011020e+05       5896.0  1.204408e+08   \n",
       "max       10.000000      8.000000  3.010101e+06      14521.0  1.204040e+09   \n",
       "\n",
       "       numBedrooms  price_per_room  price_per_sqft  \n",
       "count  5000.000000    5.000000e+03          5000.0  \n",
       "mean      3.103600    2.379744e+07    23734.231737  \n",
       "std       1.155653    2.442825e+07    17643.956096  \n",
       "min       1.000000    5.333333e+05          1600.0  \n",
       "25%       2.000000    5.333333e+06    10666.666667  \n",
       "50%       3.000000    1.658333e+07     19261.62214  \n",
       "75%       4.000000    4.010110e+07    32258.064516  \n",
       "max      12.000000    2.236212e+08   152809.937126  "
      ]
     },
     "execution_count": 51,
     "metadata": {},
     "output_type": "execute_result"
    }
   ],
   "source": [
    "processed_df.describe()"
   ]
  },
  {
   "cell_type": "code",
   "execution_count": 52,
   "id": "a3d21335-cbb7-4ada-9b75-50bfbae22bb4",
   "metadata": {},
   "outputs": [
    {
     "data": {
      "text/html": [
       "<div>\n",
       "<style scoped>\n",
       "    .dataframe tbody tr th:only-of-type {\n",
       "        vertical-align: middle;\n",
       "    }\n",
       "\n",
       "    .dataframe tbody tr th {\n",
       "        vertical-align: top;\n",
       "    }\n",
       "\n",
       "    .dataframe thead th {\n",
       "        text-align: right;\n",
       "    }\n",
       "</style>\n",
       "<table border=\"1\" class=\"dataframe\">\n",
       "  <thead>\n",
       "    <tr style=\"text-align: right;\">\n",
       "      <th></th>\n",
       "      <th>city</th>\n",
       "      <th>location</th>\n",
       "      <th>house_type</th>\n",
       "      <th>numBathrooms</th>\n",
       "      <th>numBalconies</th>\n",
       "      <th>Status</th>\n",
       "      <th>monthly_rent</th>\n",
       "      <th>house_size</th>\n",
       "      <th>price</th>\n",
       "      <th>numBedrooms</th>\n",
       "      <th>price_per_room</th>\n",
       "      <th>price_per_sqft</th>\n",
       "    </tr>\n",
       "  </thead>\n",
       "  <tbody>\n",
       "    <tr>\n",
       "      <th>0</th>\n",
       "      <td>Delhi</td>\n",
       "      <td>Kalkaji</td>\n",
       "      <td>1 RK Studio Apartment</td>\n",
       "      <td>1.0</td>\n",
       "      <td>NaN</td>\n",
       "      <td>Furnished</td>\n",
       "      <td>22000</td>\n",
       "      <td>400</td>\n",
       "      <td>8800000.0</td>\n",
       "      <td>1</td>\n",
       "      <td>8800000.0</td>\n",
       "      <td>22000.0</td>\n",
       "    </tr>\n",
       "    <tr>\n",
       "      <th>1</th>\n",
       "      <td>Delhi</td>\n",
       "      <td>Mansarover Garden</td>\n",
       "      <td>1 RK Studio Apartment</td>\n",
       "      <td>1.0</td>\n",
       "      <td>NaN</td>\n",
       "      <td>Furnished</td>\n",
       "      <td>20000</td>\n",
       "      <td>400</td>\n",
       "      <td>8000000.0</td>\n",
       "      <td>1</td>\n",
       "      <td>8000000.0</td>\n",
       "      <td>20000.0</td>\n",
       "    </tr>\n",
       "    <tr>\n",
       "      <th>2</th>\n",
       "      <td>Delhi</td>\n",
       "      <td>Uttam Nagar</td>\n",
       "      <td>2 BHK Independent Floor</td>\n",
       "      <td>1.0</td>\n",
       "      <td>NaN</td>\n",
       "      <td>Semi-Furnished</td>\n",
       "      <td>8500</td>\n",
       "      <td>500</td>\n",
       "      <td>3400000.0</td>\n",
       "      <td>2</td>\n",
       "      <td>1700000.0</td>\n",
       "      <td>6800.0</td>\n",
       "    </tr>\n",
       "    <tr>\n",
       "      <th>3</th>\n",
       "      <td>Delhi</td>\n",
       "      <td>Model Town</td>\n",
       "      <td>3 BHK Independent House</td>\n",
       "      <td>3.0</td>\n",
       "      <td>NaN</td>\n",
       "      <td>Furnished</td>\n",
       "      <td>48000</td>\n",
       "      <td>1020</td>\n",
       "      <td>19200000.0</td>\n",
       "      <td>3</td>\n",
       "      <td>6400000.0</td>\n",
       "      <td>18823.529412</td>\n",
       "    </tr>\n",
       "    <tr>\n",
       "      <th>4</th>\n",
       "      <td>Delhi</td>\n",
       "      <td>Sector 13 Rohini</td>\n",
       "      <td>2 BHK Apartment</td>\n",
       "      <td>2.0</td>\n",
       "      <td>NaN</td>\n",
       "      <td>Unfurnished</td>\n",
       "      <td>20000</td>\n",
       "      <td>810</td>\n",
       "      <td>8000000.0</td>\n",
       "      <td>2</td>\n",
       "      <td>4000000.0</td>\n",
       "      <td>9876.54321</td>\n",
       "    </tr>\n",
       "  </tbody>\n",
       "</table>\n",
       "</div>"
      ],
      "text/plain": [
       "    city           location                house_type  numBathrooms  \\\n",
       "0  Delhi            Kalkaji    1 RK Studio Apartment            1.0   \n",
       "1  Delhi  Mansarover Garden    1 RK Studio Apartment            1.0   \n",
       "2  Delhi        Uttam Nagar  2 BHK Independent Floor            1.0   \n",
       "3  Delhi         Model Town  3 BHK Independent House            3.0   \n",
       "4  Delhi   Sector 13 Rohini          2 BHK Apartment            2.0   \n",
       "\n",
       "   numBalconies          Status  monthly_rent  house_size       price  \\\n",
       "0           NaN       Furnished         22000         400   8800000.0   \n",
       "1           NaN       Furnished         20000         400   8000000.0   \n",
       "2           NaN  Semi-Furnished          8500         500   3400000.0   \n",
       "3           NaN       Furnished         48000        1020  19200000.0   \n",
       "4           NaN     Unfurnished         20000         810   8000000.0   \n",
       "\n",
       "   numBedrooms  price_per_room  price_per_sqft  \n",
       "0            1       8800000.0         22000.0  \n",
       "1            1       8000000.0         20000.0  \n",
       "2            2       1700000.0          6800.0  \n",
       "3            3       6400000.0    18823.529412  \n",
       "4            2       4000000.0      9876.54321  "
      ]
     },
     "execution_count": 52,
     "metadata": {},
     "output_type": "execute_result"
    }
   ],
   "source": [
    "processed_df.head()"
   ]
  },
  {
   "cell_type": "markdown",
   "id": "e253d8a8-bd32-46e5-9ed4-4877f881fad6",
   "metadata": {},
   "source": [
    "# VISUALISATION"
   ]
  },
  {
   "cell_type": "code",
   "execution_count": 53,
   "id": "ff2350d8-735d-4fa9-a1b7-be23d2c088bf",
   "metadata": {},
   "outputs": [],
   "source": [
    "def get_box_plot(input_df, plot_parameter=\"price\", **filter_kwargs):\n",
    "    for key, value in filter_kwargs.items():\n",
    "        if key in input_df.columns:\n",
    "            input_df = input_df[input_df[key] == value]\n",
    "    fig = px.box(input_df, y=plot_parameter)\n",
    "    return fig"
   ]
  },
  {
   "cell_type": "code",
   "execution_count": 60,
   "id": "825faa88-4fc8-42e2-9b02-a8176c413202",
   "metadata": {
    "scrolled": true
   },
   "outputs": [
    {
     "data": {
      "application/vnd.plotly.v1+json": {
       "config": {
        "plotlyServerURL": "https://plot.ly"
       },
       "data": [
        {
         "alignmentgroup": "True",
         "hovertemplate": "price=%{y}<extra></extra>",
         "legendgroup": "",
         "marker": {
          "color": "#636efa"
         },
         "name": "",
         "notched": false,
         "offsetgroup": "",
         "orientation": "v",
         "showlegend": false,
         "type": "box",
         "x0": " ",
         "xaxis": "x",
         "y": {
          "bdata": "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",
          "dtype": "f8"
         },
         "y0": " ",
         "yaxis": "y"
        }
       ],
       "layout": {
        "boxmode": "group",
        "legend": {
         "tracegroupgap": 0
        },
        "margin": {
         "t": 60
        },
        "template": {
         "data": {
          "bar": [
           {
            "error_x": {
             "color": "#2a3f5f"
            },
            "error_y": {
             "color": "#2a3f5f"
            },
            "marker": {
             "line": {
              "color": "#E5ECF6",
              "width": 0.5
             },
             "pattern": {
              "fillmode": "overlay",
              "size": 10,
              "solidity": 0.2
             }
            },
            "type": "bar"
           }
          ],
          "barpolar": [
           {
            "marker": {
             "line": {
              "color": "#E5ECF6",
              "width": 0.5
             },
             "pattern": {
              "fillmode": "overlay",
              "size": 10,
              "solidity": 0.2
             }
            },
            "type": "barpolar"
           }
          ],
          "carpet": [
           {
            "aaxis": {
             "endlinecolor": "#2a3f5f",
             "gridcolor": "white",
             "linecolor": "white",
             "minorgridcolor": "white",
             "startlinecolor": "#2a3f5f"
            },
            "baxis": {
             "endlinecolor": "#2a3f5f",
             "gridcolor": "white",
             "linecolor": "white",
             "minorgridcolor": "white",
             "startlinecolor": "#2a3f5f"
            },
            "type": "carpet"
           }
          ],
          "choropleth": [
           {
            "colorbar": {
             "outlinewidth": 0,
             "ticks": ""
            },
            "type": "choropleth"
           }
          ],
          "contour": [
           {
            "colorbar": {
             "outlinewidth": 0,
             "ticks": ""
            },
            "colorscale": [
             [
              0,
              "#0d0887"
             ],
             [
              0.1111111111111111,
              "#46039f"
             ],
             [
              0.2222222222222222,
              "#7201a8"
             ],
             [
              0.3333333333333333,
              "#9c179e"
             ],
             [
              0.4444444444444444,
              "#bd3786"
             ],
             [
              0.5555555555555556,
              "#d8576b"
             ],
             [
              0.6666666666666666,
              "#ed7953"
             ],
             [
              0.7777777777777778,
              "#fb9f3a"
             ],
             [
              0.8888888888888888,
              "#fdca26"
             ],
             [
              1,
              "#f0f921"
             ]
            ],
            "type": "contour"
           }
          ],
          "contourcarpet": [
           {
            "colorbar": {
             "outlinewidth": 0,
             "ticks": ""
            },
            "type": "contourcarpet"
           }
          ],
          "heatmap": [
           {
            "colorbar": {
             "outlinewidth": 0,
             "ticks": ""
            },
            "colorscale": [
             [
              0,
              "#0d0887"
             ],
             [
              0.1111111111111111,
              "#46039f"
             ],
             [
              0.2222222222222222,
              "#7201a8"
             ],
             [
              0.3333333333333333,
              "#9c179e"
             ],
             [
              0.4444444444444444,
              "#bd3786"
             ],
             [
              0.5555555555555556,
              "#d8576b"
             ],
             [
              0.6666666666666666,
              "#ed7953"
             ],
             [
              0.7777777777777778,
              "#fb9f3a"
             ],
             [
              0.8888888888888888,
              "#fdca26"
             ],
             [
              1,
              "#f0f921"
             ]
            ],
            "type": "heatmap"
           }
          ],
          "histogram": [
           {
            "marker": {
             "pattern": {
              "fillmode": "overlay",
              "size": 10,
              "solidity": 0.2
             }
            },
            "type": "histogram"
           }
          ],
          "histogram2d": [
           {
            "colorbar": {
             "outlinewidth": 0,
             "ticks": ""
            },
            "colorscale": [
             [
              0,
              "#0d0887"
             ],
             [
              0.1111111111111111,
              "#46039f"
             ],
             [
              0.2222222222222222,
              "#7201a8"
             ],
             [
              0.3333333333333333,
              "#9c179e"
             ],
             [
              0.4444444444444444,
              "#bd3786"
             ],
             [
              0.5555555555555556,
              "#d8576b"
             ],
             [
              0.6666666666666666,
              "#ed7953"
             ],
             [
              0.7777777777777778,
              "#fb9f3a"
             ],
             [
              0.8888888888888888,
              "#fdca26"
             ],
             [
              1,
              "#f0f921"
             ]
            ],
            "type": "histogram2d"
           }
          ],
          "histogram2dcontour": [
           {
            "colorbar": {
             "outlinewidth": 0,
             "ticks": ""
            },
            "colorscale": [
             [
              0,
              "#0d0887"
             ],
             [
              0.1111111111111111,
              "#46039f"
             ],
             [
              0.2222222222222222,
              "#7201a8"
             ],
             [
              0.3333333333333333,
              "#9c179e"
             ],
             [
              0.4444444444444444,
              "#bd3786"
             ],
             [
              0.5555555555555556,
              "#d8576b"
             ],
             [
              0.6666666666666666,
              "#ed7953"
             ],
             [
              0.7777777777777778,
              "#fb9f3a"
             ],
             [
              0.8888888888888888,
              "#fdca26"
             ],
             [
              1,
              "#f0f921"
             ]
            ],
            "type": "histogram2dcontour"
           }
          ],
          "mesh3d": [
           {
            "colorbar": {
             "outlinewidth": 0,
             "ticks": ""
            },
            "type": "mesh3d"
           }
          ],
          "parcoords": [
           {
            "line": {
             "colorbar": {
              "outlinewidth": 0,
              "ticks": ""
             }
            },
            "type": "parcoords"
           }
          ],
          "pie": [
           {
            "automargin": true,
            "type": "pie"
           }
          ],
          "scatter": [
           {
            "fillpattern": {
             "fillmode": "overlay",
             "size": 10,
             "solidity": 0.2
            },
            "type": "scatter"
           }
          ],
          "scatter3d": [
           {
            "line": {
             "colorbar": {
              "outlinewidth": 0,
              "ticks": ""
             }
            },
            "marker": {
             "colorbar": {
              "outlinewidth": 0,
              "ticks": ""
             }
            },
            "type": "scatter3d"
           }
          ],
          "scattercarpet": [
           {
            "marker": {
             "colorbar": {
              "outlinewidth": 0,
              "ticks": ""
             }
            },
            "type": "scattercarpet"
           }
          ],
          "scattergeo": [
           {
            "marker": {
             "colorbar": {
              "outlinewidth": 0,
              "ticks": ""
             }
            },
            "type": "scattergeo"
           }
          ],
          "scattergl": [
           {
            "marker": {
             "colorbar": {
              "outlinewidth": 0,
              "ticks": ""
             }
            },
            "type": "scattergl"
           }
          ],
          "scattermap": [
           {
            "marker": {
             "colorbar": {
              "outlinewidth": 0,
              "ticks": ""
             }
            },
            "type": "scattermap"
           }
          ],
          "scattermapbox": [
           {
            "marker": {
             "colorbar": {
              "outlinewidth": 0,
              "ticks": ""
             }
            },
            "type": "scattermapbox"
           }
          ],
          "scatterpolar": [
           {
            "marker": {
             "colorbar": {
              "outlinewidth": 0,
              "ticks": ""
             }
            },
            "type": "scatterpolar"
           }
          ],
          "scatterpolargl": [
           {
            "marker": {
             "colorbar": {
              "outlinewidth": 0,
              "ticks": ""
             }
            },
            "type": "scatterpolargl"
           }
          ],
          "scatterternary": [
           {
            "marker": {
             "colorbar": {
              "outlinewidth": 0,
              "ticks": ""
             }
            },
            "type": "scatterternary"
           }
          ],
          "surface": [
           {
            "colorbar": {
             "outlinewidth": 0,
             "ticks": ""
            },
            "colorscale": [
             [
              0,
              "#0d0887"
             ],
             [
              0.1111111111111111,
              "#46039f"
             ],
             [
              0.2222222222222222,
              "#7201a8"
             ],
             [
              0.3333333333333333,
              "#9c179e"
             ],
             [
              0.4444444444444444,
              "#bd3786"
             ],
             [
              0.5555555555555556,
              "#d8576b"
             ],
             [
              0.6666666666666666,
              "#ed7953"
             ],
             [
              0.7777777777777778,
              "#fb9f3a"
             ],
             [
              0.8888888888888888,
              "#fdca26"
             ],
             [
              1,
              "#f0f921"
             ]
            ],
            "type": "surface"
           }
          ],
          "table": [
           {
            "cells": {
             "fill": {
              "color": "#EBF0F8"
             },
             "line": {
              "color": "white"
             }
            },
            "header": {
             "fill": {
              "color": "#C8D4E3"
             },
             "line": {
              "color": "white"
             }
            },
            "type": "table"
           }
          ]
         },
         "layout": {
          "annotationdefaults": {
           "arrowcolor": "#2a3f5f",
           "arrowhead": 0,
           "arrowwidth": 1
          },
          "autotypenumbers": "strict",
          "coloraxis": {
           "colorbar": {
            "outlinewidth": 0,
            "ticks": ""
           }
          },
          "colorscale": {
           "diverging": [
            [
             0,
             "#8e0152"
            ],
            [
             0.1,
             "#c51b7d"
            ],
            [
             0.2,
             "#de77ae"
            ],
            [
             0.3,
             "#f1b6da"
            ],
            [
             0.4,
             "#fde0ef"
            ],
            [
             0.5,
             "#f7f7f7"
            ],
            [
             0.6,
             "#e6f5d0"
            ],
            [
             0.7,
             "#b8e186"
            ],
            [
             0.8,
             "#7fbc41"
            ],
            [
             0.9,
             "#4d9221"
            ],
            [
             1,
             "#276419"
            ]
           ],
           "sequential": [
            [
             0,
             "#0d0887"
            ],
            [
             0.1111111111111111,
             "#46039f"
            ],
            [
             0.2222222222222222,
             "#7201a8"
            ],
            [
             0.3333333333333333,
             "#9c179e"
            ],
            [
             0.4444444444444444,
             "#bd3786"
            ],
            [
             0.5555555555555556,
             "#d8576b"
            ],
            [
             0.6666666666666666,
             "#ed7953"
            ],
            [
             0.7777777777777778,
             "#fb9f3a"
            ],
            [
             0.8888888888888888,
             "#fdca26"
            ],
            [
             1,
             "#f0f921"
            ]
           ],
           "sequentialminus": [
            [
             0,
             "#0d0887"
            ],
            [
             0.1111111111111111,
             "#46039f"
            ],
            [
             0.2222222222222222,
             "#7201a8"
            ],
            [
             0.3333333333333333,
             "#9c179e"
            ],
            [
             0.4444444444444444,
             "#bd3786"
            ],
            [
             0.5555555555555556,
             "#d8576b"
            ],
            [
             0.6666666666666666,
             "#ed7953"
            ],
            [
             0.7777777777777778,
             "#fb9f3a"
            ],
            [
             0.8888888888888888,
             "#fdca26"
            ],
            [
             1,
             "#f0f921"
            ]
           ]
          },
          "colorway": [
           "#636efa",
           "#EF553B",
           "#00cc96",
           "#ab63fa",
           "#FFA15A",
           "#19d3f3",
           "#FF6692",
           "#B6E880",
           "#FF97FF",
           "#FECB52"
          ],
          "font": {
           "color": "#2a3f5f"
          },
          "geo": {
           "bgcolor": "white",
           "lakecolor": "white",
           "landcolor": "#E5ECF6",
           "showlakes": true,
           "showland": true,
           "subunitcolor": "white"
          },
          "hoverlabel": {
           "align": "left"
          },
          "hovermode": "closest",
          "mapbox": {
           "style": "light"
          },
          "paper_bgcolor": "white",
          "plot_bgcolor": "#E5ECF6",
          "polar": {
           "angularaxis": {
            "gridcolor": "white",
            "linecolor": "white",
            "ticks": ""
           },
           "bgcolor": "#E5ECF6",
           "radialaxis": {
            "gridcolor": "white",
            "linecolor": "white",
            "ticks": ""
           }
          },
          "scene": {
           "xaxis": {
            "backgroundcolor": "#E5ECF6",
            "gridcolor": "white",
            "gridwidth": 2,
            "linecolor": "white",
            "showbackground": true,
            "ticks": "",
            "zerolinecolor": "white"
           },
           "yaxis": {
            "backgroundcolor": "#E5ECF6",
            "gridcolor": "white",
            "gridwidth": 2,
            "linecolor": "white",
            "showbackground": true,
            "ticks": "",
            "zerolinecolor": "white"
           },
           "zaxis": {
            "backgroundcolor": "#E5ECF6",
            "gridcolor": "white",
            "gridwidth": 2,
            "linecolor": "white",
            "showbackground": true,
            "ticks": "",
            "zerolinecolor": "white"
           }
          },
          "shapedefaults": {
           "line": {
            "color": "#2a3f5f"
           }
          },
          "ternary": {
           "aaxis": {
            "gridcolor": "white",
            "linecolor": "white",
            "ticks": ""
           },
           "baxis": {
            "gridcolor": "white",
            "linecolor": "white",
            "ticks": ""
           },
           "bgcolor": "#E5ECF6",
           "caxis": {
            "gridcolor": "white",
            "linecolor": "white",
            "ticks": ""
           }
          },
          "title": {
           "x": 0.05
          },
          "xaxis": {
           "automargin": true,
           "gridcolor": "white",
           "linecolor": "white",
           "ticks": "",
           "title": {
            "standoff": 15
           },
           "zerolinecolor": "white",
           "zerolinewidth": 2
          },
          "yaxis": {
           "automargin": true,
           "gridcolor": "white",
           "linecolor": "white",
           "ticks": "",
           "title": {
            "standoff": 15
           },
           "zerolinecolor": "white",
           "zerolinewidth": 2
          }
         }
        },
        "xaxis": {
         "anchor": "y",
         "domain": [
          0,
          1
         ]
        },
        "yaxis": {
         "anchor": "x",
         "domain": [
          0,
          1
         ],
         "title": {
          "text": "price"
         }
        }
       }
      },
      "image/png": "[encoded data removed]"
     },
     "metadata": {},
     "output_type": "display_data"
    }
   ],
   "source": [
    "get_box_plot(processed_df,plot_parameter='price').show()"
   ]
  },
  {
   "cell_type": "markdown",
   "id": "0e716ed0-8739-4146-a63b-92b7041dd162",
   "metadata": {},
   "source": [
    "### 📊 FINDINGS (prices of house in Delhi)\n",
    "\n",
    "| Metric                                      | Value             |\n",
    "|--------------------------------------------|-------------------|\n",
    "| The median price of a house in Delhi       | 12 million        |\n",
    "| The minimum price of a house               | 1.1 million       |\n",
    "| The lower and upper quartile price range   | ~12M to ~120M     |\n",
    "| The maximum price of a house in Delhi      | 1.2 billion       |"
   ]
  },
  {
   "cell_type": "code",
   "execution_count": 61,
   "id": "e7ceaa08-89a8-46e4-825b-0ae6d3487ad9",
   "metadata": {
    "scrolled": true
   },
   "outputs": [
    {
     "data": {
      "application/vnd.plotly.v1+json": {
       "config": {
        "plotlyServerURL": "https://plot.ly"
       },
       "data": [
        {
         "alignmentgroup": "True",
         "hovertemplate": "monthly_rent=%{y}<extra></extra>",
         "legendgroup": "",
         "marker": {
          "color": "#636efa"
         },
         "name": "",
         "notched": false,
         "offsetgroup": "",
         "orientation": "v",
         "showlegend": false,
         "type": "box",
         "x0": " ",
         "xaxis": "x",
         "y": {
          "bdata": "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",
          "dtype": "i4"
         },
         "y0": " ",
         "yaxis": "y"
        }
       ],
       "layout": {
        "boxmode": "group",
        "legend": {
         "tracegroupgap": 0
        },
        "margin": {
         "t": 60
        },
        "template": {
         "data": {
          "bar": [
           {
            "error_x": {
             "color": "#2a3f5f"
            },
            "error_y": {
             "color": "#2a3f5f"
            },
            "marker": {
             "line": {
              "color": "#E5ECF6",
              "width": 0.5
             },
             "pattern": {
              "fillmode": "overlay",
              "size": 10,
              "solidity": 0.2
             }
            },
            "type": "bar"
           }
          ],
          "barpolar": [
           {
            "marker": {
             "line": {
              "color": "#E5ECF6",
              "width": 0.5
             },
             "pattern": {
              "fillmode": "overlay",
              "size": 10,
              "solidity": 0.2
             }
            },
            "type": "barpolar"
           }
          ],
          "carpet": [
           {
            "aaxis": {
             "endlinecolor": "#2a3f5f",
             "gridcolor": "white",
             "linecolor": "white",
             "minorgridcolor": "white",
             "startlinecolor": "#2a3f5f"
            },
            "baxis": {
             "endlinecolor": "#2a3f5f",
             "gridcolor": "white",
             "linecolor": "white",
             "minorgridcolor": "white",
             "startlinecolor": "#2a3f5f"
            },
            "type": "carpet"
           }
          ],
          "choropleth": [
           {
            "colorbar": {
             "outlinewidth": 0,
             "ticks": ""
            },
            "type": "choropleth"
           }
          ],
          "contour": [
           {
            "colorbar": {
             "outlinewidth": 0,
             "ticks": ""
            },
            "colorscale": [
             [
              0,
              "#0d0887"
             ],
             [
              0.1111111111111111,
              "#46039f"
             ],
             [
              0.2222222222222222,
              "#7201a8"
             ],
             [
              0.3333333333333333,
              "#9c179e"
             ],
             [
              0.4444444444444444,
              "#bd3786"
             ],
             [
              0.5555555555555556,
              "#d8576b"
             ],
             [
              0.6666666666666666,
              "#ed7953"
             ],
             [
              0.7777777777777778,
              "#fb9f3a"
             ],
             [
              0.8888888888888888,
              "#fdca26"
             ],
             [
              1,
              "#f0f921"
             ]
            ],
            "type": "contour"
           }
          ],
          "contourcarpet": [
           {
            "colorbar": {
             "outlinewidth": 0,
             "ticks": ""
            },
            "type": "contourcarpet"
           }
          ],
          "heatmap": [
           {
            "colorbar": {
             "outlinewidth": 0,
             "ticks": ""
            },
            "colorscale": [
             [
              0,
              "#0d0887"
             ],
             [
              0.1111111111111111,
              "#46039f"
             ],
             [
              0.2222222222222222,
              "#7201a8"
             ],
             [
              0.3333333333333333,
              "#9c179e"
             ],
             [
              0.4444444444444444,
              "#bd3786"
             ],
             [
              0.5555555555555556,
              "#d8576b"
             ],
             [
              0.6666666666666666,
              "#ed7953"
             ],
             [
              0.7777777777777778,
              "#fb9f3a"
             ],
             [
              0.8888888888888888,
              "#fdca26"
             ],
             [
              1,
              "#f0f921"
             ]
            ],
            "type": "heatmap"
           }
          ],
          "histogram": [
           {
            "marker": {
             "pattern": {
              "fillmode": "overlay",
              "size": 10,
              "solidity": 0.2
             }
            },
            "type": "histogram"
           }
          ],
          "histogram2d": [
           {
            "colorbar": {
             "outlinewidth": 0,
             "ticks": ""
            },
            "colorscale": [
             [
              0,
              "#0d0887"
             ],
             [
              0.1111111111111111,
              "#46039f"
             ],
             [
              0.2222222222222222,
              "#7201a8"
             ],
             [
              0.3333333333333333,
              "#9c179e"
             ],
             [
              0.4444444444444444,
              "#bd3786"
             ],
             [
              0.5555555555555556,
              "#d8576b"
             ],
             [
              0.6666666666666666,
              "#ed7953"
             ],
             [
              0.7777777777777778,
              "#fb9f3a"
             ],
             [
              0.8888888888888888,
              "#fdca26"
             ],
             [
              1,
              "#f0f921"
             ]
            ],
            "type": "histogram2d"
           }
          ],
          "histogram2dcontour": [
           {
            "colorbar": {
             "outlinewidth": 0,
             "ticks": ""
            },
            "colorscale": [
             [
              0,
              "#0d0887"
             ],
             [
              0.1111111111111111,
              "#46039f"
             ],
             [
              0.2222222222222222,
              "#7201a8"
             ],
             [
              0.3333333333333333,
              "#9c179e"
             ],
             [
              0.4444444444444444,
              "#bd3786"
             ],
             [
              0.5555555555555556,
              "#d8576b"
             ],
             [
              0.6666666666666666,
              "#ed7953"
             ],
             [
              0.7777777777777778,
              "#fb9f3a"
             ],
             [
              0.8888888888888888,
              "#fdca26"
             ],
             [
              1,
              "#f0f921"
             ]
            ],
            "type": "histogram2dcontour"
           }
          ],
          "mesh3d": [
           {
            "colorbar": {
             "outlinewidth": 0,
             "ticks": ""
            },
            "type": "mesh3d"
           }
          ],
          "parcoords": [
           {
            "line": {
             "colorbar": {
              "outlinewidth": 0,
              "ticks": ""
             }
            },
            "type": "parcoords"
           }
          ],
          "pie": [
           {
            "automargin": true,
            "type": "pie"
           }
          ],
          "scatter": [
           {
            "fillpattern": {
             "fillmode": "overlay",
             "size": 10,
             "solidity": 0.2
            },
            "type": "scatter"
           }
          ],
          "scatter3d": [
           {
            "line": {
             "colorbar": {
              "outlinewidth": 0,
              "ticks": ""
             }
            },
            "marker": {
             "colorbar": {
              "outlinewidth": 0,
              "ticks": ""
             }
            },
            "type": "scatter3d"
           }
          ],
          "scattercarpet": [
           {
            "marker": {
             "colorbar": {
              "outlinewidth": 0,
              "ticks": ""
             }
            },
            "type": "scattercarpet"
           }
          ],
          "scattergeo": [
           {
            "marker": {
             "colorbar": {
              "outlinewidth": 0,
              "ticks": ""
             }
            },
            "type": "scattergeo"
           }
          ],
          "scattergl": [
           {
            "marker": {
             "colorbar": {
              "outlinewidth": 0,
              "ticks": ""
             }
            },
            "type": "scattergl"
           }
          ],
          "scattermap": [
           {
            "marker": {
             "colorbar": {
              "outlinewidth": 0,
              "ticks": ""
             }
            },
            "type": "scattermap"
           }
          ],
          "scattermapbox": [
           {
            "marker": {
             "colorbar": {
              "outlinewidth": 0,
              "ticks": ""
             }
            },
            "type": "scattermapbox"
           }
          ],
          "scatterpolar": [
           {
            "marker": {
             "colorbar": {
              "outlinewidth": 0,
              "ticks": ""
             }
            },
            "type": "scatterpolar"
           }
          ],
          "scatterpolargl": [
           {
            "marker": {
             "colorbar": {
              "outlinewidth": 0,
              "ticks": ""
             }
            },
            "type": "scatterpolargl"
           }
          ],
          "scatterternary": [
           {
            "marker": {
             "colorbar": {
              "outlinewidth": 0,
              "ticks": ""
             }
            },
            "type": "scatterternary"
           }
          ],
          "surface": [
           {
            "colorbar": {
             "outlinewidth": 0,
             "ticks": ""
            },
            "colorscale": [
             [
              0,
              "#0d0887"
             ],
             [
              0.1111111111111111,
              "#46039f"
             ],
             [
              0.2222222222222222,
              "#7201a8"
             ],
             [
              0.3333333333333333,
              "#9c179e"
             ],
             [
              0.4444444444444444,
              "#bd3786"
             ],
             [
              0.5555555555555556,
              "#d8576b"
             ],
             [
              0.6666666666666666,
              "#ed7953"
             ],
             [
              0.7777777777777778,
              "#fb9f3a"
             ],
             [
              0.8888888888888888,
              "#fdca26"
             ],
             [
              1,
              "#f0f921"
             ]
            ],
            "type": "surface"
           }
          ],
          "table": [
           {
            "cells": {
             "fill": {
              "color": "#EBF0F8"
             },
             "line": {
              "color": "white"
             }
            },
            "header": {
             "fill": {
              "color": "#C8D4E3"
             },
             "line": {
              "color": "white"
             }
            },
            "type": "table"
           }
          ]
         },
         "layout": {
          "annotationdefaults": {
           "arrowcolor": "#2a3f5f",
           "arrowhead": 0,
           "arrowwidth": 1
          },
          "autotypenumbers": "strict",
          "coloraxis": {
           "colorbar": {
            "outlinewidth": 0,
            "ticks": ""
           }
          },
          "colorscale": {
           "diverging": [
            [
             0,
             "#8e0152"
            ],
            [
             0.1,
             "#c51b7d"
            ],
            [
             0.2,
             "#de77ae"
            ],
            [
             0.3,
             "#f1b6da"
            ],
            [
             0.4,
             "#fde0ef"
            ],
            [
             0.5,
             "#f7f7f7"
            ],
            [
             0.6,
             "#e6f5d0"
            ],
            [
             0.7,
             "#b8e186"
            ],
            [
             0.8,
             "#7fbc41"
            ],
            [
             0.9,
             "#4d9221"
            ],
            [
             1,
             "#276419"
            ]
           ],
           "sequential": [
            [
             0,
             "#0d0887"
            ],
            [
             0.1111111111111111,
             "#46039f"
            ],
            [
             0.2222222222222222,
             "#7201a8"
            ],
            [
             0.3333333333333333,
             "#9c179e"
            ],
            [
             0.4444444444444444,
             "#bd3786"
            ],
            [
             0.5555555555555556,
             "#d8576b"
            ],
            [
             0.6666666666666666,
             "#ed7953"
            ],
            [
             0.7777777777777778,
             "#fb9f3a"
            ],
            [
             0.8888888888888888,
             "#fdca26"
            ],
            [
             1,
             "#f0f921"
            ]
           ],
           "sequentialminus": [
            [
             0,
             "#0d0887"
            ],
            [
             0.1111111111111111,
             "#46039f"
            ],
            [
             0.2222222222222222,
             "#7201a8"
            ],
            [
             0.3333333333333333,
             "#9c179e"
            ],
            [
             0.4444444444444444,
             "#bd3786"
            ],
            [
             0.5555555555555556,
             "#d8576b"
            ],
            [
             0.6666666666666666,
             "#ed7953"
            ],
            [
             0.7777777777777778,
             "#fb9f3a"
            ],
            [
             0.8888888888888888,
             "#fdca26"
            ],
            [
             1,
             "#f0f921"
            ]
           ]
          },
          "colorway": [
           "#636efa",
           "#EF553B",
           "#00cc96",
           "#ab63fa",
           "#FFA15A",
           "#19d3f3",
           "#FF6692",
           "#B6E880",
           "#FF97FF",
           "#FECB52"
          ],
          "font": {
           "color": "#2a3f5f"
          },
          "geo": {
           "bgcolor": "white",
           "lakecolor": "white",
           "landcolor": "#E5ECF6",
           "showlakes": true,
           "showland": true,
           "subunitcolor": "white"
          },
          "hoverlabel": {
           "align": "left"
          },
          "hovermode": "closest",
          "mapbox": {
           "style": "light"
          },
          "paper_bgcolor": "white",
          "plot_bgcolor": "#E5ECF6",
          "polar": {
           "angularaxis": {
            "gridcolor": "white",
            "linecolor": "white",
            "ticks": ""
           },
           "bgcolor": "#E5ECF6",
           "radialaxis": {
            "gridcolor": "white",
            "linecolor": "white",
            "ticks": ""
           }
          },
          "scene": {
           "xaxis": {
            "backgroundcolor": "#E5ECF6",
            "gridcolor": "white",
            "gridwidth": 2,
            "linecolor": "white",
            "showbackground": true,
            "ticks": "",
            "zerolinecolor": "white"
           },
           "yaxis": {
            "backgroundcolor": "#E5ECF6",
            "gridcolor": "white",
            "gridwidth": 2,
            "linecolor": "white",
            "showbackground": true,
            "ticks": "",
            "zerolinecolor": "white"
           },
           "zaxis": {
            "backgroundcolor": "#E5ECF6",
            "gridcolor": "white",
            "gridwidth": 2,
            "linecolor": "white",
            "showbackground": true,
            "ticks": "",
            "zerolinecolor": "white"
           }
          },
          "shapedefaults": {
           "line": {
            "color": "#2a3f5f"
           }
          },
          "ternary": {
           "aaxis": {
            "gridcolor": "white",
            "linecolor": "white",
            "ticks": ""
           },
           "baxis": {
            "gridcolor": "white",
            "linecolor": "white",
            "ticks": ""
           },
           "bgcolor": "#E5ECF6",
           "caxis": {
            "gridcolor": "white",
            "linecolor": "white",
            "ticks": ""
           }
          },
          "title": {
           "x": 0.05
          },
          "xaxis": {
           "automargin": true,
           "gridcolor": "white",
           "linecolor": "white",
           "ticks": "",
           "title": {
            "standoff": 15
           },
           "zerolinecolor": "white",
           "zerolinewidth": 2
          },
          "yaxis": {
           "automargin": true,
           "gridcolor": "white",
           "linecolor": "white",
           "ticks": "",
           "title": {
            "standoff": 15
           },
           "zerolinecolor": "white",
           "zerolinewidth": 2
          }
         }
        },
        "xaxis": {
         "anchor": "y",
         "domain": [
          0,
          1
         ]
        },
        "yaxis": {
         "anchor": "x",
         "domain": [
          0,
          1
         ],
         "title": {
          "text": "monthly_rent"
         }
        }
       }
      },
      "image/png": "[encoded data removed]"
     },
     "metadata": {},
     "output_type": "display_data"
    }
   ],
   "source": [
    "get_box_plot(processed_df,plot_parameter='monthly_rent',numBedrooms=2,Status='Semi-Furnished').show()"
   ]
  },
  {
   "cell_type": "markdown",
   "id": "6a6b917f-0ff8-42e8-87a4-6e6aad5bdd32",
   "metadata": {},
   "source": [
    "### 📊 FINDINGS( MONTHLY RENT OF 2BHK SEMI-FURNISHED HOUSES)\n",
    "\n",
    "| Metric                                      | Value             |\n",
    "|--------------------------------------------|-------------------|\n",
    "| The median MONTHLY RENT                    |     21K           |\n",
    "| The minimum MONTHLY RENT                   |     6K            |\n",
    "| The lower and upper quartile               | 14.5-27.5K        |\n",
    "| The maximum RENT                           |    250K           |"
   ]
  },
  {
   "cell_type": "code",
   "execution_count": 62,
   "id": "f4bef80e-af69-4c29-9728-a6cf5af36e36",
   "metadata": {},
   "outputs": [
    {
     "data": {
      "text/plain": [
       "np.float64(1204040400.0)"
      ]
     },
     "execution_count": 62,
     "metadata": {},
     "output_type": "execute_result"
    }
   ],
   "source": [
    "processed_df['price'].max()"
   ]
  },
  {
   "cell_type": "code",
   "execution_count": 63,
   "id": "eb185ec7-2321-47d1-a46f-2f37e22a6e73",
   "metadata": {},
   "outputs": [
    {
     "data": {
      "application/vnd.plotly.v1+json": {
       "config": {
        "plotlyServerURL": "https://plot.ly"
       },
       "data": [
        {
         "alignmentgroup": "True",
         "hovertemplate": "price=%{y}<extra></extra>",
         "legendgroup": "",
         "marker": {
          "color": "#636efa"
         },
         "name": "",
         "notched": false,
         "offsetgroup": "",
         "orientation": "v",
         "showlegend": false,
         "type": "box",
         "x0": " ",
         "xaxis": "x",
         "y": {
          "bdata": "AAAAAICEXkEAAAAAINZTQQAAAAAAalhBAAAAAMBcVUEAAAAAwFxVQQAAAABAd1tBAAAAAICEXkEAAAAAgE9iQQAAAACAhF5BAAAAADQUZ0EAAAAAYOOGQQAAAADgyGBBAAAAAJA6bEEAAAAAkDpsQQAAAACQOmxBAAAAAPCzakEAAAAAkDpsQQAAAACAhF5BAAAAAPCzakEAAAAAiCpxQQAAAACAhG5BAAAAAABqWEEAAAAAYONWQQAAAABg41ZBAAAAAGDjVkEAAAAAYONWQQAAAACAhF5BAAAAAEB3W0EAAAAA0BJjQQAAAADAXGVBAAAAAJAFUEEAAAAAQHdLQQAAAACQOlxBAAAAAOD9TEEAAAAAMIxRQQAAAACQOlxBAAAAABAgZkEAAAAA6NhrQQAAAAAg1lNBAAAAABAgVkEAAAAAgIRuQQAAAADAXGVBAAAAAODIUEEAAAAAQHdbQQAAAABg42ZBAAAAAEB3W0EAAAAAINZjQQAAAADgyGBBAAAAAMBcZUEAAAAAqMt4QQAAAAAg1nNBAAAAAICETkEAAAAAgE9SQQAAAABAd1tBAAAAAOD9XEEAAAAAINZjQQAAAAAwjGFBAAAAAICEXkEAAAAAGPt0QQAAAACAT1JBAAAAAEB3S0EAAAAAKLFiQQAAAACAT1JBAAAAAJAFUEEAAAAAgIROQQAAAACAT1JBAAAAANASU0EAAAAAgE9SQQAAAAAAF1FBAAAAAODIUEEAAAAA0BJjQQAAAADAXFVBAAAAAGDjVkEAAAAAYONWQQAAAADgyEBBAAAAAKDwWUEAAAAAQHdbQQAAAACAhF5BAAAAACDWU0EAAAAAcJlUQQ==",
          "dtype": "f8"
         },
         "y0": " ",
         "yaxis": "y"
        }
       ],
       "layout": {
        "boxmode": "group",
        "legend": {
         "tracegroupgap": 0
        },
        "margin": {
         "t": 60
        },
        "template": {
         "data": {
          "bar": [
           {
            "error_x": {
             "color": "#2a3f5f"
            },
            "error_y": {
             "color": "#2a3f5f"
            },
            "marker": {
             "line": {
              "color": "#E5ECF6",
              "width": 0.5
             },
             "pattern": {
              "fillmode": "overlay",
              "size": 10,
              "solidity": 0.2
             }
            },
            "type": "bar"
           }
          ],
          "barpolar": [
           {
            "marker": {
             "line": {
              "color": "#E5ECF6",
              "width": 0.5
             },
             "pattern": {
              "fillmode": "overlay",
              "size": 10,
              "solidity": 0.2
             }
            },
            "type": "barpolar"
           }
          ],
          "carpet": [
           {
            "aaxis": {
             "endlinecolor": "#2a3f5f",
             "gridcolor": "white",
             "linecolor": "white",
             "minorgridcolor": "white",
             "startlinecolor": "#2a3f5f"
            },
            "baxis": {
             "endlinecolor": "#2a3f5f",
             "gridcolor": "white",
             "linecolor": "white",
             "minorgridcolor": "white",
             "startlinecolor": "#2a3f5f"
            },
            "type": "carpet"
           }
          ],
          "choropleth": [
           {
            "colorbar": {
             "outlinewidth": 0,
             "ticks": ""
            },
            "type": "choropleth"
           }
          ],
          "contour": [
           {
            "colorbar": {
             "outlinewidth": 0,
             "ticks": ""
            },
            "colorscale": [
             [
              0,
              "#0d0887"
             ],
             [
              0.1111111111111111,
              "#46039f"
             ],
             [
              0.2222222222222222,
              "#7201a8"
             ],
             [
              0.3333333333333333,
              "#9c179e"
             ],
             [
              0.4444444444444444,
              "#bd3786"
             ],
             [
              0.5555555555555556,
              "#d8576b"
             ],
             [
              0.6666666666666666,
              "#ed7953"
             ],
             [
              0.7777777777777778,
              "#fb9f3a"
             ],
             [
              0.8888888888888888,
              "#fdca26"
             ],
             [
              1,
              "#f0f921"
             ]
            ],
            "type": "contour"
           }
          ],
          "contourcarpet": [
           {
            "colorbar": {
             "outlinewidth": 0,
             "ticks": ""
            },
            "type": "contourcarpet"
           }
          ],
          "heatmap": [
           {
            "colorbar": {
             "outlinewidth": 0,
             "ticks": ""
            },
            "colorscale": [
             [
              0,
              "#0d0887"
             ],
             [
              0.1111111111111111,
              "#46039f"
             ],
             [
              0.2222222222222222,
              "#7201a8"
             ],
             [
              0.3333333333333333,
              "#9c179e"
             ],
             [
              0.4444444444444444,
              "#bd3786"
             ],
             [
              0.5555555555555556,
              "#d8576b"
             ],
             [
              0.6666666666666666,
              "#ed7953"
             ],
             [
              0.7777777777777778,
              "#fb9f3a"
             ],
             [
              0.8888888888888888,
              "#fdca26"
             ],
             [
              1,
              "#f0f921"
             ]
            ],
            "type": "heatmap"
           }
          ],
          "histogram": [
           {
            "marker": {
             "pattern": {
              "fillmode": "overlay",
              "size": 10,
              "solidity": 0.2
             }
            },
            "type": "histogram"
           }
          ],
          "histogram2d": [
           {
            "colorbar": {
             "outlinewidth": 0,
             "ticks": ""
            },
            "colorscale": [
             [
              0,
              "#0d0887"
             ],
             [
              0.1111111111111111,
              "#46039f"
             ],
             [
              0.2222222222222222,
              "#7201a8"
             ],
             [
              0.3333333333333333,
              "#9c179e"
             ],
             [
              0.4444444444444444,
              "#bd3786"
             ],
             [
              0.5555555555555556,
              "#d8576b"
             ],
             [
              0.6666666666666666,
              "#ed7953"
             ],
             [
              0.7777777777777778,
              "#fb9f3a"
             ],
             [
              0.8888888888888888,
              "#fdca26"
             ],
             [
              1,
              "#f0f921"
             ]
            ],
            "type": "histogram2d"
           }
          ],
          "histogram2dcontour": [
           {
            "colorbar": {
             "outlinewidth": 0,
             "ticks": ""
            },
            "colorscale": [
             [
              0,
              "#0d0887"
             ],
             [
              0.1111111111111111,
              "#46039f"
             ],
             [
              0.2222222222222222,
              "#7201a8"
             ],
             [
              0.3333333333333333,
              "#9c179e"
             ],
             [
              0.4444444444444444,
              "#bd3786"
             ],
             [
              0.5555555555555556,
              "#d8576b"
             ],
             [
              0.6666666666666666,
              "#ed7953"
             ],
             [
              0.7777777777777778,
              "#fb9f3a"
             ],
             [
              0.8888888888888888,
              "#fdca26"
             ],
             [
              1,
              "#f0f921"
             ]
            ],
            "type": "histogram2dcontour"
           }
          ],
          "mesh3d": [
           {
            "colorbar": {
             "outlinewidth": 0,
             "ticks": ""
            },
            "type": "mesh3d"
           }
          ],
          "parcoords": [
           {
            "line": {
             "colorbar": {
              "outlinewidth": 0,
              "ticks": ""
             }
            },
            "type": "parcoords"
           }
          ],
          "pie": [
           {
            "automargin": true,
            "type": "pie"
           }
          ],
          "scatter": [
           {
            "fillpattern": {
             "fillmode": "overlay",
             "size": 10,
             "solidity": 0.2
            },
            "type": "scatter"
           }
          ],
          "scatter3d": [
           {
            "line": {
             "colorbar": {
              "outlinewidth": 0,
              "ticks": ""
             }
            },
            "marker": {
             "colorbar": {
              "outlinewidth": 0,
              "ticks": ""
             }
            },
            "type": "scatter3d"
           }
          ],
          "scattercarpet": [
           {
            "marker": {
             "colorbar": {
              "outlinewidth": 0,
              "ticks": ""
             }
            },
            "type": "scattercarpet"
           }
          ],
          "scattergeo": [
           {
            "marker": {
             "colorbar": {
              "outlinewidth": 0,
              "ticks": ""
             }
            },
            "type": "scattergeo"
           }
          ],
          "scattergl": [
           {
            "marker": {
             "colorbar": {
              "outlinewidth": 0,
              "ticks": ""
             }
            },
            "type": "scattergl"
           }
          ],
          "scattermap": [
           {
            "marker": {
             "colorbar": {
              "outlinewidth": 0,
              "ticks": ""
             }
            },
            "type": "scattermap"
           }
          ],
          "scattermapbox": [
           {
            "marker": {
             "colorbar": {
              "outlinewidth": 0,
              "ticks": ""
             }
            },
            "type": "scattermapbox"
           }
          ],
          "scatterpolar": [
           {
            "marker": {
             "colorbar": {
              "outlinewidth": 0,
              "ticks": ""
             }
            },
            "type": "scatterpolar"
           }
          ],
          "scatterpolargl": [
           {
            "marker": {
             "colorbar": {
              "outlinewidth": 0,
              "ticks": ""
             }
            },
            "type": "scatterpolargl"
           }
          ],
          "scatterternary": [
           {
            "marker": {
             "colorbar": {
              "outlinewidth": 0,
              "ticks": ""
             }
            },
            "type": "scatterternary"
           }
          ],
          "surface": [
           {
            "colorbar": {
             "outlinewidth": 0,
             "ticks": ""
            },
            "colorscale": [
             [
              0,
              "#0d0887"
             ],
             [
              0.1111111111111111,
              "#46039f"
             ],
             [
              0.2222222222222222,
              "#7201a8"
             ],
             [
              0.3333333333333333,
              "#9c179e"
             ],
             [
              0.4444444444444444,
              "#bd3786"
             ],
             [
              0.5555555555555556,
              "#d8576b"
             ],
             [
              0.6666666666666666,
              "#ed7953"
             ],
             [
              0.7777777777777778,
              "#fb9f3a"
             ],
             [
              0.8888888888888888,
              "#fdca26"
             ],
             [
              1,
              "#f0f921"
             ]
            ],
            "type": "surface"
           }
          ],
          "table": [
           {
            "cells": {
             "fill": {
              "color": "#EBF0F8"
             },
             "line": {
              "color": "white"
             }
            },
            "header": {
             "fill": {
              "color": "#C8D4E3"
             },
             "line": {
              "color": "white"
             }
            },
            "type": "table"
           }
          ]
         },
         "layout": {
          "annotationdefaults": {
           "arrowcolor": "#2a3f5f",
           "arrowhead": 0,
           "arrowwidth": 1
          },
          "autotypenumbers": "strict",
          "coloraxis": {
           "colorbar": {
            "outlinewidth": 0,
            "ticks": ""
           }
          },
          "colorscale": {
           "diverging": [
            [
             0,
             "#8e0152"
            ],
            [
             0.1,
             "#c51b7d"
            ],
            [
             0.2,
             "#de77ae"
            ],
            [
             0.3,
             "#f1b6da"
            ],
            [
             0.4,
             "#fde0ef"
            ],
            [
             0.5,
             "#f7f7f7"
            ],
            [
             0.6,
             "#e6f5d0"
            ],
            [
             0.7,
             "#b8e186"
            ],
            [
             0.8,
             "#7fbc41"
            ],
            [
             0.9,
             "#4d9221"
            ],
            [
             1,
             "#276419"
            ]
           ],
           "sequential": [
            [
             0,
             "#0d0887"
            ],
            [
             0.1111111111111111,
             "#46039f"
            ],
            [
             0.2222222222222222,
             "#7201a8"
            ],
            [
             0.3333333333333333,
             "#9c179e"
            ],
            [
             0.4444444444444444,
             "#bd3786"
            ],
            [
             0.5555555555555556,
             "#d8576b"
            ],
            [
             0.6666666666666666,
             "#ed7953"
            ],
            [
             0.7777777777777778,
             "#fb9f3a"
            ],
            [
             0.8888888888888888,
             "#fdca26"
            ],
            [
             1,
             "#f0f921"
            ]
           ],
           "sequentialminus": [
            [
             0,
             "#0d0887"
            ],
            [
             0.1111111111111111,
             "#46039f"
            ],
            [
             0.2222222222222222,
             "#7201a8"
            ],
            [
             0.3333333333333333,
             "#9c179e"
            ],
            [
             0.4444444444444444,
             "#bd3786"
            ],
            [
             0.5555555555555556,
             "#d8576b"
            ],
            [
             0.6666666666666666,
             "#ed7953"
            ],
            [
             0.7777777777777778,
             "#fb9f3a"
            ],
            [
             0.8888888888888888,
             "#fdca26"
            ],
            [
             1,
             "#f0f921"
            ]
           ]
          },
          "colorway": [
           "#636efa",
           "#EF553B",
           "#00cc96",
           "#ab63fa",
           "#FFA15A",
           "#19d3f3",
           "#FF6692",
           "#B6E880",
           "#FF97FF",
           "#FECB52"
          ],
          "font": {
           "color": "#2a3f5f"
          },
          "geo": {
           "bgcolor": "white",
           "lakecolor": "white",
           "landcolor": "#E5ECF6",
           "showlakes": true,
           "showland": true,
           "subunitcolor": "white"
          },
          "hoverlabel": {
           "align": "left"
          },
          "hovermode": "closest",
          "mapbox": {
           "style": "light"
          },
          "paper_bgcolor": "white",
          "plot_bgcolor": "#E5ECF6",
          "polar": {
           "angularaxis": {
            "gridcolor": "white",
            "linecolor": "white",
            "ticks": ""
           },
           "bgcolor": "#E5ECF6",
           "radialaxis": {
            "gridcolor": "white",
            "linecolor": "white",
            "ticks": ""
           }
          },
          "scene": {
           "xaxis": {
            "backgroundcolor": "#E5ECF6",
            "gridcolor": "white",
            "gridwidth": 2,
            "linecolor": "white",
            "showbackground": true,
            "ticks": "",
            "zerolinecolor": "white"
           },
           "yaxis": {
            "backgroundcolor": "#E5ECF6",
            "gridcolor": "white",
            "gridwidth": 2,
            "linecolor": "white",
            "showbackground": true,
            "ticks": "",
            "zerolinecolor": "white"
           },
           "zaxis": {
            "backgroundcolor": "#E5ECF6",
            "gridcolor": "white",
            "gridwidth": 2,
            "linecolor": "white",
            "showbackground": true,
            "ticks": "",
            "zerolinecolor": "white"
           }
          },
          "shapedefaults": {
           "line": {
            "color": "#2a3f5f"
           }
          },
          "ternary": {
           "aaxis": {
            "gridcolor": "white",
            "linecolor": "white",
            "ticks": ""
           },
           "baxis": {
            "gridcolor": "white",
            "linecolor": "white",
            "ticks": ""
           },
           "bgcolor": "#E5ECF6",
           "caxis": {
            "gridcolor": "white",
            "linecolor": "white",
            "ticks": ""
           }
          },
          "title": {
           "x": 0.05
          },
          "xaxis": {
           "automargin": true,
           "gridcolor": "white",
           "linecolor": "white",
           "ticks": "",
           "title": {
            "standoff": 15
           },
           "zerolinecolor": "white",
           "zerolinewidth": 2
          },
          "yaxis": {
           "automargin": true,
           "gridcolor": "white",
           "linecolor": "white",
           "ticks": "",
           "title": {
            "standoff": 15
           },
           "zerolinecolor": "white",
           "zerolinewidth": 2
          }
         }
        },
        "xaxis": {
         "anchor": "y",
         "domain": [
          0,
          1
         ]
        },
        "yaxis": {
         "anchor": "x",
         "domain": [
          0,
          1
         ],
         "title": {
          "text": "price"
         }
        }
       }
      },
      "image/png": "[encoded data removed]"
     },
     "metadata": {},
     "output_type": "display_data"
    }
   ],
   "source": [
    "get_box_plot(processed_df,plot_parameter='price',numBedrooms=2,Status='Unfurnished').show()"
   ]
  },
  {
   "cell_type": "markdown",
   "id": "abd44d46-2559-4931-87cc-7abec4582d9f",
   "metadata": {},
   "source": [
    "### 📊 FINDINGS ( PRICE OF 2 BKH UNFURNISHED HOUSES)\n",
    "\n",
    "| Metric                                      | Value             |\n",
    "|--------------------------------------------|-------------------|\n",
    "| The median                                 | 7.2 million       |\n",
    "| The minimum                                | 2.2 million       |\n",
    "| The lower and upper quartile price range   | 5.2-10.8 million  |\n",
    "| The maximum                                | 48 million        |"
   ]
  },
  {
   "cell_type": "code",
   "execution_count": 64,
   "id": "48c41ae4-e545-4687-b30f-ae2e577e30db",
   "metadata": {},
   "outputs": [
    {
     "data": {
      "text/plain": [
       "np.float64(1200000.0)"
      ]
     },
     "execution_count": 64,
     "metadata": {},
     "output_type": "execute_result"
    }
   ],
   "source": [
    "processed_df['price'].min()"
   ]
  },
  {
   "cell_type": "markdown",
   "id": "faec895d-6a28-482f-8e2e-03a9350aec08",
   "metadata": {},
   "source": [
    "# USE_CASE\n",
    "## LOOKING FOR RENTALS IN A SPECIFIC LOCATION/OR WITH SPECIFIC FURNISHING STATUS OR WITH A SPECIFIC NUMBER OF BEDROOMS/BATHROOMS"
   ]
  },
  {
   "cell_type": "code",
   "execution_count": 65,
   "id": "03152fd6-4026-4262-9daa-fb4b0859bb13",
   "metadata": {},
   "outputs": [
    {
     "data": {
      "text/html": [
       "<div>\n",
       "<style scoped>\n",
       "    .dataframe tbody tr th:only-of-type {\n",
       "        vertical-align: middle;\n",
       "    }\n",
       "\n",
       "    .dataframe tbody tr th {\n",
       "        vertical-align: top;\n",
       "    }\n",
       "\n",
       "    .dataframe thead th {\n",
       "        text-align: right;\n",
       "    }\n",
       "</style>\n",
       "<table border=\"1\" class=\"dataframe\">\n",
       "  <thead>\n",
       "    <tr style=\"text-align: right;\">\n",
       "      <th></th>\n",
       "      <th>count</th>\n",
       "      <th>mean</th>\n",
       "      <th>std</th>\n",
       "      <th>min</th>\n",
       "      <th>25%</th>\n",
       "      <th>50%</th>\n",
       "      <th>75%</th>\n",
       "      <th>max</th>\n",
       "    </tr>\n",
       "    <tr>\n",
       "      <th>location</th>\n",
       "      <th></th>\n",
       "      <th></th>\n",
       "      <th></th>\n",
       "      <th></th>\n",
       "      <th></th>\n",
       "      <th></th>\n",
       "      <th></th>\n",
       "      <th></th>\n",
       "    </tr>\n",
       "  </thead>\n",
       "  <tbody>\n",
       "    <tr>\n",
       "      <th>Abul Fazal Enclave Jamia Nagar</th>\n",
       "      <td>1.0</td>\n",
       "      <td>13000.000000</td>\n",
       "      <td>NaN</td>\n",
       "      <td>13000.0</td>\n",
       "      <td>13000.0</td>\n",
       "      <td>13000.0</td>\n",
       "      <td>13000.0</td>\n",
       "      <td>13000.0</td>\n",
       "    </tr>\n",
       "    <tr>\n",
       "      <th>Ajmeri Gate</th>\n",
       "      <td>2.0</td>\n",
       "      <td>21000.000000</td>\n",
       "      <td>4242.640687</td>\n",
       "      <td>18000.0</td>\n",
       "      <td>19500.0</td>\n",
       "      <td>21000.0</td>\n",
       "      <td>22500.0</td>\n",
       "      <td>24000.0</td>\n",
       "    </tr>\n",
       "    <tr>\n",
       "      <th>Anand Vihar</th>\n",
       "      <td>2.0</td>\n",
       "      <td>19500.000000</td>\n",
       "      <td>707.106781</td>\n",
       "      <td>19000.0</td>\n",
       "      <td>19250.0</td>\n",
       "      <td>19500.0</td>\n",
       "      <td>19750.0</td>\n",
       "      <td>20000.0</td>\n",
       "    </tr>\n",
       "    <tr>\n",
       "      <th>Ashok Nagar</th>\n",
       "      <td>2.0</td>\n",
       "      <td>23500.000000</td>\n",
       "      <td>4949.747468</td>\n",
       "      <td>20000.0</td>\n",
       "      <td>21750.0</td>\n",
       "      <td>23500.0</td>\n",
       "      <td>25250.0</td>\n",
       "      <td>27000.0</td>\n",
       "    </tr>\n",
       "    <tr>\n",
       "      <th>Aya Nagar</th>\n",
       "      <td>1.0</td>\n",
       "      <td>12000.000000</td>\n",
       "      <td>NaN</td>\n",
       "      <td>12000.0</td>\n",
       "      <td>12000.0</td>\n",
       "      <td>12000.0</td>\n",
       "      <td>12000.0</td>\n",
       "      <td>12000.0</td>\n",
       "    </tr>\n",
       "    <tr>\n",
       "      <th>...</th>\n",
       "      <td>...</td>\n",
       "      <td>...</td>\n",
       "      <td>...</td>\n",
       "      <td>...</td>\n",
       "      <td>...</td>\n",
       "      <td>...</td>\n",
       "      <td>...</td>\n",
       "      <td>...</td>\n",
       "    </tr>\n",
       "    <tr>\n",
       "      <th>i p extension patparganj</th>\n",
       "      <td>3.0</td>\n",
       "      <td>18666.666667</td>\n",
       "      <td>1154.700538</td>\n",
       "      <td>18000.0</td>\n",
       "      <td>18000.0</td>\n",
       "      <td>18000.0</td>\n",
       "      <td>19000.0</td>\n",
       "      <td>20000.0</td>\n",
       "    </tr>\n",
       "    <tr>\n",
       "      <th>laxmi nagar</th>\n",
       "      <td>4.0</td>\n",
       "      <td>12625.000000</td>\n",
       "      <td>1493.039406</td>\n",
       "      <td>11000.0</td>\n",
       "      <td>11750.0</td>\n",
       "      <td>12500.0</td>\n",
       "      <td>13375.0</td>\n",
       "      <td>14500.0</td>\n",
       "    </tr>\n",
       "    <tr>\n",
       "      <th>masoodpur</th>\n",
       "      <td>1.0</td>\n",
       "      <td>35000.000000</td>\n",
       "      <td>NaN</td>\n",
       "      <td>35000.0</td>\n",
       "      <td>35000.0</td>\n",
       "      <td>35000.0</td>\n",
       "      <td>35000.0</td>\n",
       "      <td>35000.0</td>\n",
       "    </tr>\n",
       "    <tr>\n",
       "      <th>mayur vihar phase 1</th>\n",
       "      <td>5.0</td>\n",
       "      <td>25100.000000</td>\n",
       "      <td>9489.467846</td>\n",
       "      <td>13500.0</td>\n",
       "      <td>24000.0</td>\n",
       "      <td>24000.0</td>\n",
       "      <td>24000.0</td>\n",
       "      <td>40000.0</td>\n",
       "    </tr>\n",
       "    <tr>\n",
       "      <th>vikaspuri</th>\n",
       "      <td>4.0</td>\n",
       "      <td>15425.000000</td>\n",
       "      <td>1050.000000</td>\n",
       "      <td>14900.0</td>\n",
       "      <td>14900.0</td>\n",
       "      <td>14900.0</td>\n",
       "      <td>15425.0</td>\n",
       "      <td>17000.0</td>\n",
       "    </tr>\n",
       "  </tbody>\n",
       "</table>\n",
       "<p>158 rows × 8 columns</p>\n",
       "</div>"
      ],
      "text/plain": [
       "                                count          mean          std      min  \\\n",
       "location                                                                    \n",
       "Abul Fazal Enclave Jamia Nagar    1.0  13000.000000          NaN  13000.0   \n",
       "Ajmeri Gate                       2.0  21000.000000  4242.640687  18000.0   \n",
       "Anand Vihar                       2.0  19500.000000   707.106781  19000.0   \n",
       "Ashok Nagar                       2.0  23500.000000  4949.747468  20000.0   \n",
       "Aya Nagar                         1.0  12000.000000          NaN  12000.0   \n",
       "...                               ...           ...          ...      ...   \n",
       "i p extension patparganj          3.0  18666.666667  1154.700538  18000.0   \n",
       "laxmi nagar                       4.0  12625.000000  1493.039406  11000.0   \n",
       "masoodpur                         1.0  35000.000000          NaN  35000.0   \n",
       "mayur vihar phase 1               5.0  25100.000000  9489.467846  13500.0   \n",
       "vikaspuri                         4.0  15425.000000  1050.000000  14900.0   \n",
       "\n",
       "                                    25%      50%      75%      max  \n",
       "location                                                            \n",
       "Abul Fazal Enclave Jamia Nagar  13000.0  13000.0  13000.0  13000.0  \n",
       "Ajmeri Gate                     19500.0  21000.0  22500.0  24000.0  \n",
       "Anand Vihar                     19250.0  19500.0  19750.0  20000.0  \n",
       "Ashok Nagar                     21750.0  23500.0  25250.0  27000.0  \n",
       "Aya Nagar                       12000.0  12000.0  12000.0  12000.0  \n",
       "...                                 ...      ...      ...      ...  \n",
       "i p extension patparganj        18000.0  18000.0  19000.0  20000.0  \n",
       "laxmi nagar                     11750.0  12500.0  13375.0  14500.0  \n",
       "masoodpur                       35000.0  35000.0  35000.0  35000.0  \n",
       "mayur vihar phase 1             24000.0  24000.0  24000.0  40000.0  \n",
       "vikaspuri                       14900.0  14900.0  15425.0  17000.0  \n",
       "\n",
       "[158 rows x 8 columns]"
      ]
     },
     "execution_count": 65,
     "metadata": {},
     "output_type": "execute_result"
    }
   ],
   "source": [
    "processed_df[processed_df['numBedrooms']==2].groupby('location')['monthly_rent'].describe()"
   ]
  },
  {
   "cell_type": "code",
   "execution_count": 66,
   "id": "1aa93248-9e91-4f41-b8ef-87e4159b75e6",
   "metadata": {},
   "outputs": [
    {
     "data": {
      "application/vnd.plotly.v1+json": {
       "config": {
        "plotlyServerURL": "https://plot.ly"
       },
       "data": [
        {
         "alignmentgroup": "True",
         "hovertemplate": "monthly_rent=%{y}<extra></extra>",
         "legendgroup": "",
         "marker": {
          "color": "#636efa"
         },
         "name": "",
         "notched": false,
         "offsetgroup": "",
         "orientation": "v",
         "showlegend": false,
         "type": "box",
         "x0": " ",
         "xaxis": "x",
         "y": {
          "bdata": "2NYAAIA4AQDIrwAAuIgAAOj9AAA=",
          "dtype": "i4"
         },
         "y0": " ",
         "yaxis": "y"
        }
       ],
       "layout": {
        "boxmode": "group",
        "legend": {
         "tracegroupgap": 0
        },
        "margin": {
         "t": 60
        },
        "template": {
         "data": {
          "bar": [
           {
            "error_x": {
             "color": "#2a3f5f"
            },
            "error_y": {
             "color": "#2a3f5f"
            },
            "marker": {
             "line": {
              "color": "#E5ECF6",
              "width": 0.5
             },
             "pattern": {
              "fillmode": "overlay",
              "size": 10,
              "solidity": 0.2
             }
            },
            "type": "bar"
           }
          ],
          "barpolar": [
           {
            "marker": {
             "line": {
              "color": "#E5ECF6",
              "width": 0.5
             },
             "pattern": {
              "fillmode": "overlay",
              "size": 10,
              "solidity": 0.2
             }
            },
            "type": "barpolar"
           }
          ],
          "carpet": [
           {
            "aaxis": {
             "endlinecolor": "#2a3f5f",
             "gridcolor": "white",
             "linecolor": "white",
             "minorgridcolor": "white",
             "startlinecolor": "#2a3f5f"
            },
            "baxis": {
             "endlinecolor": "#2a3f5f",
             "gridcolor": "white",
             "linecolor": "white",
             "minorgridcolor": "white",
             "startlinecolor": "#2a3f5f"
            },
            "type": "carpet"
           }
          ],
          "choropleth": [
           {
            "colorbar": {
             "outlinewidth": 0,
             "ticks": ""
            },
            "type": "choropleth"
           }
          ],
          "contour": [
           {
            "colorbar": {
             "outlinewidth": 0,
             "ticks": ""
            },
            "colorscale": [
             [
              0,
              "#0d0887"
             ],
             [
              0.1111111111111111,
              "#46039f"
             ],
             [
              0.2222222222222222,
              "#7201a8"
             ],
             [
              0.3333333333333333,
              "#9c179e"
             ],
             [
              0.4444444444444444,
              "#bd3786"
             ],
             [
              0.5555555555555556,
              "#d8576b"
             ],
             [
              0.6666666666666666,
              "#ed7953"
             ],
             [
              0.7777777777777778,
              "#fb9f3a"
             ],
             [
              0.8888888888888888,
              "#fdca26"
             ],
             [
              1,
              "#f0f921"
             ]
            ],
            "type": "contour"
           }
          ],
          "contourcarpet": [
           {
            "colorbar": {
             "outlinewidth": 0,
             "ticks": ""
            },
            "type": "contourcarpet"
           }
          ],
          "heatmap": [
           {
            "colorbar": {
             "outlinewidth": 0,
             "ticks": ""
            },
            "colorscale": [
             [
              0,
              "#0d0887"
             ],
             [
              0.1111111111111111,
              "#46039f"
             ],
             [
              0.2222222222222222,
              "#7201a8"
             ],
             [
              0.3333333333333333,
              "#9c179e"
             ],
             [
              0.4444444444444444,
              "#bd3786"
             ],
             [
              0.5555555555555556,
              "#d8576b"
             ],
             [
              0.6666666666666666,
              "#ed7953"
             ],
             [
              0.7777777777777778,
              "#fb9f3a"
             ],
             [
              0.8888888888888888,
              "#fdca26"
             ],
             [
              1,
              "#f0f921"
             ]
            ],
            "type": "heatmap"
           }
          ],
          "histogram": [
           {
            "marker": {
             "pattern": {
              "fillmode": "overlay",
              "size": 10,
              "solidity": 0.2
             }
            },
            "type": "histogram"
           }
          ],
          "histogram2d": [
           {
            "colorbar": {
             "outlinewidth": 0,
             "ticks": ""
            },
            "colorscale": [
             [
              0,
              "#0d0887"
             ],
             [
              0.1111111111111111,
              "#46039f"
             ],
             [
              0.2222222222222222,
              "#7201a8"
             ],
             [
              0.3333333333333333,
              "#9c179e"
             ],
             [
              0.4444444444444444,
              "#bd3786"
             ],
             [
              0.5555555555555556,
              "#d8576b"
             ],
             [
              0.6666666666666666,
              "#ed7953"
             ],
             [
              0.7777777777777778,
              "#fb9f3a"
             ],
             [
              0.8888888888888888,
              "#fdca26"
             ],
             [
              1,
              "#f0f921"
             ]
            ],
            "type": "histogram2d"
           }
          ],
          "histogram2dcontour": [
           {
            "colorbar": {
             "outlinewidth": 0,
             "ticks": ""
            },
            "colorscale": [
             [
              0,
              "#0d0887"
             ],
             [
              0.1111111111111111,
              "#46039f"
             ],
             [
              0.2222222222222222,
              "#7201a8"
             ],
             [
              0.3333333333333333,
              "#9c179e"
             ],
             [
              0.4444444444444444,
              "#bd3786"
             ],
             [
              0.5555555555555556,
              "#d8576b"
             ],
             [
              0.6666666666666666,
              "#ed7953"
             ],
             [
              0.7777777777777778,
              "#fb9f3a"
             ],
             [
              0.8888888888888888,
              "#fdca26"
             ],
             [
              1,
              "#f0f921"
             ]
            ],
            "type": "histogram2dcontour"
           }
          ],
          "mesh3d": [
           {
            "colorbar": {
             "outlinewidth": 0,
             "ticks": ""
            },
            "type": "mesh3d"
           }
          ],
          "parcoords": [
           {
            "line": {
             "colorbar": {
              "outlinewidth": 0,
              "ticks": ""
             }
            },
            "type": "parcoords"
           }
          ],
          "pie": [
           {
            "automargin": true,
            "type": "pie"
           }
          ],
          "scatter": [
           {
            "fillpattern": {
             "fillmode": "overlay",
             "size": 10,
             "solidity": 0.2
            },
            "type": "scatter"
           }
          ],
          "scatter3d": [
           {
            "line": {
             "colorbar": {
              "outlinewidth": 0,
              "ticks": ""
             }
            },
            "marker": {
             "colorbar": {
              "outlinewidth": 0,
              "ticks": ""
             }
            },
            "type": "scatter3d"
           }
          ],
          "scattercarpet": [
           {
            "marker": {
             "colorbar": {
              "outlinewidth": 0,
              "ticks": ""
             }
            },
            "type": "scattercarpet"
           }
          ],
          "scattergeo": [
           {
            "marker": {
             "colorbar": {
              "outlinewidth": 0,
              "ticks": ""
             }
            },
            "type": "scattergeo"
           }
          ],
          "scattergl": [
           {
            "marker": {
             "colorbar": {
              "outlinewidth": 0,
              "ticks": ""
             }
            },
            "type": "scattergl"
           }
          ],
          "scattermap": [
           {
            "marker": {
             "colorbar": {
              "outlinewidth": 0,
              "ticks": ""
             }
            },
            "type": "scattermap"
           }
          ],
          "scattermapbox": [
           {
            "marker": {
             "colorbar": {
              "outlinewidth": 0,
              "ticks": ""
             }
            },
            "type": "scattermapbox"
           }
          ],
          "scatterpolar": [
           {
            "marker": {
             "colorbar": {
              "outlinewidth": 0,
              "ticks": ""
             }
            },
            "type": "scatterpolar"
           }
          ],
          "scatterpolargl": [
           {
            "marker": {
             "colorbar": {
              "outlinewidth": 0,
              "ticks": ""
             }
            },
            "type": "scatterpolargl"
           }
          ],
          "scatterternary": [
           {
            "marker": {
             "colorbar": {
              "outlinewidth": 0,
              "ticks": ""
             }
            },
            "type": "scatterternary"
           }
          ],
          "surface": [
           {
            "colorbar": {
             "outlinewidth": 0,
             "ticks": ""
            },
            "colorscale": [
             [
              0,
              "#0d0887"
             ],
             [
              0.1111111111111111,
              "#46039f"
             ],
             [
              0.2222222222222222,
              "#7201a8"
             ],
             [
              0.3333333333333333,
              "#9c179e"
             ],
             [
              0.4444444444444444,
              "#bd3786"
             ],
             [
              0.5555555555555556,
              "#d8576b"
             ],
             [
              0.6666666666666666,
              "#ed7953"
             ],
             [
              0.7777777777777778,
              "#fb9f3a"
             ],
             [
              0.8888888888888888,
              "#fdca26"
             ],
             [
              1,
              "#f0f921"
             ]
            ],
            "type": "surface"
           }
          ],
          "table": [
           {
            "cells": {
             "fill": {
              "color": "#EBF0F8"
             },
             "line": {
              "color": "white"
             }
            },
            "header": {
             "fill": {
              "color": "#C8D4E3"
             },
             "line": {
              "color": "white"
             }
            },
            "type": "table"
           }
          ]
         },
         "layout": {
          "annotationdefaults": {
           "arrowcolor": "#2a3f5f",
           "arrowhead": 0,
           "arrowwidth": 1
          },
          "autotypenumbers": "strict",
          "coloraxis": {
           "colorbar": {
            "outlinewidth": 0,
            "ticks": ""
           }
          },
          "colorscale": {
           "diverging": [
            [
             0,
             "#8e0152"
            ],
            [
             0.1,
             "#c51b7d"
            ],
            [
             0.2,
             "#de77ae"
            ],
            [
             0.3,
             "#f1b6da"
            ],
            [
             0.4,
             "#fde0ef"
            ],
            [
             0.5,
             "#f7f7f7"
            ],
            [
             0.6,
             "#e6f5d0"
            ],
            [
             0.7,
             "#b8e186"
            ],
            [
             0.8,
             "#7fbc41"
            ],
            [
             0.9,
             "#4d9221"
            ],
            [
             1,
             "#276419"
            ]
           ],
           "sequential": [
            [
             0,
             "#0d0887"
            ],
            [
             0.1111111111111111,
             "#46039f"
            ],
            [
             0.2222222222222222,
             "#7201a8"
            ],
            [
             0.3333333333333333,
             "#9c179e"
            ],
            [
             0.4444444444444444,
             "#bd3786"
            ],
            [
             0.5555555555555556,
             "#d8576b"
            ],
            [
             0.6666666666666666,
             "#ed7953"
            ],
            [
             0.7777777777777778,
             "#fb9f3a"
            ],
            [
             0.8888888888888888,
             "#fdca26"
            ],
            [
             1,
             "#f0f921"
            ]
           ],
           "sequentialminus": [
            [
             0,
             "#0d0887"
            ],
            [
             0.1111111111111111,
             "#46039f"
            ],
            [
             0.2222222222222222,
             "#7201a8"
            ],
            [
             0.3333333333333333,
             "#9c179e"
            ],
            [
             0.4444444444444444,
             "#bd3786"
            ],
            [
             0.5555555555555556,
             "#d8576b"
            ],
            [
             0.6666666666666666,
             "#ed7953"
            ],
            [
             0.7777777777777778,
             "#fb9f3a"
            ],
            [
             0.8888888888888888,
             "#fdca26"
            ],
            [
             1,
             "#f0f921"
            ]
           ]
          },
          "colorway": [
           "#636efa",
           "#EF553B",
           "#00cc96",
           "#ab63fa",
           "#FFA15A",
           "#19d3f3",
           "#FF6692",
           "#B6E880",
           "#FF97FF",
           "#FECB52"
          ],
          "font": {
           "color": "#2a3f5f"
          },
          "geo": {
           "bgcolor": "white",
           "lakecolor": "white",
           "landcolor": "#E5ECF6",
           "showlakes": true,
           "showland": true,
           "subunitcolor": "white"
          },
          "hoverlabel": {
           "align": "left"
          },
          "hovermode": "closest",
          "mapbox": {
           "style": "light"
          },
          "paper_bgcolor": "white",
          "plot_bgcolor": "#E5ECF6",
          "polar": {
           "angularaxis": {
            "gridcolor": "white",
            "linecolor": "white",
            "ticks": ""
           },
           "bgcolor": "#E5ECF6",
           "radialaxis": {
            "gridcolor": "white",
            "linecolor": "white",
            "ticks": ""
           }
          },
          "scene": {
           "xaxis": {
            "backgroundcolor": "#E5ECF6",
            "gridcolor": "white",
            "gridwidth": 2,
            "linecolor": "white",
            "showbackground": true,
            "ticks": "",
            "zerolinecolor": "white"
           },
           "yaxis": {
            "backgroundcolor": "#E5ECF6",
            "gridcolor": "white",
            "gridwidth": 2,
            "linecolor": "white",
            "showbackground": true,
            "ticks": "",
            "zerolinecolor": "white"
           },
           "zaxis": {
            "backgroundcolor": "#E5ECF6",
            "gridcolor": "white",
            "gridwidth": 2,
            "linecolor": "white",
            "showbackground": true,
            "ticks": "",
            "zerolinecolor": "white"
           }
          },
          "shapedefaults": {
           "line": {
            "color": "#2a3f5f"
           }
          },
          "ternary": {
           "aaxis": {
            "gridcolor": "white",
            "linecolor": "white",
            "ticks": ""
           },
           "baxis": {
            "gridcolor": "white",
            "linecolor": "white",
            "ticks": ""
           },
           "bgcolor": "#E5ECF6",
           "caxis": {
            "gridcolor": "white",
            "linecolor": "white",
            "ticks": ""
           }
          },
          "title": {
           "x": 0.05
          },
          "xaxis": {
           "automargin": true,
           "gridcolor": "white",
           "linecolor": "white",
           "ticks": "",
           "title": {
            "standoff": 15
           },
           "zerolinecolor": "white",
           "zerolinewidth": 2
          },
          "yaxis": {
           "automargin": true,
           "gridcolor": "white",
           "linecolor": "white",
           "ticks": "",
           "title": {
            "standoff": 15
           },
           "zerolinecolor": "white",
           "zerolinewidth": 2
          }
         }
        },
        "xaxis": {
         "anchor": "y",
         "domain": [
          0,
          1
         ]
        },
        "yaxis": {
         "anchor": "x",
         "domain": [
          0,
          1
         ],
         "title": {
          "text": "monthly_rent"
         }
        }
       }
      },
      "image/png": "[encoded data removed]"
     },
     "metadata": {},
     "output_type": "display_data"
    }
   ],
   "source": [
    "get_box_plot(processed_df,plot_parameter='monthly_rent',Status='Semi-Furnished',location='Mansarover Garden').show()"
   ]
  },
  {
   "cell_type": "code",
   "execution_count": 67,
   "id": "b297277c-325c-42eb-b75b-bcec6aa1b518",
   "metadata": {},
   "outputs": [
    {
     "data": {
      "application/vnd.plotly.v1+json": {
       "config": {
        "plotlyServerURL": "https://plot.ly"
       },
       "data": [
        {
         "alignmentgroup": "True",
         "hovertemplate": "price=%{y}<extra></extra>",
         "legendgroup": "",
         "marker": {
          "color": "#636efa"
         },
         "name": "",
         "notched": false,
         "offsetgroup": "",
         "orientation": "v",
         "showlegend": false,
         "type": "box",
         "x0": " ",
         "xaxis": "x",
         "y": {
          "bdata": "AAAAAICEXkEAAAAAgIReQQAAAAAwjGFBAAAAAABqaEE=",
          "dtype": "f8"
         },
         "y0": " ",
         "yaxis": "y"
        }
       ],
       "layout": {
        "boxmode": "group",
        "legend": {
         "tracegroupgap": 0
        },
        "margin": {
         "t": 60
        },
        "template": {
         "data": {
          "bar": [
           {
            "error_x": {
             "color": "#2a3f5f"
            },
            "error_y": {
             "color": "#2a3f5f"
            },
            "marker": {
             "line": {
              "color": "#E5ECF6",
              "width": 0.5
             },
             "pattern": {
              "fillmode": "overlay",
              "size": 10,
              "solidity": 0.2
             }
            },
            "type": "bar"
           }
          ],
          "barpolar": [
           {
            "marker": {
             "line": {
              "color": "#E5ECF6",
              "width": 0.5
             },
             "pattern": {
              "fillmode": "overlay",
              "size": 10,
              "solidity": 0.2
             }
            },
            "type": "barpolar"
           }
          ],
          "carpet": [
           {
            "aaxis": {
             "endlinecolor": "#2a3f5f",
             "gridcolor": "white",
             "linecolor": "white",
             "minorgridcolor": "white",
             "startlinecolor": "#2a3f5f"
            },
            "baxis": {
             "endlinecolor": "#2a3f5f",
             "gridcolor": "white",
             "linecolor": "white",
             "minorgridcolor": "white",
             "startlinecolor": "#2a3f5f"
            },
            "type": "carpet"
           }
          ],
          "choropleth": [
           {
            "colorbar": {
             "outlinewidth": 0,
             "ticks": ""
            },
            "type": "choropleth"
           }
          ],
          "contour": [
           {
            "colorbar": {
             "outlinewidth": 0,
             "ticks": ""
            },
            "colorscale": [
             [
              0,
              "#0d0887"
             ],
             [
              0.1111111111111111,
              "#46039f"
             ],
             [
              0.2222222222222222,
              "#7201a8"
             ],
             [
              0.3333333333333333,
              "#9c179e"
             ],
             [
              0.4444444444444444,
              "#bd3786"
             ],
             [
              0.5555555555555556,
              "#d8576b"
             ],
             [
              0.6666666666666666,
              "#ed7953"
             ],
             [
              0.7777777777777778,
              "#fb9f3a"
             ],
             [
              0.8888888888888888,
              "#fdca26"
             ],
             [
              1,
              "#f0f921"
             ]
            ],
            "type": "contour"
           }
          ],
          "contourcarpet": [
           {
            "colorbar": {
             "outlinewidth": 0,
             "ticks": ""
            },
            "type": "contourcarpet"
           }
          ],
          "heatmap": [
           {
            "colorbar": {
             "outlinewidth": 0,
             "ticks": ""
            },
            "colorscale": [
             [
              0,
              "#0d0887"
             ],
             [
              0.1111111111111111,
              "#46039f"
             ],
             [
              0.2222222222222222,
              "#7201a8"
             ],
             [
              0.3333333333333333,
              "#9c179e"
             ],
             [
              0.4444444444444444,
              "#bd3786"
             ],
             [
              0.5555555555555556,
              "#d8576b"
             ],
             [
              0.6666666666666666,
              "#ed7953"
             ],
             [
              0.7777777777777778,
              "#fb9f3a"
             ],
             [
              0.8888888888888888,
              "#fdca26"
             ],
             [
              1,
              "#f0f921"
             ]
            ],
            "type": "heatmap"
           }
          ],
          "histogram": [
           {
            "marker": {
             "pattern": {
              "fillmode": "overlay",
              "size": 10,
              "solidity": 0.2
             }
            },
            "type": "histogram"
           }
          ],
          "histogram2d": [
           {
            "colorbar": {
             "outlinewidth": 0,
             "ticks": ""
            },
            "colorscale": [
             [
              0,
              "#0d0887"
             ],
             [
              0.1111111111111111,
              "#46039f"
             ],
             [
              0.2222222222222222,
              "#7201a8"
             ],
             [
              0.3333333333333333,
              "#9c179e"
             ],
             [
              0.4444444444444444,
              "#bd3786"
             ],
             [
              0.5555555555555556,
              "#d8576b"
             ],
             [
              0.6666666666666666,
              "#ed7953"
             ],
             [
              0.7777777777777778,
              "#fb9f3a"
             ],
             [
              0.8888888888888888,
              "#fdca26"
             ],
             [
              1,
              "#f0f921"
             ]
            ],
            "type": "histogram2d"
           }
          ],
          "histogram2dcontour": [
           {
            "colorbar": {
             "outlinewidth": 0,
             "ticks": ""
            },
            "colorscale": [
             [
              0,
              "#0d0887"
             ],
             [
              0.1111111111111111,
              "#46039f"
             ],
             [
              0.2222222222222222,
              "#7201a8"
             ],
             [
              0.3333333333333333,
              "#9c179e"
             ],
             [
              0.4444444444444444,
              "#bd3786"
             ],
             [
              0.5555555555555556,
              "#d8576b"
             ],
             [
              0.6666666666666666,
              "#ed7953"
             ],
             [
              0.7777777777777778,
              "#fb9f3a"
             ],
             [
              0.8888888888888888,
              "#fdca26"
             ],
             [
              1,
              "#f0f921"
             ]
            ],
            "type": "histogram2dcontour"
           }
          ],
          "mesh3d": [
           {
            "colorbar": {
             "outlinewidth": 0,
             "ticks": ""
            },
            "type": "mesh3d"
           }
          ],
          "parcoords": [
           {
            "line": {
             "colorbar": {
              "outlinewidth": 0,
              "ticks": ""
             }
            },
            "type": "parcoords"
           }
          ],
          "pie": [
           {
            "automargin": true,
            "type": "pie"
           }
          ],
          "scatter": [
           {
            "fillpattern": {
             "fillmode": "overlay",
             "size": 10,
             "solidity": 0.2
            },
            "type": "scatter"
           }
          ],
          "scatter3d": [
           {
            "line": {
             "colorbar": {
              "outlinewidth": 0,
              "ticks": ""
             }
            },
            "marker": {
             "colorbar": {
              "outlinewidth": 0,
              "ticks": ""
             }
            },
            "type": "scatter3d"
           }
          ],
          "scattercarpet": [
           {
            "marker": {
             "colorbar": {
              "outlinewidth": 0,
              "ticks": ""
             }
            },
            "type": "scattercarpet"
           }
          ],
          "scattergeo": [
           {
            "marker": {
             "colorbar": {
              "outlinewidth": 0,
              "ticks": ""
             }
            },
            "type": "scattergeo"
           }
          ],
          "scattergl": [
           {
            "marker": {
             "colorbar": {
              "outlinewidth": 0,
              "ticks": ""
             }
            },
            "type": "scattergl"
           }
          ],
          "scattermap": [
           {
            "marker": {
             "colorbar": {
              "outlinewidth": 0,
              "ticks": ""
             }
            },
            "type": "scattermap"
           }
          ],
          "scattermapbox": [
           {
            "marker": {
             "colorbar": {
              "outlinewidth": 0,
              "ticks": ""
             }
            },
            "type": "scattermapbox"
           }
          ],
          "scatterpolar": [
           {
            "marker": {
             "colorbar": {
              "outlinewidth": 0,
              "ticks": ""
             }
            },
            "type": "scatterpolar"
           }
          ],
          "scatterpolargl": [
           {
            "marker": {
             "colorbar": {
              "outlinewidth": 0,
              "ticks": ""
             }
            },
            "type": "scatterpolargl"
           }
          ],
          "scatterternary": [
           {
            "marker": {
             "colorbar": {
              "outlinewidth": 0,
              "ticks": ""
             }
            },
            "type": "scatterternary"
           }
          ],
          "surface": [
           {
            "colorbar": {
             "outlinewidth": 0,
             "ticks": ""
            },
            "colorscale": [
             [
              0,
              "#0d0887"
             ],
             [
              0.1111111111111111,
              "#46039f"
             ],
             [
              0.2222222222222222,
              "#7201a8"
             ],
             [
              0.3333333333333333,
              "#9c179e"
             ],
             [
              0.4444444444444444,
              "#bd3786"
             ],
             [
              0.5555555555555556,
              "#d8576b"
             ],
             [
              0.6666666666666666,
              "#ed7953"
             ],
             [
              0.7777777777777778,
              "#fb9f3a"
             ],
             [
              0.8888888888888888,
              "#fdca26"
             ],
             [
              1,
              "#f0f921"
             ]
            ],
            "type": "surface"
           }
          ],
          "table": [
           {
            "cells": {
             "fill": {
              "color": "#EBF0F8"
             },
             "line": {
              "color": "white"
             }
            },
            "header": {
             "fill": {
              "color": "#C8D4E3"
             },
             "line": {
              "color": "white"
             }
            },
            "type": "table"
           }
          ]
         },
         "layout": {
          "annotationdefaults": {
           "arrowcolor": "#2a3f5f",
           "arrowhead": 0,
           "arrowwidth": 1
          },
          "autotypenumbers": "strict",
          "coloraxis": {
           "colorbar": {
            "outlinewidth": 0,
            "ticks": ""
           }
          },
          "colorscale": {
           "diverging": [
            [
             0,
             "#8e0152"
            ],
            [
             0.1,
             "#c51b7d"
            ],
            [
             0.2,
             "#de77ae"
            ],
            [
             0.3,
             "#f1b6da"
            ],
            [
             0.4,
             "#fde0ef"
            ],
            [
             0.5,
             "#f7f7f7"
            ],
            [
             0.6,
             "#e6f5d0"
            ],
            [
             0.7,
             "#b8e186"
            ],
            [
             0.8,
             "#7fbc41"
            ],
            [
             0.9,
             "#4d9221"
            ],
            [
             1,
             "#276419"
            ]
           ],
           "sequential": [
            [
             0,
             "#0d0887"
            ],
            [
             0.1111111111111111,
             "#46039f"
            ],
            [
             0.2222222222222222,
             "#7201a8"
            ],
            [
             0.3333333333333333,
             "#9c179e"
            ],
            [
             0.4444444444444444,
             "#bd3786"
            ],
            [
             0.5555555555555556,
             "#d8576b"
            ],
            [
             0.6666666666666666,
             "#ed7953"
            ],
            [
             0.7777777777777778,
             "#fb9f3a"
            ],
            [
             0.8888888888888888,
             "#fdca26"
            ],
            [
             1,
             "#f0f921"
            ]
           ],
           "sequentialminus": [
            [
             0,
             "#0d0887"
            ],
            [
             0.1111111111111111,
             "#46039f"
            ],
            [
             0.2222222222222222,
             "#7201a8"
            ],
            [
             0.3333333333333333,
             "#9c179e"
            ],
            [
             0.4444444444444444,
             "#bd3786"
            ],
            [
             0.5555555555555556,
             "#d8576b"
            ],
            [
             0.6666666666666666,
             "#ed7953"
            ],
            [
             0.7777777777777778,
             "#fb9f3a"
            ],
            [
             0.8888888888888888,
             "#fdca26"
            ],
            [
             1,
             "#f0f921"
            ]
           ]
          },
          "colorway": [
           "#636efa",
           "#EF553B",
           "#00cc96",
           "#ab63fa",
           "#FFA15A",
           "#19d3f3",
           "#FF6692",
           "#B6E880",
           "#FF97FF",
           "#FECB52"
          ],
          "font": {
           "color": "#2a3f5f"
          },
          "geo": {
           "bgcolor": "white",
           "lakecolor": "white",
           "landcolor": "#E5ECF6",
           "showlakes": true,
           "showland": true,
           "subunitcolor": "white"
          },
          "hoverlabel": {
           "align": "left"
          },
          "hovermode": "closest",
          "mapbox": {
           "style": "light"
          },
          "paper_bgcolor": "white",
          "plot_bgcolor": "#E5ECF6",
          "polar": {
           "angularaxis": {
            "gridcolor": "white",
            "linecolor": "white",
            "ticks": ""
           },
           "bgcolor": "#E5ECF6",
           "radialaxis": {
            "gridcolor": "white",
            "linecolor": "white",
            "ticks": ""
           }
          },
          "scene": {
           "xaxis": {
            "backgroundcolor": "#E5ECF6",
            "gridcolor": "white",
            "gridwidth": 2,
            "linecolor": "white",
            "showbackground": true,
            "ticks": "",
            "zerolinecolor": "white"
           },
           "yaxis": {
            "backgroundcolor": "#E5ECF6",
            "gridcolor": "white",
            "gridwidth": 2,
            "linecolor": "white",
            "showbackground": true,
            "ticks": "",
            "zerolinecolor": "white"
           },
           "zaxis": {
            "backgroundcolor": "#E5ECF6",
            "gridcolor": "white",
            "gridwidth": 2,
            "linecolor": "white",
            "showbackground": true,
            "ticks": "",
            "zerolinecolor": "white"
           }
          },
          "shapedefaults": {
           "line": {
            "color": "#2a3f5f"
           }
          },
          "ternary": {
           "aaxis": {
            "gridcolor": "white",
            "linecolor": "white",
            "ticks": ""
           },
           "baxis": {
            "gridcolor": "white",
            "linecolor": "white",
            "ticks": ""
           },
           "bgcolor": "#E5ECF6",
           "caxis": {
            "gridcolor": "white",
            "linecolor": "white",
            "ticks": ""
           }
          },
          "title": {
           "x": 0.05
          },
          "xaxis": {
           "automargin": true,
           "gridcolor": "white",
           "linecolor": "white",
           "ticks": "",
           "title": {
            "standoff": 15
           },
           "zerolinecolor": "white",
           "zerolinewidth": 2
          },
          "yaxis": {
           "automargin": true,
           "gridcolor": "white",
           "linecolor": "white",
           "ticks": "",
           "title": {
            "standoff": 15
           },
           "zerolinecolor": "white",
           "zerolinewidth": 2
          }
         }
        },
        "xaxis": {
         "anchor": "y",
         "domain": [
          0,
          1
         ]
        },
        "yaxis": {
         "anchor": "x",
         "domain": [
          0,
          1
         ],
         "title": {
          "text": "price"
         }
        }
       }
      },
      "image/png": "[encoded data removed]"
     },
     "metadata": {},
     "output_type": "display_data"
    }
   ],
   "source": [
    "get_box_plot(processed_df,plot_parameter='price',location='Sector 13 Rohini').show()"
   ]
  },
  {
   "cell_type": "code",
   "execution_count": 68,
   "id": "44bec69f-a10b-4e64-a4b0-d6bc56a07d31",
   "metadata": {},
   "outputs": [
    {
     "data": {
      "application/vnd.plotly.v1+json": {
       "config": {
        "plotlyServerURL": "https://plot.ly"
       },
       "data": [
        {
         "alignmentgroup": "True",
         "hovertemplate": "price=%{y}<extra></extra>",
         "legendgroup": "",
         "marker": {
          "color": "#636efa"
         },
         "name": "",
         "notched": false,
         "offsetgroup": "",
         "orientation": "v",
         "showlegend": false,
         "type": "box",
         "x0": " ",
         "xaxis": "x",
         "y": {
          "bdata": "AAAAAICEXkEAAAAAsKZXQQAAAACwpldBAAAAAICETkEAAAAAgE9CQQAAAACAT0JBAAAAAMBcRUEAAAAAAExNQQAAAAAAalhBAAAAAABqWEEAAAAAoPBZQQAAAAAAalhBAAAAAABqWEEAAAAAoPBZQQAAAACATzJBAAAAAICEPkEAAAAAgE9CQQAAAABg40ZBAAAAAODIUEEAAAAA4MhQQQAAAAAg1kNBAAAAACDWQ0EAAAAAINZDQQAAAAAg1kNBAAAAAGDjRkEAAAAAYONGQQAAAAAg1kNBAAAAACDWQ0EAAAAAINZDQQAAAAAg1kNB",
          "dtype": "f8"
         },
         "y0": " ",
         "yaxis": "y"
        }
       ],
       "layout": {
        "boxmode": "group",
        "legend": {
         "tracegroupgap": 0
        },
        "margin": {
         "t": 60
        },
        "template": {
         "data": {
          "bar": [
           {
            "error_x": {
             "color": "#2a3f5f"
            },
            "error_y": {
             "color": "#2a3f5f"
            },
            "marker": {
             "line": {
              "color": "#E5ECF6",
              "width": 0.5
             },
             "pattern": {
              "fillmode": "overlay",
              "size": 10,
              "solidity": 0.2
             }
            },
            "type": "bar"
           }
          ],
          "barpolar": [
           {
            "marker": {
             "line": {
              "color": "#E5ECF6",
              "width": 0.5
             },
             "pattern": {
              "fillmode": "overlay",
              "size": 10,
              "solidity": 0.2
             }
            },
            "type": "barpolar"
           }
          ],
          "carpet": [
           {
            "aaxis": {
             "endlinecolor": "#2a3f5f",
             "gridcolor": "white",
             "linecolor": "white",
             "minorgridcolor": "white",
             "startlinecolor": "#2a3f5f"
            },
            "baxis": {
             "endlinecolor": "#2a3f5f",
             "gridcolor": "white",
             "linecolor": "white",
             "minorgridcolor": "white",
             "startlinecolor": "#2a3f5f"
            },
            "type": "carpet"
           }
          ],
          "choropleth": [
           {
            "colorbar": {
             "outlinewidth": 0,
             "ticks": ""
            },
            "type": "choropleth"
           }
          ],
          "contour": [
           {
            "colorbar": {
             "outlinewidth": 0,
             "ticks": ""
            },
            "colorscale": [
             [
              0,
              "#0d0887"
             ],
             [
              0.1111111111111111,
              "#46039f"
             ],
             [
              0.2222222222222222,
              "#7201a8"
             ],
             [
              0.3333333333333333,
              "#9c179e"
             ],
             [
              0.4444444444444444,
              "#bd3786"
             ],
             [
              0.5555555555555556,
              "#d8576b"
             ],
             [
              0.6666666666666666,
              "#ed7953"
             ],
             [
              0.7777777777777778,
              "#fb9f3a"
             ],
             [
              0.8888888888888888,
              "#fdca26"
             ],
             [
              1,
              "#f0f921"
             ]
            ],
            "type": "contour"
           }
          ],
          "contourcarpet": [
           {
            "colorbar": {
             "outlinewidth": 0,
             "ticks": ""
            },
            "type": "contourcarpet"
           }
          ],
          "heatmap": [
           {
            "colorbar": {
             "outlinewidth": 0,
             "ticks": ""
            },
            "colorscale": [
             [
              0,
              "#0d0887"
             ],
             [
              0.1111111111111111,
              "#46039f"
             ],
             [
              0.2222222222222222,
              "#7201a8"
             ],
             [
              0.3333333333333333,
              "#9c179e"
             ],
             [
              0.4444444444444444,
              "#bd3786"
             ],
             [
              0.5555555555555556,
              "#d8576b"
             ],
             [
              0.6666666666666666,
              "#ed7953"
             ],
             [
              0.7777777777777778,
              "#fb9f3a"
             ],
             [
              0.8888888888888888,
              "#fdca26"
             ],
             [
              1,
              "#f0f921"
             ]
            ],
            "type": "heatmap"
           }
          ],
          "histogram": [
           {
            "marker": {
             "pattern": {
              "fillmode": "overlay",
              "size": 10,
              "solidity": 0.2
             }
            },
            "type": "histogram"
           }
          ],
          "histogram2d": [
           {
            "colorbar": {
             "outlinewidth": 0,
             "ticks": ""
            },
            "colorscale": [
             [
              0,
              "#0d0887"
             ],
             [
              0.1111111111111111,
              "#46039f"
             ],
             [
              0.2222222222222222,
              "#7201a8"
             ],
             [
              0.3333333333333333,
              "#9c179e"
             ],
             [
              0.4444444444444444,
              "#bd3786"
             ],
             [
              0.5555555555555556,
              "#d8576b"
             ],
             [
              0.6666666666666666,
              "#ed7953"
             ],
             [
              0.7777777777777778,
              "#fb9f3a"
             ],
             [
              0.8888888888888888,
              "#fdca26"
             ],
             [
              1,
              "#f0f921"
             ]
            ],
            "type": "histogram2d"
           }
          ],
          "histogram2dcontour": [
           {
            "colorbar": {
             "outlinewidth": 0,
             "ticks": ""
            },
            "colorscale": [
             [
              0,
              "#0d0887"
             ],
             [
              0.1111111111111111,
              "#46039f"
             ],
             [
              0.2222222222222222,
              "#7201a8"
             ],
             [
              0.3333333333333333,
              "#9c179e"
             ],
             [
              0.4444444444444444,
              "#bd3786"
             ],
             [
              0.5555555555555556,
              "#d8576b"
             ],
             [
              0.6666666666666666,
              "#ed7953"
             ],
             [
              0.7777777777777778,
              "#fb9f3a"
             ],
             [
              0.8888888888888888,
              "#fdca26"
             ],
             [
              1,
              "#f0f921"
             ]
            ],
            "type": "histogram2dcontour"
           }
          ],
          "mesh3d": [
           {
            "colorbar": {
             "outlinewidth": 0,
             "ticks": ""
            },
            "type": "mesh3d"
           }
          ],
          "parcoords": [
           {
            "line": {
             "colorbar": {
              "outlinewidth": 0,
              "ticks": ""
             }
            },
            "type": "parcoords"
           }
          ],
          "pie": [
           {
            "automargin": true,
            "type": "pie"
           }
          ],
          "scatter": [
           {
            "fillpattern": {
             "fillmode": "overlay",
             "size": 10,
             "solidity": 0.2
            },
            "type": "scatter"
           }
          ],
          "scatter3d": [
           {
            "line": {
             "colorbar": {
              "outlinewidth": 0,
              "ticks": ""
             }
            },
            "marker": {
             "colorbar": {
              "outlinewidth": 0,
              "ticks": ""
             }
            },
            "type": "scatter3d"
           }
          ],
          "scattercarpet": [
           {
            "marker": {
             "colorbar": {
              "outlinewidth": 0,
              "ticks": ""
             }
            },
            "type": "scattercarpet"
           }
          ],
          "scattergeo": [
           {
            "marker": {
             "colorbar": {
              "outlinewidth": 0,
              "ticks": ""
             }
            },
            "type": "scattergeo"
           }
          ],
          "scattergl": [
           {
            "marker": {
             "colorbar": {
              "outlinewidth": 0,
              "ticks": ""
             }
            },
            "type": "scattergl"
           }
          ],
          "scattermap": [
           {
            "marker": {
             "colorbar": {
              "outlinewidth": 0,
              "ticks": ""
             }
            },
            "type": "scattermap"
           }
          ],
          "scattermapbox": [
           {
            "marker": {
             "colorbar": {
              "outlinewidth": 0,
              "ticks": ""
             }
            },
            "type": "scattermapbox"
           }
          ],
          "scatterpolar": [
           {
            "marker": {
             "colorbar": {
              "outlinewidth": 0,
              "ticks": ""
             }
            },
            "type": "scatterpolar"
           }
          ],
          "scatterpolargl": [
           {
            "marker": {
             "colorbar": {
              "outlinewidth": 0,
              "ticks": ""
             }
            },
            "type": "scatterpolargl"
           }
          ],
          "scatterternary": [
           {
            "marker": {
             "colorbar": {
              "outlinewidth": 0,
              "ticks": ""
             }
            },
            "type": "scatterternary"
           }
          ],
          "surface": [
           {
            "colorbar": {
             "outlinewidth": 0,
             "ticks": ""
            },
            "colorscale": [
             [
              0,
              "#0d0887"
             ],
             [
              0.1111111111111111,
              "#46039f"
             ],
             [
              0.2222222222222222,
              "#7201a8"
             ],
             [
              0.3333333333333333,
              "#9c179e"
             ],
             [
              0.4444444444444444,
              "#bd3786"
             ],
             [
              0.5555555555555556,
              "#d8576b"
             ],
             [
              0.6666666666666666,
              "#ed7953"
             ],
             [
              0.7777777777777778,
              "#fb9f3a"
             ],
             [
              0.8888888888888888,
              "#fdca26"
             ],
             [
              1,
              "#f0f921"
             ]
            ],
            "type": "surface"
           }
          ],
          "table": [
           {
            "cells": {
             "fill": {
              "color": "#EBF0F8"
             },
             "line": {
              "color": "white"
             }
            },
            "header": {
             "fill": {
              "color": "#C8D4E3"
             },
             "line": {
              "color": "white"
             }
            },
            "type": "table"
           }
          ]
         },
         "layout": {
          "annotationdefaults": {
           "arrowcolor": "#2a3f5f",
           "arrowhead": 0,
           "arrowwidth": 1
          },
          "autotypenumbers": "strict",
          "coloraxis": {
           "colorbar": {
            "outlinewidth": 0,
            "ticks": ""
           }
          },
          "colorscale": {
           "diverging": [
            [
             0,
             "#8e0152"
            ],
            [
             0.1,
             "#c51b7d"
            ],
            [
             0.2,
             "#de77ae"
            ],
            [
             0.3,
             "#f1b6da"
            ],
            [
             0.4,
             "#fde0ef"
            ],
            [
             0.5,
             "#f7f7f7"
            ],
            [
             0.6,
             "#e6f5d0"
            ],
            [
             0.7,
             "#b8e186"
            ],
            [
             0.8,
             "#7fbc41"
            ],
            [
             0.9,
             "#4d9221"
            ],
            [
             1,
             "#276419"
            ]
           ],
           "sequential": [
            [
             0,
             "#0d0887"
            ],
            [
             0.1111111111111111,
             "#46039f"
            ],
            [
             0.2222222222222222,
             "#7201a8"
            ],
            [
             0.3333333333333333,
             "#9c179e"
            ],
            [
             0.4444444444444444,
             "#bd3786"
            ],
            [
             0.5555555555555556,
             "#d8576b"
            ],
            [
             0.6666666666666666,
             "#ed7953"
            ],
            [
             0.7777777777777778,
             "#fb9f3a"
            ],
            [
             0.8888888888888888,
             "#fdca26"
            ],
            [
             1,
             "#f0f921"
            ]
           ],
           "sequentialminus": [
            [
             0,
             "#0d0887"
            ],
            [
             0.1111111111111111,
             "#46039f"
            ],
            [
             0.2222222222222222,
             "#7201a8"
            ],
            [
             0.3333333333333333,
             "#9c179e"
            ],
            [
             0.4444444444444444,
             "#bd3786"
            ],
            [
             0.5555555555555556,
             "#d8576b"
            ],
            [
             0.6666666666666666,
             "#ed7953"
            ],
            [
             0.7777777777777778,
             "#fb9f3a"
            ],
            [
             0.8888888888888888,
             "#fdca26"
            ],
            [
             1,
             "#f0f921"
            ]
           ]
          },
          "colorway": [
           "#636efa",
           "#EF553B",
           "#00cc96",
           "#ab63fa",
           "#FFA15A",
           "#19d3f3",
           "#FF6692",
           "#B6E880",
           "#FF97FF",
           "#FECB52"
          ],
          "font": {
           "color": "#2a3f5f"
          },
          "geo": {
           "bgcolor": "white",
           "lakecolor": "white",
           "landcolor": "#E5ECF6",
           "showlakes": true,
           "showland": true,
           "subunitcolor": "white"
          },
          "hoverlabel": {
           "align": "left"
          },
          "hovermode": "closest",
          "mapbox": {
           "style": "light"
          },
          "paper_bgcolor": "white",
          "plot_bgcolor": "#E5ECF6",
          "polar": {
           "angularaxis": {
            "gridcolor": "white",
            "linecolor": "white",
            "ticks": ""
           },
           "bgcolor": "#E5ECF6",
           "radialaxis": {
            "gridcolor": "white",
            "linecolor": "white",
            "ticks": ""
           }
          },
          "scene": {
           "xaxis": {
            "backgroundcolor": "#E5ECF6",
            "gridcolor": "white",
            "gridwidth": 2,
            "linecolor": "white",
            "showbackground": true,
            "ticks": "",
            "zerolinecolor": "white"
           },
           "yaxis": {
            "backgroundcolor": "#E5ECF6",
            "gridcolor": "white",
            "gridwidth": 2,
            "linecolor": "white",
            "showbackground": true,
            "ticks": "",
            "zerolinecolor": "white"
           },
           "zaxis": {
            "backgroundcolor": "#E5ECF6",
            "gridcolor": "white",
            "gridwidth": 2,
            "linecolor": "white",
            "showbackground": true,
            "ticks": "",
            "zerolinecolor": "white"
           }
          },
          "shapedefaults": {
           "line": {
            "color": "#2a3f5f"
           }
          },
          "ternary": {
           "aaxis": {
            "gridcolor": "white",
            "linecolor": "white",
            "ticks": ""
           },
           "baxis": {
            "gridcolor": "white",
            "linecolor": "white",
            "ticks": ""
           },
           "bgcolor": "#E5ECF6",
           "caxis": {
            "gridcolor": "white",
            "linecolor": "white",
            "ticks": ""
           }
          },
          "title": {
           "x": 0.05
          },
          "xaxis": {
           "automargin": true,
           "gridcolor": "white",
           "linecolor": "white",
           "ticks": "",
           "title": {
            "standoff": 15
           },
           "zerolinecolor": "white",
           "zerolinewidth": 2
          },
          "yaxis": {
           "automargin": true,
           "gridcolor": "white",
           "linecolor": "white",
           "ticks": "",
           "title": {
            "standoff": 15
           },
           "zerolinecolor": "white",
           "zerolinewidth": 2
          }
         }
        },
        "xaxis": {
         "anchor": "y",
         "domain": [
          0,
          1
         ]
        },
        "yaxis": {
         "anchor": "x",
         "domain": [
          0,
          1
         ],
         "title": {
          "text": "price"
         }
        }
       }
      },
      "image/png": "[encoded data removed]"
     },
     "metadata": {},
     "output_type": "display_data"
    }
   ],
   "source": [
    "get_box_plot(processed_df,plot_parameter='price',category='studio',Status='Semi-Furnished').show()"
   ]
  },
  {
   "cell_type": "markdown",
   "id": "6b0fb224-e53e-4baf-ab8d-e6c73b8a7f90",
   "metadata": {},
   "source": [
    "# TOP COSTLIEST AREAS\n",
    "* HIGHER THE BEDROOMS THE BETTER\n",
    "* MONTHLY RENT ABOVE 40K\n",
    "* HIGHER NUMBER OF BATHROOMS\n",
    "\n"
   ]
  },
  {
   "cell_type": "code",
   "execution_count": 69,
   "id": "d10f04d1-fa81-495b-b99a-193641b87708",
   "metadata": {},
   "outputs": [
    {
     "data": {
      "text/plain": [
       "np.float64(2.0)"
      ]
     },
     "execution_count": 69,
     "metadata": {},
     "output_type": "execute_result"
    }
   ],
   "source": [
    "processed_df[processed_df['location']=='Sector 13 Rohini'].numBedrooms.median()"
   ]
  },
  {
   "cell_type": "code",
   "execution_count": 70,
   "id": "59f7c7e1-97e3-4582-bc96-423acfaf9dbb",
   "metadata": {},
   "outputs": [
    {
     "data": {
      "text/plain": [
       "np.int64(4)"
      ]
     },
     "execution_count": 70,
     "metadata": {},
     "output_type": "execute_result"
    }
   ],
   "source": [
    "processed_df[processed_df['location']=='Uttam Nagar'].numBedrooms.max()"
   ]
  },
  {
   "cell_type": "code",
   "execution_count": 71,
   "id": "5c6fc615-fb1c-4e40-853a-4d776e5f2d12",
   "metadata": {},
   "outputs": [
    {
     "data": {
      "text/html": [
       "<div>\n",
       "<style scoped>\n",
       "    .dataframe tbody tr th:only-of-type {\n",
       "        vertical-align: middle;\n",
       "    }\n",
       "\n",
       "    .dataframe tbody tr th {\n",
       "        vertical-align: top;\n",
       "    }\n",
       "\n",
       "    .dataframe thead th {\n",
       "        text-align: right;\n",
       "    }\n",
       "</style>\n",
       "<table border=\"1\" class=\"dataframe\">\n",
       "  <thead>\n",
       "    <tr style=\"text-align: right;\">\n",
       "      <th></th>\n",
       "      <th>city</th>\n",
       "      <th>house_type</th>\n",
       "      <th>house_size</th>\n",
       "      <th>numBathrooms</th>\n",
       "      <th>numBalconies</th>\n",
       "      <th>Status</th>\n",
       "      <th>monthly_rent</th>\n",
       "      <th>category</th>\n",
       "      <th>numBedrooms</th>\n",
       "      <th>price</th>\n",
       "      <th>price_per_room</th>\n",
       "    </tr>\n",
       "    <tr>\n",
       "      <th>location</th>\n",
       "      <th></th>\n",
       "      <th></th>\n",
       "      <th></th>\n",
       "      <th></th>\n",
       "      <th></th>\n",
       "      <th></th>\n",
       "      <th></th>\n",
       "      <th></th>\n",
       "      <th></th>\n",
       "      <th></th>\n",
       "      <th></th>\n",
       "    </tr>\n",
       "  </thead>\n",
       "  <tbody>\n",
       "    <tr>\n",
       "      <th>Block E Lajpat Nagar I</th>\n",
       "      <td>1</td>\n",
       "      <td>1</td>\n",
       "      <td>1</td>\n",
       "      <td>1</td>\n",
       "      <td>1</td>\n",
       "      <td>1</td>\n",
       "      <td>1</td>\n",
       "      <td>1</td>\n",
       "      <td>1</td>\n",
       "      <td>1</td>\n",
       "      <td>1</td>\n",
       "    </tr>\n",
       "    <tr>\n",
       "      <th>Block MP Poorvi Pitampura</th>\n",
       "      <td>1</td>\n",
       "      <td>1</td>\n",
       "      <td>1</td>\n",
       "      <td>1</td>\n",
       "      <td>1</td>\n",
       "      <td>1</td>\n",
       "      <td>1</td>\n",
       "      <td>1</td>\n",
       "      <td>1</td>\n",
       "      <td>1</td>\n",
       "      <td>1</td>\n",
       "    </tr>\n",
       "    <tr>\n",
       "      <th>Block PP Poorvi Pitampura</th>\n",
       "      <td>1</td>\n",
       "      <td>1</td>\n",
       "      <td>1</td>\n",
       "      <td>1</td>\n",
       "      <td>1</td>\n",
       "      <td>1</td>\n",
       "      <td>1</td>\n",
       "      <td>1</td>\n",
       "      <td>1</td>\n",
       "      <td>1</td>\n",
       "      <td>1</td>\n",
       "    </tr>\n",
       "    <tr>\n",
       "      <th>Block WP Poorvi Pitampura</th>\n",
       "      <td>1</td>\n",
       "      <td>1</td>\n",
       "      <td>1</td>\n",
       "      <td>1</td>\n",
       "      <td>1</td>\n",
       "      <td>1</td>\n",
       "      <td>1</td>\n",
       "      <td>1</td>\n",
       "      <td>1</td>\n",
       "      <td>1</td>\n",
       "      <td>1</td>\n",
       "    </tr>\n",
       "    <tr>\n",
       "      <th>Central Ridge Reserve Forest</th>\n",
       "      <td>1</td>\n",
       "      <td>1</td>\n",
       "      <td>1</td>\n",
       "      <td>1</td>\n",
       "      <td>0</td>\n",
       "      <td>1</td>\n",
       "      <td>1</td>\n",
       "      <td>1</td>\n",
       "      <td>1</td>\n",
       "      <td>1</td>\n",
       "      <td>1</td>\n",
       "    </tr>\n",
       "    <tr>\n",
       "      <th>...</th>\n",
       "      <td>...</td>\n",
       "      <td>...</td>\n",
       "      <td>...</td>\n",
       "      <td>...</td>\n",
       "      <td>...</td>\n",
       "      <td>...</td>\n",
       "      <td>...</td>\n",
       "      <td>...</td>\n",
       "      <td>...</td>\n",
       "      <td>...</td>\n",
       "      <td>...</td>\n",
       "    </tr>\n",
       "    <tr>\n",
       "      <th>Jor bagh</th>\n",
       "      <td>125</td>\n",
       "      <td>125</td>\n",
       "      <td>125</td>\n",
       "      <td>125</td>\n",
       "      <td>113</td>\n",
       "      <td>125</td>\n",
       "      <td>125</td>\n",
       "      <td>125</td>\n",
       "      <td>125</td>\n",
       "      <td>125</td>\n",
       "      <td>125</td>\n",
       "    </tr>\n",
       "    <tr>\n",
       "      <th>Chattarpur</th>\n",
       "      <td>145</td>\n",
       "      <td>145</td>\n",
       "      <td>145</td>\n",
       "      <td>145</td>\n",
       "      <td>58</td>\n",
       "      <td>145</td>\n",
       "      <td>145</td>\n",
       "      <td>145</td>\n",
       "      <td>145</td>\n",
       "      <td>145</td>\n",
       "      <td>145</td>\n",
       "    </tr>\n",
       "    <tr>\n",
       "      <th>Vasant Vihar</th>\n",
       "      <td>145</td>\n",
       "      <td>145</td>\n",
       "      <td>145</td>\n",
       "      <td>145</td>\n",
       "      <td>128</td>\n",
       "      <td>145</td>\n",
       "      <td>145</td>\n",
       "      <td>145</td>\n",
       "      <td>145</td>\n",
       "      <td>145</td>\n",
       "      <td>145</td>\n",
       "    </tr>\n",
       "    <tr>\n",
       "      <th>Greater kailash 1</th>\n",
       "      <td>153</td>\n",
       "      <td>153</td>\n",
       "      <td>153</td>\n",
       "      <td>151</td>\n",
       "      <td>68</td>\n",
       "      <td>153</td>\n",
       "      <td>153</td>\n",
       "      <td>153</td>\n",
       "      <td>153</td>\n",
       "      <td>153</td>\n",
       "      <td>153</td>\n",
       "    </tr>\n",
       "    <tr>\n",
       "      <th>Defence Colony</th>\n",
       "      <td>189</td>\n",
       "      <td>189</td>\n",
       "      <td>189</td>\n",
       "      <td>185</td>\n",
       "      <td>74</td>\n",
       "      <td>189</td>\n",
       "      <td>189</td>\n",
       "      <td>189</td>\n",
       "      <td>189</td>\n",
       "      <td>189</td>\n",
       "      <td>189</td>\n",
       "    </tr>\n",
       "  </tbody>\n",
       "</table>\n",
       "<p>288 rows × 11 columns</p>\n",
       "</div>"
      ],
      "text/plain": [
       "                              city  house_type  house_size  numBathrooms  \\\n",
       "location                                                                   \n",
       "Block E Lajpat Nagar I           1           1           1             1   \n",
       "Block MP Poorvi Pitampura        1           1           1             1   \n",
       "Block PP Poorvi Pitampura        1           1           1             1   \n",
       "Block WP Poorvi Pitampura        1           1           1             1   \n",
       "Central Ridge Reserve Forest     1           1           1             1   \n",
       "...                            ...         ...         ...           ...   \n",
       "Jor bagh                       125         125         125           125   \n",
       "Chattarpur                     145         145         145           145   \n",
       "Vasant Vihar                   145         145         145           145   \n",
       "Greater kailash 1              153         153         153           151   \n",
       "Defence Colony                 189         189         189           185   \n",
       "\n",
       "                              numBalconies  Status  monthly_rent  category  \\\n",
       "location                                                                     \n",
       "Block E Lajpat Nagar I                   1       1             1         1   \n",
       "Block MP Poorvi Pitampura                1       1             1         1   \n",
       "Block PP Poorvi Pitampura                1       1             1         1   \n",
       "Block WP Poorvi Pitampura                1       1             1         1   \n",
       "Central Ridge Reserve Forest             0       1             1         1   \n",
       "...                                    ...     ...           ...       ...   \n",
       "Jor bagh                               113     125           125       125   \n",
       "Chattarpur                              58     145           145       145   \n",
       "Vasant Vihar                           128     145           145       145   \n",
       "Greater kailash 1                       68     153           153       153   \n",
       "Defence Colony                          74     189           189       189   \n",
       "\n",
       "                              numBedrooms  price  price_per_room  \n",
       "location                                                          \n",
       "Block E Lajpat Nagar I                  1      1               1  \n",
       "Block MP Poorvi Pitampura               1      1               1  \n",
       "Block PP Poorvi Pitampura               1      1               1  \n",
       "Block WP Poorvi Pitampura               1      1               1  \n",
       "Central Ridge Reserve Forest            1      1               1  \n",
       "...                                   ...    ...             ...  \n",
       "Jor bagh                              125    125             125  \n",
       "Chattarpur                            145    145             145  \n",
       "Vasant Vihar                          145    145             145  \n",
       "Greater kailash 1                     153    153             153  \n",
       "Defence Colony                        189    189             189  \n",
       "\n",
       "[288 rows x 11 columns]"
      ]
     },
     "execution_count": 71,
     "metadata": {},
     "output_type": "execute_result"
    }
   ],
   "source": [
    "processed_df.groupby('location').count().sort_values(by=['house_type'])"
   ]
  },
  {
   "cell_type": "code",
   "execution_count": 72,
   "id": "90e3fdf2-65a0-427b-8f04-5310e24f5c9d",
   "metadata": {},
   "outputs": [],
   "source": [
    "#median distribution of bedrooms\n",
    "median=processed_df.groupby('location')['numBedrooms'].median().sort_values(ascending=False)"
   ]
  },
  {
   "cell_type": "code",
   "execution_count": 73,
   "id": "ff458b83-ba43-4d87-a3fa-3f715ffec9e1",
   "metadata": {},
   "outputs": [
    {
     "name": "stdout",
     "output_type": "stream",
     "text": [
      "location\n",
      "DLF Farms                   8.0\n",
      "Shakti Nagar                6.0\n",
      "Sheikh Sarai Village        6.0\n",
      "Lodhi Estate                5.0\n",
      "Lodhi Gardens               5.0\n",
      "                           ... \n",
      "Freedom Fighters Enclave    1.0\n",
      "SectorB Vasant Kunj         1.0\n",
      "Shahdara                    1.0\n",
      "Shakurpur Colony            1.0\n",
      "Sundar Nagar                1.0\n",
      "Name: numBedrooms, Length: 288, dtype: float64\n"
     ]
    }
   ],
   "source": [
    "print(median)"
   ]
  },
  {
   "cell_type": "code",
   "execution_count": 74,
   "id": "1e10072a-a4c6-48be-b8f1-24721c9e4f9d",
   "metadata": {},
   "outputs": [
    {
     "name": "stdout",
     "output_type": "stream",
     "text": [
      "monthly_rent\n",
      "3010101    12\n",
      "854612     10\n",
      "900000     10\n",
      "1010102     9\n",
      "400000      9\n",
      "           ..\n",
      "18800       1\n",
      "19100       1\n",
      "19700       1\n",
      "3500        1\n",
      "3000        1\n",
      "Name: numBedrooms, Length: 709, dtype: int64\n"
     ]
    }
   ],
   "source": [
    "median=processed_df.groupby('monthly_rent')['numBedrooms'].max().sort_values(ascending=False)\n",
    "print(median)"
   ]
  },
  {
   "cell_type": "code",
   "execution_count": 75,
   "id": "a2a2e562-8b51-4391-89f8-d2fa007dcab6",
   "metadata": {},
   "outputs": [
    {
     "name": "stdout",
     "output_type": "stream",
     "text": [
      "monthly_rent\n",
      "2236212    2.236212e+08\n",
      "2162295    2.162295e+08\n",
      "2011005    2.011005e+08\n",
      "2010105    2.010105e+08\n",
      "2000000    2.000000e+08\n",
      "               ...     \n",
      "3600       1.440000e+06\n",
      "3500       1.400000e+06\n",
      "3000       1.200000e+06\n",
      "4000       1.066667e+06\n",
      "4999       9.998000e+05\n",
      "Name: price_per_room, Length: 709, dtype: float64\n"
     ]
    }
   ],
   "source": [
    "median_bedroom=processed_df.groupby('monthly_rent')['price_per_room'].median().sort_values(ascending=False)\n",
    "print(median_bedroom)"
   ]
  },
  {
   "cell_type": "code",
   "execution_count": 76,
   "id": "e41cd594-5bbe-4b7d-8c68-39baf90f9806",
   "metadata": {},
   "outputs": [
    {
     "data": {
      "text/plain": [
       "location\n",
       "Central Ridge Reserve Forest    800000000.0\n",
       "Babar Road                      567272800.0\n",
       "Malcha Marg                     560440400.0\n",
       "DLF Farms                       560000000.0\n",
       "Kasturba Gandhi Marg            533841200.0\n",
       "                                   ...     \n",
       "Nangloi                           2400000.0\n",
       "Shakurpur Colony                  2000000.0\n",
       "Santnagar                         1999600.0\n",
       "dda flat                          1800000.0\n",
       "Sector 34 Rohini                  1440000.0\n",
       "Name: price, Length: 288, dtype: float64"
      ]
     },
     "execution_count": 76,
     "metadata": {},
     "output_type": "execute_result"
    }
   ],
   "source": [
    "processed_df.groupby('location')['price'].median().sort_values(ascending=False)"
   ]
  },
  {
   "cell_type": "code",
   "execution_count": 77,
   "id": "ae631e1a-be62-4959-ab65-76bc0f7d6356",
   "metadata": {
    "scrolled": true
   },
   "outputs": [
    {
     "data": {
      "text/html": [
       "<div>\n",
       "<style scoped>\n",
       "    .dataframe tbody tr th:only-of-type {\n",
       "        vertical-align: middle;\n",
       "    }\n",
       "\n",
       "    .dataframe tbody tr th {\n",
       "        vertical-align: top;\n",
       "    }\n",
       "\n",
       "    .dataframe thead th {\n",
       "        text-align: right;\n",
       "    }\n",
       "</style>\n",
       "<table border=\"1\" class=\"dataframe\">\n",
       "  <thead>\n",
       "    <tr style=\"text-align: right;\">\n",
       "      <th></th>\n",
       "      <th>price</th>\n",
       "      <th>monthly_rent</th>\n",
       "      <th>numBedrooms</th>\n",
       "    </tr>\n",
       "    <tr>\n",
       "      <th>location</th>\n",
       "      <th></th>\n",
       "      <th></th>\n",
       "      <th></th>\n",
       "    </tr>\n",
       "  </thead>\n",
       "  <tbody>\n",
       "    <tr>\n",
       "      <th>Central Ridge Reserve Forest</th>\n",
       "      <td>8.000000e+08</td>\n",
       "      <td>2.000000e+06</td>\n",
       "      <td>4.000000</td>\n",
       "    </tr>\n",
       "    <tr>\n",
       "      <th>Kasturba Gandhi Marg</th>\n",
       "      <td>5.926126e+08</td>\n",
       "      <td>1.481532e+06</td>\n",
       "      <td>4.500000</td>\n",
       "    </tr>\n",
       "    <tr>\n",
       "      <th>Aurungzeb Road</th>\n",
       "      <td>5.727868e+08</td>\n",
       "      <td>1.431967e+06</td>\n",
       "      <td>4.909091</td>\n",
       "    </tr>\n",
       "    <tr>\n",
       "      <th>Amrita Shergill Marg</th>\n",
       "      <td>5.599622e+08</td>\n",
       "      <td>1.399905e+06</td>\n",
       "      <td>5.153846</td>\n",
       "    </tr>\n",
       "    <tr>\n",
       "      <th>Lodhi Road</th>\n",
       "      <td>5.501864e+08</td>\n",
       "      <td>1.375466e+06</td>\n",
       "      <td>4.500000</td>\n",
       "    </tr>\n",
       "    <tr>\n",
       "      <th>...</th>\n",
       "      <td>...</td>\n",
       "      <td>...</td>\n",
       "      <td>...</td>\n",
       "    </tr>\n",
       "    <tr>\n",
       "      <th>Burari</th>\n",
       "      <td>2.333333e+06</td>\n",
       "      <td>5.833333e+03</td>\n",
       "      <td>2.000000</td>\n",
       "    </tr>\n",
       "    <tr>\n",
       "      <th>Shakurpur Colony</th>\n",
       "      <td>2.000000e+06</td>\n",
       "      <td>5.000000e+03</td>\n",
       "      <td>1.000000</td>\n",
       "    </tr>\n",
       "    <tr>\n",
       "      <th>Santnagar</th>\n",
       "      <td>1.999600e+06</td>\n",
       "      <td>4.999000e+03</td>\n",
       "      <td>2.000000</td>\n",
       "    </tr>\n",
       "    <tr>\n",
       "      <th>dda flat</th>\n",
       "      <td>1.800000e+06</td>\n",
       "      <td>4.500000e+03</td>\n",
       "      <td>1.000000</td>\n",
       "    </tr>\n",
       "    <tr>\n",
       "      <th>Sector 34 Rohini</th>\n",
       "      <td>1.440000e+06</td>\n",
       "      <td>3.600000e+03</td>\n",
       "      <td>1.000000</td>\n",
       "    </tr>\n",
       "  </tbody>\n",
       "</table>\n",
       "<p>288 rows × 3 columns</p>\n",
       "</div>"
      ],
      "text/plain": [
       "                                     price  monthly_rent  numBedrooms\n",
       "location                                                             \n",
       "Central Ridge Reserve Forest  8.000000e+08  2.000000e+06     4.000000\n",
       "Kasturba Gandhi Marg          5.926126e+08  1.481532e+06     4.500000\n",
       "Aurungzeb Road                5.727868e+08  1.431967e+06     4.909091\n",
       "Amrita Shergill Marg          5.599622e+08  1.399905e+06     5.153846\n",
       "Lodhi Road                    5.501864e+08  1.375466e+06     4.500000\n",
       "...                                    ...           ...          ...\n",
       "Burari                        2.333333e+06  5.833333e+03     2.000000\n",
       "Shakurpur Colony              2.000000e+06  5.000000e+03     1.000000\n",
       "Santnagar                     1.999600e+06  4.999000e+03     2.000000\n",
       "dda flat                      1.800000e+06  4.500000e+03     1.000000\n",
       "Sector 34 Rohini              1.440000e+06  3.600000e+03     1.000000\n",
       "\n",
       "[288 rows x 3 columns]"
      ]
     },
     "execution_count": 77,
     "metadata": {},
     "output_type": "execute_result"
    }
   ],
   "source": [
    "processed_df.groupby('location')[['price','monthly_rent','numBedrooms']].mean().sort_values(by='monthly_rent',ascending=False)\n"
   ]
  },
  {
   "cell_type": "markdown",
   "id": "248dafab-01fd-4262-b63f-fdc576477a97",
   "metadata": {},
   "source": [
    "# USE-CASE SEARCH QUERIES"
   ]
  },
  {
   "cell_type": "markdown",
   "id": "42fe7c76-5ef3-4eb7-98a3-eb631ee0ba44",
   "metadata": {},
   "source": [
    "# 1) A family of 3 wanting the cheapest apartment in delhi\n",
    "### CONSTRAINTS\n",
    "* ATLEAST 2BHK\n",
    "* STATUS= FURNISHED"
   ]
  },
  {
   "cell_type": "code",
   "execution_count": 78,
   "id": "2c7d2209-c6e7-4498-ac86-b2164172a1c3",
   "metadata": {},
   "outputs": [],
   "source": [
    "search=processed_df[\n",
    "    (processed_df['Status']=='Furnished')&\n",
    "    (processed_df['numBedrooms']>2)\n",
    "]"
   ]
  },
  {
   "cell_type": "code",
   "execution_count": 79,
   "id": "6f3f1915-44f6-4d3d-96b7-054885858aee",
   "metadata": {},
   "outputs": [],
   "source": [
    "abc=search.groupby(['location','monthly_rent'])['price'].min().sort_values().head(1)"
   ]
  },
  {
   "cell_type": "code",
   "execution_count": 80,
   "id": "af4ea31e-8b06-4c0f-ad4b-923a69bd896b",
   "metadata": {},
   "outputs": [
    {
     "name": "stdout",
     "output_type": "stream",
     "text": [
      "location     monthly_rent\n",
      "Uttam Nagar  4000            1600000.0\n",
      "Name: price, dtype: float64\n"
     ]
    }
   ],
   "source": [
    "print(abc)"
   ]
  },
  {
   "cell_type": "markdown",
   "id": "fe0a748a-e91b-4050-8621-99c6f5dd6a62",
   "metadata": {},
   "source": [
    "### FINDINGS \n",
    "UTTAM NAGAR SHOULD BE THE PERFECT CHOICE FOR THE FAMILY"
   ]
  },
  {
   "cell_type": "markdown",
   "id": "ecdb6ce8-5324-47fa-b1a2-6e54dff05982",
   "metadata": {},
   "source": [
    "# 2) A BUSINESSMAN WANTING THE BEST APARTMENT IN DELHI \n",
    "### CONSTRAINTS\n",
    "* NO. OF BEDROOMS MORE THAN 4\n",
    "* NO. OF BALCONIES MORE THAN 2"
   ]
  },
  {
   "cell_type": "code",
   "execution_count": 64,
   "id": "ce52533e-6a61-465e-9f82-cb7b3d3f5326",
   "metadata": {},
   "outputs": [],
   "source": [
    "search=processed_df[\n",
    "    (processed_df['numBedrooms']>4)&\n",
    "    (processed_df['numBalconies']>2)\n",
    "]"
   ]
  },
  {
   "cell_type": "code",
   "execution_count": 65,
   "id": "ccd7b2bf-9188-496d-8a4d-cc603701972e",
   "metadata": {},
   "outputs": [],
   "source": [
    "xyz=search.groupby(['location','monthly_rent'])['category'].max().sort_values(ascending=False).head(1)\n"
   ]
  },
  {
   "cell_type": "code",
   "execution_count": 66,
   "id": "18860f3f-9d31-4368-94dd-e2a226c71d2a",
   "metadata": {},
   "outputs": [
    {
     "name": "stdout",
     "output_type": "stream",
     "text": [
      "location              monthly_rent\n",
      "Amrita Shergill Marg  1201102         villa\n",
      "Name: category, dtype: object\n"
     ]
    }
   ],
   "source": [
    "print(xyz)"
   ]
  },
  {
   "cell_type": "markdown",
   "id": "3d613124-75a6-479a-87f4-0249c9b29128",
   "metadata": {},
   "source": [
    "### FINDINGS\n",
    "THE BEST CHOICE FOR THE BUSINESSMAN WOULD BE A VILLA IN 'AMRITA SHERGILL MARG' CONSIDERING HIS CONSTRAINTS"
   ]
  },
  {
   "cell_type": "markdown",
   "id": "c80ddb47-9885-4ef1-ab4e-aa6d4023356e",
   "metadata": {},
   "source": [
    "# 3) A STRUGGLING ARTIST WANTS A RENTAL IN DELHI\n",
    "### CONSTRAINTS\n",
    "* SHOULD BE A STUDIO APARTMENT\n",
    "* MONTHLY RENT LESS THAN 30K"
   ]
  },
  {
   "cell_type": "code",
   "execution_count": 67,
   "id": "fd153340-67bc-4fff-a175-c9a51b836c7c",
   "metadata": {},
   "outputs": [],
   "source": [
    "search=processed_df[\n",
    "    (processed_df['category']=='studio')&\n",
    "    (processed_df['monthly_rent']<30000)\n",
    "    \n",
    "]      "
   ]
  },
  {
   "cell_type": "code",
   "execution_count": 68,
   "id": "6233f406-75cf-4c9d-ba1b-73062f165fbf",
   "metadata": {},
   "outputs": [
    {
     "name": "stdout",
     "output_type": "stream",
     "text": [
      "location\n",
      "Uttam Nagar    3000\n",
      "Name: monthly_rent, dtype: int64\n"
     ]
    }
   ],
   "source": [
    "xyz=search.groupby('location')['monthly_rent'].min().sort_values().head(1)\n",
    "print(xyz)"
   ]
  },
  {
   "cell_type": "markdown",
   "id": "bf86934e-b0b0-433d-be95-90aafa3ab9d2",
   "metadata": {},
   "source": [
    "### FINDINGS\n",
    "THE STUIDO APARTMENT IN UTTAM NAGAR WOULD BE THE BEST CHOICE FOR THE ARTIST\n",
    "\n"
   ]
  },
  {
   "cell_type": "markdown",
   "id": "3c2e9079-e57f-4d26-8cd8-0cfb934b3a26",
   "metadata": {},
   "source": [
    "## LETS SEE IF HE WANTS A SPECIFIC FURNISHING STATUS, LETS SAY SEMI-FURNISHED"
   ]
  },
  {
   "cell_type": "code",
   "execution_count": 69,
   "id": "edb7cd2a-3bc8-44f8-bfa2-c9117b8f6392",
   "metadata": {},
   "outputs": [],
   "source": [
    "search=processed_df[\n",
    "    (processed_df['category']=='studio')&\n",
    "    (processed_df['monthly_rent']<30000)&\n",
    "    (processed_df['Status']=='Semi-Furnished')\n",
    "    \n",
    "]      "
   ]
  },
  {
   "cell_type": "code",
   "execution_count": 70,
   "id": "8ba93534-b681-4836-9a56-32c83edd9bb0",
   "metadata": {},
   "outputs": [
    {
     "name": "stdout",
     "output_type": "stream",
     "text": [
      "location     Status          price    \n",
      "Uttam Nagar  Semi-Furnished  1200000.0    3000\n",
      "Name: monthly_rent, dtype: int64\n"
     ]
    }
   ],
   "source": [
    "xyz=search.groupby(['location','Status','price'])['monthly_rent'].min().sort_values().head(1)\n",
    "print(xyz)"
   ]
  },
  {
   "cell_type": "code",
   "execution_count": 71,
   "id": "27e9c73e-6b03-4cbd-add9-f185666f0386",
   "metadata": {},
   "outputs": [],
   "source": [
    "#what if he increases his budget now to lets say more than 50k per mmonth, rest all constant\n",
    "search=processed_df[\n",
    "    (processed_df['category']=='studio')&\n",
    "    (processed_df['monthly_rent']>=50000)&\n",
    "    (processed_df['Status']=='Semi-Furnished')\n",
    "    \n",
    "]      "
   ]
  },
  {
   "cell_type": "code",
   "execution_count": 72,
   "id": "f16aa6eb-976d-473c-9a34-2396f482f10e",
   "metadata": {},
   "outputs": [
    {
     "name": "stdout",
     "output_type": "stream",
     "text": [
      "Series([], Name: monthly_rent, dtype: int64)\n"
     ]
    }
   ],
   "source": [
    "xyz=search.groupby(['location','Status','price'])['monthly_rent'].min().sort_values().head(1)\n",
    "print(xyz)"
   ]
  },
  {
   "cell_type": "markdown",
   "id": "3799d56e-a2bd-4e59-9ca5-89c0a857d672",
   "metadata": {},
   "source": [
    "THERE'S NO SUCH APARTMENT IN DELHI WITH ALL THE CONSTRAINTS, LETS RELAX THE CONSTRAINTS A BIT\n",
    "\n",
    "* STATUS IS NOT DEFINED \n",
    "* BUDGET LOWERED TO MORE THAN 30K/PM"
   ]
  },
  {
   "cell_type": "code",
   "execution_count": 73,
   "id": "9cb53b2c-c6f3-4ba0-8c58-4e5dcbaa72fb",
   "metadata": {},
   "outputs": [],
   "source": [
    "search=processed_df[\n",
    "    (processed_df['category']=='studio')&\n",
    "    (processed_df['monthly_rent']>=30000)\n",
    "    \n",
    "]      "
   ]
  },
  {
   "cell_type": "code",
   "execution_count": 74,
   "id": "fdf1c441-caff-4098-9ac0-d1c9d17690b9",
   "metadata": {},
   "outputs": [
    {
     "name": "stdout",
     "output_type": "stream",
     "text": [
      "location            category  Status     price     \n",
      "Panchsheel Enclave  studio    Furnished  13200000.0    33000\n",
      "Name: monthly_rent, dtype: int64\n"
     ]
    }
   ],
   "source": [
    "xyz=search.groupby(['location','category','Status','price'])['monthly_rent'].min().sort_values().head(1)\n",
    "print(xyz)"
   ]
  },
  {
   "cell_type": "markdown",
   "id": "743b2535-7f2a-4e6e-ad31-a036c7cd9dcb",
   "metadata": {},
   "source": [
    "THE STUDIO APARTMENT IN PANCHSHEEL ENCLAVE SHOULD BE THE BEST CHOICE FOR THE ARTIST IF HIS BUDGET IS AROUND 30-35K"
   ]
  },
  {
   "cell_type": "markdown",
   "id": "e5113e5d-73cb-446f-a9b4-2206e876cef1",
   "metadata": {},
   "source": [
    "# 4)An HNI(HIGH NET-WORTH INDIVIDUAL) WANTS A PENTHOUSE IN DELHI\n",
    "### CONSTRAINTS\n",
    "* CATEGORY --> APARTMENT\n",
    "* STATUS --> SEMI FURNISHED OR FURNISHED"
   ]
  },
  {
   "cell_type": "code",
   "execution_count": null,
   "id": "5fc92731-f729-4613-af6a-04d4187801b2",
   "metadata": {},
   "outputs": [],
   "source": [
    "penthouse=processed_df[\n",
    "    (processed_df['category']=='apartment')&\n",
    "    (processed_df['Status'].isin(['Semi-Furnished', \"Furnished\"]))\n",
    "]"
   ]
  },
  {
   "cell_type": "code",
   "execution_count": null,
   "id": "ce8a37f7-2b4f-47a0-a2d1-ad312eca5dda",
   "metadata": {},
   "outputs": [],
   "source": [
    "search=penthouse.groupby(['location','monthly_rent','Status'])['price'].max().sort_values(ascending=False).head(1)\n",
    "print(search)"
   ]
  },
  {
   "cell_type": "markdown",
   "id": "5b66a969-a0c0-49a2-ac6a-397f98233d40",
   "metadata": {},
   "source": [
    "### THE PENTHOUSE IN 'DLF FARMS' SHOULD BE THE BEST CHOICE FOR THE BUSINESSMAN GIVEN HIS CONDITIONS"
   ]
  },
  {
   "cell_type": "markdown",
   "id": "c844f917-e31a-4f13-8f10-2f33fdd0866a",
   "metadata": {},
   "source": [
    "# STAGE 5-- \n",
    "\n",
    "## NOW WHAT IF SOMEONE WANTS A RENTAL IN SOME SPECIFIC LOCATIONS IN DELHI"
   ]
  },
  {
   "cell_type": "code",
   "execution_count": 75,
   "id": "0259662d-96e2-4197-a0c6-061f7024a4ee",
   "metadata": {},
   "outputs": [
    {
     "data": {
      "text/plain": [
       "location\n",
       "Amrita Shergill Marg            3010101\n",
       "Aurungzeb Road                  2491184\n",
       "Tilak Marg                      2236212\n",
       "Tuglak Road                     2162955\n",
       "Kasturba Gandhi Marg            2154919\n",
       "Lodhi Road                      2011005\n",
       "Malcha Marg                     2010102\n",
       "Golf Links                      2010101\n",
       "Central Ridge Reserve Forest    2000000\n",
       "Jor bagh                        1749194\n",
       "Name: monthly_rent, dtype: int64"
      ]
     },
     "execution_count": 75,
     "metadata": {},
     "output_type": "execute_result"
    }
   ],
   "source": [
    "processed_df.groupby('location')['monthly_rent'].max().sort_values(ascending=False).head(10)"
   ]
  },
  {
   "cell_type": "markdown",
   "id": "2cd0b9e1-097c-4091-b747-a64a2fa92b34",
   "metadata": {},
   "source": [
    "THESE ARE ALL THE HIGHEST RENTAL PREMIUM AREAS IN DELHI, WE WILL WORK ON THIS FOR NOW"
   ]
  },
  {
   "cell_type": "markdown",
   "id": "79dfc61d-7bb3-4d8e-9b0d-6c74efd6df48",
   "metadata": {},
   "source": [
    "## A FAMILY MIGRATING FROM MAHARASHTRA WANTS AN APARTMENT IN 'GOLF LINKS'? LETS GET THEM WHAT THEY WANT\n",
    "CONSTRAINTS-\n",
    "* SHOULD BE SEMI-FURNISHED OR FURNISHED\n",
    "* MONTHLY RENT SHOULD BE UNDER 250K\n",
    "* MINIMUM 3 BEDROOMS"
   ]
  },
  {
   "cell_type": "code",
   "execution_count": 76,
   "id": "e8480a17-e71b-43e4-9279-ff96b5aa8e50",
   "metadata": {},
   "outputs": [],
   "source": [
    "golf_link=processed_df[\n",
    "    (processed_df['Status'].isin(['Semi-Furnished','Furnished']))&\n",
    "    (processed_df['location']=='Golf Links')&\n",
    "    (processed_df['monthly_rent']<250000)&\n",
    "    (processed_df['numBedrooms']>=3)\n",
    "]"
   ]
  },
  {
   "cell_type": "code",
   "execution_count": 77,
   "id": "8c7ca0ac-e436-4973-814c-88ffb6e024c9",
   "metadata": {},
   "outputs": [
    {
     "name": "stdout",
     "output_type": "stream",
     "text": [
      "       city    location                house_type  numBathrooms  numBalconies  \\\n",
      "1120  Delhi  Golf Links  3 BHK Independent Floor            4.0           NaN   \n",
      "\n",
      "              Status  monthly_rent  house_size       price  numBedrooms  \\\n",
      "1120  Semi-Furnished        225000        2100  90000000.0            3   \n",
      "\n",
      "      price_per_room  price_per_sqft   category  \n",
      "1120      30000000.0    42857.142857  apartment  \n"
     ]
    }
   ],
   "source": [
    "golf_link.groupby(['location','numBedrooms','Status'])['monthly_rent'].max().sort_values(ascending=False).head(1)\n",
    "print(golf_link)"
   ]
  },
  {
   "cell_type": "markdown",
   "id": "090fef37-339f-4682-91ad-ddc635e75f6e",
   "metadata": {},
   "source": [
    "### THE 3BHK INDEPENDENT FLOOR IN GOLF LINKS WITH A MONTHLY RENT OF LESS THAN 250K SHOULD BE THE BEST GUESS FOR THE FAMILY"
   ]
  },
  {
   "cell_type": "code",
   "execution_count": 78,
   "id": "5c6943ce-0bf5-4f9e-ae19-773b867fed6e",
   "metadata": {},
   "outputs": [
    {
     "data": {
      "text/html": [
       "<div>\n",
       "<style scoped>\n",
       "    .dataframe tbody tr th:only-of-type {\n",
       "        vertical-align: middle;\n",
       "    }\n",
       "\n",
       "    .dataframe tbody tr th {\n",
       "        vertical-align: top;\n",
       "    }\n",
       "\n",
       "    .dataframe thead th {\n",
       "        text-align: right;\n",
       "    }\n",
       "</style>\n",
       "<table border=\"1\" class=\"dataframe\">\n",
       "  <thead>\n",
       "    <tr style=\"text-align: right;\">\n",
       "      <th></th>\n",
       "      <th>city</th>\n",
       "      <th>location</th>\n",
       "      <th>house_type</th>\n",
       "      <th>numBathrooms</th>\n",
       "      <th>numBalconies</th>\n",
       "      <th>Status</th>\n",
       "      <th>monthly_rent</th>\n",
       "      <th>house_size</th>\n",
       "      <th>price</th>\n",
       "      <th>numBedrooms</th>\n",
       "      <th>price_per_room</th>\n",
       "      <th>price_per_sqft</th>\n",
       "      <th>category</th>\n",
       "    </tr>\n",
       "  </thead>\n",
       "  <tbody>\n",
       "    <tr>\n",
       "      <th>0</th>\n",
       "      <td>Delhi</td>\n",
       "      <td>Kalkaji</td>\n",
       "      <td>1 RK Studio Apartment</td>\n",
       "      <td>1.0</td>\n",
       "      <td>NaN</td>\n",
       "      <td>Furnished</td>\n",
       "      <td>22000</td>\n",
       "      <td>400</td>\n",
       "      <td>8800000.0</td>\n",
       "      <td>1</td>\n",
       "      <td>8800000.0</td>\n",
       "      <td>22000.0</td>\n",
       "      <td>studio</td>\n",
       "    </tr>\n",
       "    <tr>\n",
       "      <th>1</th>\n",
       "      <td>Delhi</td>\n",
       "      <td>Mansarover Garden</td>\n",
       "      <td>1 RK Studio Apartment</td>\n",
       "      <td>1.0</td>\n",
       "      <td>NaN</td>\n",
       "      <td>Furnished</td>\n",
       "      <td>20000</td>\n",
       "      <td>400</td>\n",
       "      <td>8000000.0</td>\n",
       "      <td>1</td>\n",
       "      <td>8000000.0</td>\n",
       "      <td>20000.0</td>\n",
       "      <td>studio</td>\n",
       "    </tr>\n",
       "    <tr>\n",
       "      <th>2</th>\n",
       "      <td>Delhi</td>\n",
       "      <td>Uttam Nagar</td>\n",
       "      <td>2 BHK Independent Floor</td>\n",
       "      <td>1.0</td>\n",
       "      <td>NaN</td>\n",
       "      <td>Semi-Furnished</td>\n",
       "      <td>8500</td>\n",
       "      <td>500</td>\n",
       "      <td>3400000.0</td>\n",
       "      <td>2</td>\n",
       "      <td>1700000.0</td>\n",
       "      <td>6800.0</td>\n",
       "      <td>apartment</td>\n",
       "    </tr>\n",
       "    <tr>\n",
       "      <th>3</th>\n",
       "      <td>Delhi</td>\n",
       "      <td>Model Town</td>\n",
       "      <td>3 BHK Independent House</td>\n",
       "      <td>3.0</td>\n",
       "      <td>NaN</td>\n",
       "      <td>Furnished</td>\n",
       "      <td>48000</td>\n",
       "      <td>1020</td>\n",
       "      <td>19200000.0</td>\n",
       "      <td>3</td>\n",
       "      <td>6400000.0</td>\n",
       "      <td>18823.529412</td>\n",
       "      <td>villa</td>\n",
       "    </tr>\n",
       "    <tr>\n",
       "      <th>4</th>\n",
       "      <td>Delhi</td>\n",
       "      <td>Sector 13 Rohini</td>\n",
       "      <td>2 BHK Apartment</td>\n",
       "      <td>2.0</td>\n",
       "      <td>NaN</td>\n",
       "      <td>Unfurnished</td>\n",
       "      <td>20000</td>\n",
       "      <td>810</td>\n",
       "      <td>8000000.0</td>\n",
       "      <td>2</td>\n",
       "      <td>4000000.0</td>\n",
       "      <td>9876.54321</td>\n",
       "      <td>apartment</td>\n",
       "    </tr>\n",
       "  </tbody>\n",
       "</table>\n",
       "</div>"
      ],
      "text/plain": [
       "    city           location                house_type  numBathrooms  \\\n",
       "0  Delhi            Kalkaji    1 RK Studio Apartment            1.0   \n",
       "1  Delhi  Mansarover Garden    1 RK Studio Apartment            1.0   \n",
       "2  Delhi        Uttam Nagar  2 BHK Independent Floor            1.0   \n",
       "3  Delhi         Model Town  3 BHK Independent House            3.0   \n",
       "4  Delhi   Sector 13 Rohini          2 BHK Apartment            2.0   \n",
       "\n",
       "   numBalconies          Status  monthly_rent  house_size       price  \\\n",
       "0           NaN       Furnished         22000         400   8800000.0   \n",
       "1           NaN       Furnished         20000         400   8000000.0   \n",
       "2           NaN  Semi-Furnished          8500         500   3400000.0   \n",
       "3           NaN       Furnished         48000        1020  19200000.0   \n",
       "4           NaN     Unfurnished         20000         810   8000000.0   \n",
       "\n",
       "   numBedrooms  price_per_room  price_per_sqft   category  \n",
       "0            1       8800000.0         22000.0     studio  \n",
       "1            1       8000000.0         20000.0     studio  \n",
       "2            2       1700000.0          6800.0  apartment  \n",
       "3            3       6400000.0    18823.529412      villa  \n",
       "4            2       4000000.0      9876.54321  apartment  "
      ]
     },
     "execution_count": 78,
     "metadata": {},
     "output_type": "execute_result"
    }
   ],
   "source": [
    "processed_df.head()"
   ]
  },
  {
   "cell_type": "markdown",
   "id": "68186e7b-901a-4f53-81a7-befb2743c2a8",
   "metadata": {},
   "source": [
    "# 5) A MIDDLE CLASS FAMILY WANTING 2BHK APARTMENT\n",
    "### CONSTRAINTS\n",
    "* Preferred Location: Moti Nagar\n",
    "* House Type: 2 BHK Apartment\n",
    "* Monthly Rent: ₹25,000 to ₹30,000\n",
    "* Status: Semi-furnished"
   ]
  },
  {
   "cell_type": "code",
   "execution_count": 79,
   "id": "f3a5391c-c76c-499f-a62b-388393882091",
   "metadata": {},
   "outputs": [],
   "source": [
    "house=processed_df[\n",
    "    (processed_df['location']=='Moti Nagar')&\n",
    "    (processed_df['category']=='apartment')&\n",
    "    (processed_df['numBedrooms']==2)&\n",
    "    (processed_df['Status']=='Semi-Furnished')&\n",
    "    (processed_df['monthly_rent']<30000)\n",
    "]"
   ]
  },
  {
   "cell_type": "code",
   "execution_count": 80,
   "id": "30bada27-640a-45a4-b41e-9be4aba291e3",
   "metadata": {},
   "outputs": [
    {
     "name": "stdout",
     "output_type": "stream",
     "text": [
      "location    Status          category   numBedrooms\n",
      "Moti Nagar  Semi-Furnished  apartment  2              18000\n",
      "Name: monthly_rent, dtype: int64\n"
     ]
    }
   ],
   "source": [
    "xyz=house.groupby(['location','Status','category','numBedrooms'])['monthly_rent'].max().sort_values().head(1)\n",
    "print(xyz)"
   ]
  },
  {
   "cell_type": "markdown",
   "id": "ce4da2a7-5e9a-49fb-bbd7-22584d7c3361",
   "metadata": {},
   "source": [
    "# 4)THE APARTMENT IN MOTI-NAGAR FOR 18K /PM IS THE BEST CHOICE"
   ]
  },
  {
   "cell_type": "markdown",
   "id": "1958d789-9b30-46d1-89c6-c8fe6985dda2",
   "metadata": {},
   "source": [
    "## Young Married Couple – Mid Budget\n",
    "\n",
    "* City: Delhi\n",
    "* Location: Paschim Vihar\n",
    "* House Type: 2 BHK Apartment\n",
    "* House Size: 900–1100 sq ft\n",
    "* numBathrooms: At least 2\n",
    "* numBalconies: Minimum 1\n",
    "* Status: Semi-furnished\n",
    "* Monthly Rent: ₹22,000–₹35,000\n"
   ]
  },
  {
   "cell_type": "code",
   "execution_count": 81,
   "id": "c8e52a66-249d-4b4e-8b5c-354cf6795bb0",
   "metadata": {},
   "outputs": [],
   "source": [
    "search=processed_df[\n",
    "    (processed_df['location']=='Paschim Vihar')&\n",
    "    (processed_df['numBedrooms']==2)&\n",
    "    (processed_df['Status'].isin(['Semi-Furnished','Furnished']))&\n",
    "    (processed_df['monthly_rent']>28000)&\n",
    "    (processed_df['price_per_room']>12000)\n",
    "]"
   ]
  },
  {
   "cell_type": "code",
   "execution_count": 82,
   "id": "744c9ef2-b6fa-4b33-8c5e-ca22fb18751b",
   "metadata": {},
   "outputs": [
    {
     "name": "stdout",
     "output_type": "stream",
     "text": [
      "location       Status     numBedrooms  price_per_room\n",
      "Paschim Vihar  Furnished  2            6400000.0         32000\n",
      "Name: monthly_rent, dtype: int64\n"
     ]
    }
   ],
   "source": [
    "xyz=search.groupby(['location','Status','numBedrooms','price_per_room'])['monthly_rent'].min().sort_values().head(1)\n",
    "print(xyz)"
   ]
  },
  {
   "cell_type": "code",
   "execution_count": 83,
   "id": "21228170-9114-4a91-877b-aa2c66783321",
   "metadata": {},
   "outputs": [
    {
     "data": {
      "text/html": [
       "<div>\n",
       "<style scoped>\n",
       "    .dataframe tbody tr th:only-of-type {\n",
       "        vertical-align: middle;\n",
       "    }\n",
       "\n",
       "    .dataframe tbody tr th {\n",
       "        vertical-align: top;\n",
       "    }\n",
       "\n",
       "    .dataframe thead th {\n",
       "        text-align: right;\n",
       "    }\n",
       "</style>\n",
       "<table border=\"1\" class=\"dataframe\">\n",
       "  <thead>\n",
       "    <tr style=\"text-align: right;\">\n",
       "      <th></th>\n",
       "      <th>city</th>\n",
       "      <th>location</th>\n",
       "      <th>house_type</th>\n",
       "      <th>numBathrooms</th>\n",
       "      <th>numBalconies</th>\n",
       "      <th>Status</th>\n",
       "      <th>monthly_rent</th>\n",
       "      <th>house_size</th>\n",
       "      <th>price</th>\n",
       "      <th>numBedrooms</th>\n",
       "      <th>price_per_room</th>\n",
       "      <th>price_per_sqft</th>\n",
       "      <th>category</th>\n",
       "    </tr>\n",
       "  </thead>\n",
       "  <tbody>\n",
       "    <tr>\n",
       "      <th>0</th>\n",
       "      <td>Delhi</td>\n",
       "      <td>Kalkaji</td>\n",
       "      <td>1 RK Studio Apartment</td>\n",
       "      <td>1.0</td>\n",
       "      <td>NaN</td>\n",
       "      <td>Furnished</td>\n",
       "      <td>22000</td>\n",
       "      <td>400</td>\n",
       "      <td>8800000.0</td>\n",
       "      <td>1</td>\n",
       "      <td>8800000.0</td>\n",
       "      <td>22000.0</td>\n",
       "      <td>studio</td>\n",
       "    </tr>\n",
       "    <tr>\n",
       "      <th>1</th>\n",
       "      <td>Delhi</td>\n",
       "      <td>Mansarover Garden</td>\n",
       "      <td>1 RK Studio Apartment</td>\n",
       "      <td>1.0</td>\n",
       "      <td>NaN</td>\n",
       "      <td>Furnished</td>\n",
       "      <td>20000</td>\n",
       "      <td>400</td>\n",
       "      <td>8000000.0</td>\n",
       "      <td>1</td>\n",
       "      <td>8000000.0</td>\n",
       "      <td>20000.0</td>\n",
       "      <td>studio</td>\n",
       "    </tr>\n",
       "    <tr>\n",
       "      <th>2</th>\n",
       "      <td>Delhi</td>\n",
       "      <td>Uttam Nagar</td>\n",
       "      <td>2 BHK Independent Floor</td>\n",
       "      <td>1.0</td>\n",
       "      <td>NaN</td>\n",
       "      <td>Semi-Furnished</td>\n",
       "      <td>8500</td>\n",
       "      <td>500</td>\n",
       "      <td>3400000.0</td>\n",
       "      <td>2</td>\n",
       "      <td>1700000.0</td>\n",
       "      <td>6800.0</td>\n",
       "      <td>apartment</td>\n",
       "    </tr>\n",
       "    <tr>\n",
       "      <th>3</th>\n",
       "      <td>Delhi</td>\n",
       "      <td>Model Town</td>\n",
       "      <td>3 BHK Independent House</td>\n",
       "      <td>3.0</td>\n",
       "      <td>NaN</td>\n",
       "      <td>Furnished</td>\n",
       "      <td>48000</td>\n",
       "      <td>1020</td>\n",
       "      <td>19200000.0</td>\n",
       "      <td>3</td>\n",
       "      <td>6400000.0</td>\n",
       "      <td>18823.529412</td>\n",
       "      <td>villa</td>\n",
       "    </tr>\n",
       "    <tr>\n",
       "      <th>4</th>\n",
       "      <td>Delhi</td>\n",
       "      <td>Sector 13 Rohini</td>\n",
       "      <td>2 BHK Apartment</td>\n",
       "      <td>2.0</td>\n",
       "      <td>NaN</td>\n",
       "      <td>Unfurnished</td>\n",
       "      <td>20000</td>\n",
       "      <td>810</td>\n",
       "      <td>8000000.0</td>\n",
       "      <td>2</td>\n",
       "      <td>4000000.0</td>\n",
       "      <td>9876.54321</td>\n",
       "      <td>apartment</td>\n",
       "    </tr>\n",
       "  </tbody>\n",
       "</table>\n",
       "</div>"
      ],
      "text/plain": [
       "    city           location                house_type  numBathrooms  \\\n",
       "0  Delhi            Kalkaji    1 RK Studio Apartment            1.0   \n",
       "1  Delhi  Mansarover Garden    1 RK Studio Apartment            1.0   \n",
       "2  Delhi        Uttam Nagar  2 BHK Independent Floor            1.0   \n",
       "3  Delhi         Model Town  3 BHK Independent House            3.0   \n",
       "4  Delhi   Sector 13 Rohini          2 BHK Apartment            2.0   \n",
       "\n",
       "   numBalconies          Status  monthly_rent  house_size       price  \\\n",
       "0           NaN       Furnished         22000         400   8800000.0   \n",
       "1           NaN       Furnished         20000         400   8000000.0   \n",
       "2           NaN  Semi-Furnished          8500         500   3400000.0   \n",
       "3           NaN       Furnished         48000        1020  19200000.0   \n",
       "4           NaN     Unfurnished         20000         810   8000000.0   \n",
       "\n",
       "   numBedrooms  price_per_room  price_per_sqft   category  \n",
       "0            1       8800000.0         22000.0     studio  \n",
       "1            1       8000000.0         20000.0     studio  \n",
       "2            2       1700000.0          6800.0  apartment  \n",
       "3            3       6400000.0    18823.529412      villa  \n",
       "4            2       4000000.0      9876.54321  apartment  "
      ]
     },
     "execution_count": 83,
     "metadata": {},
     "output_type": "execute_result"
    }
   ],
   "source": [
    "processed_df.head()"
   ]
  },
  {
   "cell_type": "code",
   "execution_count": null,
   "id": "d12a750d-2feb-4bc8-b289-e11944be1b71",
   "metadata": {},
   "outputs": [],
   "source": []
  }
 ],
 "metadata": {
  "kernelspec": {
   "display_name": "Python 3 (ipykernel)",
   "language": "python",
   "name": "python3"
  },
  "language_info": {
   "codemirror_mode": {
    "name": "ipython",
    "version": 3
   },
   "file_extension": ".py",
   "mimetype": "text/x-python",
   "name": "python",
   "nbconvert_exporter": "python",
   "pygments_lexer": "ipython3",
   "version": "3.13.4"
  }
 },
 "nbformat": 4,
 "nbformat_minor": 5
}
